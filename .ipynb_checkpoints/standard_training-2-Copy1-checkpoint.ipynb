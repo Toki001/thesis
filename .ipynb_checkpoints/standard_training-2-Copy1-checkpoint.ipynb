{
 "cells": [
  {
   "cell_type": "code",
   "execution_count": 1,
   "id": "cb5a725a97da07f1",
   "metadata": {
    "ExecuteTime": {
     "end_time": "2025-08-22T11:37:30.174138Z",
     "start_time": "2025-08-22T11:37:28.699288Z"
    }
   },
   "outputs": [
    {
     "name": "stdout",
     "output_type": "stream",
     "text": [
      "GPU is available ✅\n",
      "TensorFlow is using device: /physical_device:GPU:0\n"
     ]
    }
   ],
   "source": [
    "import tensorflow as tf\n",
    "\n",
    "# Get the list of physical GPU devices\n",
    "gpus = tf.config.list_physical_devices('GPU')\n",
    "\n",
    "if gpus:\n",
    "    # If a GPU is available, it means the Metal plugin is active on Apple Silicon\n",
    "    \n",
    "    # FIX: Use the simplified name for tf.device()\n",
    "    device = 'GPU:0' \n",
    "    \n",
    "    print(\"GPU is available ✅\")\n",
    "    # You can still print the full name for confirmation\n",
    "    print(f\"TensorFlow is using device: {gpus[0].name}\") \n",
    "else:\n",
    "    # If no GPU is found, TensorFlow will fall back to the CPU\n",
    "    device = \"CPU:0\"\n",
    "    print(\"GPU not available ❌, using CPU\")"
   ]
  },
  {
   "cell_type": "code",
   "execution_count": 2,
   "id": "416f554c-a667-46b2-8ba6-8c7a6742d591",
   "metadata": {},
   "outputs": [],
   "source": [
    "import gc\n",
    "import psutil\n",
    "import os\n",
    "import numpy\n",
    "import tensorflow as tf\n",
    "\n",
    "def memory_report():\n",
    "    \"\"\"\n",
    "    Reports the memory usage of TensorFlow tensors and the total process RSS.\n",
    "    \"\"\"\n",
    "    total_elements = 0\n",
    "    total_bytes = 0\n",
    "\n",
    "    for obj in gc.get_objects():\n",
    "        try:\n",
    "            if tf.is_tensor(obj):\n",
    "                # FIX: .numpy() converts the Tensor to a standard number\n",
    "                num_elements = tf.size(obj).numpy()\n",
    "                total_elements += num_elements\n",
    "                total_bytes += num_elements * obj.dtype.size\n",
    "        except Exception:\n",
    "            pass\n",
    "\n",
    "    total_mb = total_bytes / (1024 ** 2)\n",
    "\n",
    "    process = psutil.Process(os.getpid())\n",
    "    rss_mb = process.memory_info().rss / (1024 ** 2)\n",
    "\n",
    "    print(\"\\n--- MEMORY USAGE REPORT ---\")\n",
    "    print(f\"Tensors Allocated: {total_elements:,}\")\n",
    "    print(f\"Tensor Memory:     {total_mb:.2f} MB\")\n",
    "    print(f\"Process RSS:       {rss_mb:.2f} MB\")\n",
    "    print(\"---------------------------\\n\")\n"
   ]
  },
  {
   "cell_type": "code",
   "execution_count": 3,
   "id": "23d50c3f254a094",
   "metadata": {
    "ExecuteTime": {
     "end_time": "2025-08-22T11:37:30.640403Z",
     "start_time": "2025-08-22T11:37:30.634211Z"
    }
   },
   "outputs": [
    {
     "name": "stdout",
     "output_type": "stream",
     "text": [
      "Allocating a large tensor to test...\n"
     ]
    },
    {
     "name": "stderr",
     "output_type": "stream",
     "text": [
      "2025-08-24 14:49:40.701377: I metal_plugin/src/device/metal_device.cc:1154] Metal device set to: Apple M3 Pro\n",
      "2025-08-24 14:49:40.701479: I metal_plugin/src/device/metal_device.cc:296] systemMemory: 18.00 GB\n",
      "2025-08-24 14:49:40.701493: I metal_plugin/src/device/metal_device.cc:313] maxCacheSize: 6.00 GB\n",
      "WARNING: All log messages before absl::InitializeLog() is called are written to STDERR\n",
      "I0000 00:00:1756018180.701529   70308 pluggable_device_factory.cc:305] Could not identify NUMA node of platform GPU ID 0, defaulting to 0. Your kernel may not have been built with NUMA support.\n",
      "I0000 00:00:1756018180.701579   70308 pluggable_device_factory.cc:271] Created TensorFlow device (/job:localhost/replica:0/task:0/device:GPU:0 with 0 MB memory) -> physical PluggableDevice (device: 0, name: METAL, pci bus id: <undefined>)\n"
     ]
    },
    {
     "name": "stdout",
     "output_type": "stream",
     "text": [
      "\n",
      "--- MEMORY USAGE REPORT ---\n",
      "Tensors Allocated: 64,000,000\n"
     ]
    },
    {
     "ename": "TypeError",
     "evalue": "unsupported format string passed to numpy.ndarray.__format__",
     "output_type": "error",
     "traceback": [
      "\u001b[0;31m---------------------------------------------------------------------------\u001b[0m",
      "\u001b[0;31mTypeError\u001b[0m                                 Traceback (most recent call last)",
      "Cell \u001b[0;32mIn[3], line 10\u001b[0m\n\u001b[1;32m      7\u001b[0m     x \u001b[38;5;241m=\u001b[39m tf\u001b[38;5;241m.\u001b[39mrandom\u001b[38;5;241m.\u001b[39muniform((\u001b[38;5;241m8000\u001b[39m, \u001b[38;5;241m8000\u001b[39m))\n\u001b[1;32m      9\u001b[0m \u001b[38;5;66;03m# Check memory usage after allocation\u001b[39;00m\n\u001b[0;32m---> 10\u001b[0m \u001b[43mmemory_report\u001b[49m\u001b[43m(\u001b[49m\u001b[43m)\u001b[49m\n",
      "Cell \u001b[0;32mIn[2], line 31\u001b[0m, in \u001b[0;36mmemory_report\u001b[0;34m()\u001b[0m\n\u001b[1;32m     29\u001b[0m \u001b[38;5;28mprint\u001b[39m(\u001b[38;5;124m\"\u001b[39m\u001b[38;5;130;01m\\n\u001b[39;00m\u001b[38;5;124m--- MEMORY USAGE REPORT ---\u001b[39m\u001b[38;5;124m\"\u001b[39m)\n\u001b[1;32m     30\u001b[0m \u001b[38;5;28mprint\u001b[39m(\u001b[38;5;124mf\u001b[39m\u001b[38;5;124m\"\u001b[39m\u001b[38;5;124mTensors Allocated: \u001b[39m\u001b[38;5;132;01m{\u001b[39;00mtotal_elements\u001b[38;5;132;01m:\u001b[39;00m\u001b[38;5;124m,\u001b[39m\u001b[38;5;132;01m}\u001b[39;00m\u001b[38;5;124m\"\u001b[39m)\n\u001b[0;32m---> 31\u001b[0m \u001b[38;5;28mprint\u001b[39m(\u001b[38;5;124mf\u001b[39m\u001b[38;5;124m\"\u001b[39m\u001b[38;5;124mTensor Memory:     \u001b[39m\u001b[38;5;132;01m{\u001b[39;00mtotal_mb\u001b[38;5;132;01m:\u001b[39;00m\u001b[38;5;124m.2f\u001b[39m\u001b[38;5;132;01m}\u001b[39;00m\u001b[38;5;124m MB\u001b[39m\u001b[38;5;124m\"\u001b[39m)\n\u001b[1;32m     32\u001b[0m \u001b[38;5;28mprint\u001b[39m(\u001b[38;5;124mf\u001b[39m\u001b[38;5;124m\"\u001b[39m\u001b[38;5;124mProcess RSS:       \u001b[39m\u001b[38;5;132;01m{\u001b[39;00mrss_mb\u001b[38;5;132;01m:\u001b[39;00m\u001b[38;5;124m.2f\u001b[39m\u001b[38;5;132;01m}\u001b[39;00m\u001b[38;5;124m MB\u001b[39m\u001b[38;5;124m\"\u001b[39m)\n\u001b[1;32m     33\u001b[0m \u001b[38;5;28mprint\u001b[39m(\u001b[38;5;124m\"\u001b[39m\u001b[38;5;124m---------------------------\u001b[39m\u001b[38;5;130;01m\\n\u001b[39;00m\u001b[38;5;124m\"\u001b[39m)\n",
      "\u001b[0;31mTypeError\u001b[0m: unsupported format string passed to numpy.ndarray.__format__"
     ]
    }
   ],
   "source": [
    "# The 'device' variable is assumed to have been set previously (e.g., \"/GPU:0\" or \"/CPU:0\")\n",
    "\n",
    "print(\"Allocating a large tensor to test...\")\n",
    "\n",
    "# Explicitly place the tensor on the detected device using a 'with' block\n",
    "with tf.device(device):\n",
    "    x = tf.random.uniform((8000, 8000))\n",
    "\n",
    "# Check memory usage after allocation\n",
    "memory_report()"
   ]
  },
  {
   "cell_type": "code",
   "execution_count": 4,
   "id": "initial_id",
   "metadata": {
    "ExecuteTime": {
     "end_time": "2025-08-22T11:37:32.339066Z",
     "start_time": "2025-08-22T11:37:31.874542Z"
    }
   },
   "outputs": [],
   "source": [
    "import albumentations as A\n",
    "import tensorflow as tf\n",
    "\n",
    "# The core augmentations are IDENTICAL\n",
    "training_pipeline = A.Compose([\n",
    "    A.Resize(height=224, width=224),\n",
    "    A.RandomCrop(height=180, width=180, p=1.0),\n",
    "    A.Resize(height=224, width=224),\n",
    "    A.HorizontalFlip(p=0.5),\n",
    "    A.VerticalFlip(p=0.5),\n",
    "    A.Rotate(limit=45, p=0.4),\n",
    "    A.RandomBrightnessContrast(brightness_limit=(-0.3, 0.3), contrast_limit=(-0.2, 0.2), p=0.4),\n",
    "    A.ColorJitter(brightness=0.2, contrast=0.2, saturation=0.2, hue=0.2, p=0.4),\n",
    "    A.OneOf([\n",
    "        A.GaussNoise(var_limit=(10.0, 50.0), p=0.4), # std_range is deprecated, use var_limit\n",
    "        A.RandomRain(slant_range=(-15, 15), drop_length=15, drop_width=1, rain_type=\"default\", blur_value=7, p=0.4),\n",
    "        A.CoarseDropout(max_holes=3, max_height=int(224*0.25), max_width=int(224*0.25), fill_value=0, p=0.4) # updated params\n",
    "    ], p=0.5),\n",
    "    A.Normalize(mean=(0.485, 0.456, 0.406), std=(0.229, 0.224, 0.225))\n",
    "])\n",
    "\n",
    "validation_pipeline = A.Compose([\n",
    "    A.Resize(height=224, width=224),\n",
    "    A.Normalize(mean=(0.485, 0.456, 0.406), std=(0.229, 0.224, 0.225))\n",
    "])\n",
    "\n",
    "basic_pipeline = A.Compose([\n",
    "    A.Resize(height=224, width=224),\n",
    "    A.HorizontalFlip(p=0.6),\n",
    "    A.VerticalFlip(p=0.6),\n",
    "    A.Rotate(limit=(-45,45), p=0.7),\n",
    "    A.Normalize(mean=(0.485, 0.456, 0.406), std=(0.229, 0.224, 0.225))\n",
    "])"
   ]
  },
  {
   "cell_type": "code",
   "execution_count": null,
   "id": "bf741d88-5486-45a9-88bd-a6fec1790d17",
   "metadata": {},
   "outputs": [],
   "source": []
  },
  {
   "cell_type": "code",
   "execution_count": 5,
   "id": "b5a4c7c7-3b0c-4e4f-8251-bacb3719ea4b",
   "metadata": {},
   "outputs": [],
   "source": [
    "import random\n",
    "import shutil\n",
    "from pathlib import Path\n",
    "from tqdm import tqdm\n",
    "\n",
    "def physically_split_dataset(source_dir, base_dir, split_ratios=(0.7, 0.2, 0.1)):\n",
    "    \"\"\"\n",
    "    Copies files from a source directory into train, validation, and test subdirectories.\n",
    "    \n",
    "    Args:\n",
    "        source_dir (str): Path to the directory with class subfolders.\n",
    "        base_dir (str): Path to the destination directory where train/val/test will be created.\n",
    "        split_ratios (tuple): A tuple of (train, val, test) ratios. Must sum to 1.\n",
    "    \"\"\"\n",
    "    if not (0.999 < sum(split_ratios) < 1.001):\n",
    "        raise ValueError('split_ratios must sum to 1')\n",
    "\n",
    "    source_path = Path(source_dir)\n",
    "    base_path = Path(base_dir)\n",
    "\n",
    "    print(f\"Deleting old directory {base_path} if it exists...\")\n",
    "    if base_path.exists() and base_path.is_dir():\n",
    "        shutil.rmtree(base_path)\n",
    "\n",
    "    if not source_path.is_dir():\n",
    "        print(f'Source directory {source_path.name} does not exist')\n",
    "        return\n",
    "\n",
    "    # Define paths for train, test, and validation sets\n",
    "    train_path = base_path / 'train'\n",
    "    val_path = base_path / 'val'\n",
    "    test_path = base_path / 'test'\n",
    "\n",
    "    # Get class names from the source directory's subfolders\n",
    "    class_names = [d.name for d in source_path.iterdir() if d.is_dir()]\n",
    "    if not class_names:\n",
    "        print(f'Source directory {source_path.name} does not contain any class subdirectories.')\n",
    "        return\n",
    "\n",
    "    # Create the necessary directories\n",
    "    for directory in [train_path, test_path, val_path]:\n",
    "        for class_name in class_names:\n",
    "            (directory / class_name).mkdir(parents=True, exist_ok=True)\n",
    "\n",
    "    # Copy files for each class\n",
    "    for class_name in class_names:\n",
    "        class_source_path = source_path / class_name\n",
    "        files = [f for f in class_source_path.iterdir() if f.is_file()]\n",
    "        random.shuffle(files)\n",
    "\n",
    "        # Calculate split points\n",
    "        total_files = len(files)\n",
    "        train_end = int(total_files * split_ratios[0])\n",
    "        val_end = train_end + int(total_files * split_ratios[1])\n",
    "\n",
    "        # Define which files go to which split\n",
    "        splits = {\n",
    "            'train': (files[:train_end], train_path),\n",
    "            'val': (files[train_end:val_end], val_path),\n",
    "            'test': (files[val_end:], test_path)\n",
    "        }\n",
    "        \n",
    "        print(f\"\\nProcessing class: {class_name}\")\n",
    "        # Copy files with a progress bar\n",
    "        for split_name, (file_list, dest_path) in splits.items():\n",
    "            dest_class_path = dest_path / class_name\n",
    "            for file_path in tqdm(file_list, desc=f'  Copying {split_name} files', unit='files'):\n",
    "                shutil.copy2(file_path, dest_class_path / file_path.name)\n",
    "    \n",
    "    print(\"\\nData splitting and copying successful! ✅\")\n",
    "\n",
    "# --- Example Usage ---\n",
    "# SOURCE_DIR = 'path/to/your/raw_images'\n",
    "# DEST_DIR = 'path/to/your/processed_dataset'\n",
    "# physically_split_dataset(SOURCE_DIR, DEST_DIR)"
   ]
  },
  {
   "cell_type": "code",
   "execution_count": 6,
   "id": "6daf511998047715",
   "metadata": {
    "ExecuteTime": {
     "end_time": "2025-08-22T11:37:34.399829Z",
     "start_time": "2025-08-22T11:37:33.356129Z"
    }
   },
   "outputs": [],
   "source": [
    "import tensorflow as tf\n",
    "import albumentations as A\n",
    "\n",
    "# Assume 'training_pipeline' is an Albumentations pipeline\n",
    "# defined as in the previous examples.\n",
    "training_pipeline = A.Compose([\n",
    "    A.Resize(height=224, width=224),\n",
    "    A.HorizontalFlip(p=0.5),\n",
    "    A.Rotate(limit=25, p=0.4),\n",
    "    A.Normalize(mean=(0.485, 0.456, 0.406), std=(0.229, 0.224, 0.225)),\n",
    "])\n",
    "\n",
    "# 1. Wrapper function to apply Albumentations augmentations.\n",
    "# This is the logic from your __getitem__ method.\n",
    "def augment_image(image):\n",
    "    # The image is already a tensor, so convert it to a NumPy array for Albumentations.\n",
    "    image_np = image.numpy()\n",
    "    \n",
    "    # Albumentations expects 'image' as a keyword argument.\n",
    "    augmented = training_pipeline(image=image_np)\n",
    "    \n",
    "    return augmented['image']\n",
    "\n",
    "# 2. Function to integrate the wrapper into the TensorFlow graph.\n",
    "def process_data(image, label):\n",
    "    # Use tf.py_function to run the Python code (OpenCV, Albumentations).\n",
    "    # inp=[image]: input to the python function.\n",
    "    # Tout=tf.float32: the output data type.\n",
    "    aug_img = tf.py_function(func=augment_image, inp=[image], Tout=tf.float32)\n",
    "    \n",
    "    # The shape must be set manually after py_function.\n",
    "    aug_img.set_shape([224, 224, 3])\n",
    "    \n",
    "    return aug_img, label\n",
    "\n",
    "# 3. Create the dataset using the high-level utility.\n",
    "DATA_DIR = 'path/to/your/images'\n",
    "BATCH_SIZE = 32\n",
    "IMAGE_SIZE = (224, 224)\n",
    "\n",
    "# This replaces `datasets.ImageFolder`. It reads images and infers labels.\n",
    "# It loads images as RGB tensors, so no cv2.cvtColor is needed.\n",
    "train_ds = tf.keras.utils.image_dataset_from_directory(\n",
    "    DATA_DIR,\n",
    "    labels='inferred',\n",
    "    label_mode='categorical',\n",
    "    image_size=IMAGE_SIZE,\n",
    "    batch_size=BATCH_SIZE,\n",
    "    shuffle=True\n",
    ")\n",
    "\n",
    "# 4. Apply the augmentation and optimize the pipeline.\n",
    "# Unbatch the dataset to apply augmentation image by image.\n",
    "train_ds = train_ds.unbatch()\n",
    "\n",
    "# Map the processing function. AUTOTUNE lets TensorFlow handle parallelization.\n",
    "train_ds = train_ds.map(process_data, num_parallel_calls=tf.data.AUTOTUNE)\n",
    "\n",
    "# Re-batch the data and prefetch for performance.\n",
    "train_ds = train_ds.batch(BATCH_SIZE).prefetch(tf.data.AUTOTUNE)\n",
    "\n",
    "# Now `train_ds` is ready to be passed to model.fit()\n",
    "# for image_batch, label_batch in train_ds.take(1):\n",
    "#     print(image_batch.shape)\n",
    "#     print(label_batch.shape)"
   ]
  },
  {
   "cell_type": "code",
   "execution_count": 7,
   "id": "40053fea-6363-4dbc-935a-2946ffc1c922",
   "metadata": {},
   "outputs": [
    {
     "name": "stdout",
     "output_type": "stream",
     "text": [
      "Copying sheath_blight to /Users/jameskierdoliguez/Desktop/rice_leaf/aug_dataset\n"
     ]
    },
    {
     "name": "stderr",
     "output_type": "stream",
     "text": [
      "Copying train files: 100%|████████████████| 1104/1104 [00:00<00:00, 2106.27it/s]\n",
      "Copying test files: 100%|███████████████████| 315/315 [00:00<00:00, 2293.31it/s]\n",
      "Copying val files: 100%|████████████████████| 159/159 [00:00<00:00, 2399.57it/s]\n"
     ]
    },
    {
     "name": "stdout",
     "output_type": "stream",
     "text": [
      "Copying sheath_blight finished!\n",
      "Copying Brownspot to /Users/jameskierdoliguez/Desktop/rice_leaf/aug_dataset\n"
     ]
    },
    {
     "name": "stderr",
     "output_type": "stream",
     "text": [
      "Copying train files: 100%|████████████████| 1050/1050 [00:00<00:00, 3723.12it/s]\n",
      "Copying test files: 100%|███████████████████| 300/300 [00:00<00:00, 3859.41it/s]\n",
      "Copying val files: 100%|████████████████████| 151/151 [00:00<00:00, 3344.19it/s]\n"
     ]
    },
    {
     "name": "stdout",
     "output_type": "stream",
     "text": [
      "Copying Brownspot finished!\n",
      "Copying Blast to /Users/jameskierdoliguez/Desktop/rice_leaf/aug_dataset\n"
     ]
    },
    {
     "name": "stderr",
     "output_type": "stream",
     "text": [
      "Copying train files: 100%|████████████████| 1007/1007 [00:00<00:00, 3246.89it/s]\n",
      "Copying test files: 100%|███████████████████| 288/288 [00:00<00:00, 3263.53it/s]\n",
      "Copying val files: 100%|████████████████████| 145/145 [00:00<00:00, 2224.81it/s]\n"
     ]
    },
    {
     "name": "stdout",
     "output_type": "stream",
     "text": [
      "Copying Blast finished!\n",
      "Copying Bacterialblight to /Users/jameskierdoliguez/Desktop/rice_leaf/aug_dataset\n"
     ]
    },
    {
     "name": "stderr",
     "output_type": "stream",
     "text": [
      "Copying train files: 100%|████████████████| 1108/1108 [00:00<00:00, 3040.81it/s]\n",
      "Copying test files: 100%|███████████████████| 316/316 [00:00<00:00, 3341.19it/s]\n",
      "Copying val files: 100%|████████████████████| 160/160 [00:00<00:00, 3436.42it/s]\n"
     ]
    },
    {
     "name": "stdout",
     "output_type": "stream",
     "text": [
      "Copying Bacterialblight finished!\n",
      "Copying Tungro to /Users/jameskierdoliguez/Desktop/rice_leaf/aug_dataset\n"
     ]
    },
    {
     "name": "stderr",
     "output_type": "stream",
     "text": [
      "Copying train files: 100%|██████████████████| 915/915 [00:00<00:00, 3679.21it/s]\n",
      "Copying test files: 100%|███████████████████| 261/261 [00:00<00:00, 3678.55it/s]\n",
      "Copying val files: 100%|████████████████████| 132/132 [00:00<00:00, 3550.00it/s]"
     ]
    },
    {
     "name": "stdout",
     "output_type": "stream",
     "text": [
      "Copying Tungro finished!\n",
      "Data splitting successful!\n"
     ]
    },
    {
     "name": "stderr",
     "output_type": "stream",
     "text": [
      "\n"
     ]
    }
   ],
   "source": [
    "source_data_dir = '/Users/jameskierdoliguez/Desktop/rice_leaf/dataset'\n",
    "base_data_dir = '/Users/jameskierdoliguez/Desktop/rice_leaf/aug_dataset'\n",
    "\n",
    "if not source_data_dir or not base_data_dir:\n",
    "    raise ValueError('Source and base data directory not found')\n",
    "\n",
    "prepare_image_datasets(source_data_dir, base_data_dir, split_ratios=(0.7, 0.2, 0.1))import tensorflow as tf\n",
    "\n",
    "# Define the paths created by your script in Step 1\n",
    "PROCESSED_DIR = 'path/to/your/processed_dataset' # Same as DEST_DIR above\n",
    "TRAIN_PATH = f\"{PROCESSED_DIR}/train\"\n",
    "VAL_PATH = f\"{PROCESSED_DIR}/val\"\n",
    "TEST_PATH = f\"{PROCESSED_DIR}/test\"\n",
    "\n",
    "IMAGE_SIZE = (224, 224)\n",
    "BATCH_SIZE = 32\n",
    "\n",
    "# Load the training dataset from the 'train' directory\n",
    "# No 'validation_split' is needed because the folders are already split.\n",
    "train_ds = tf.keras.utils.image_dataset_from_directory(\n",
    "    TRAIN_PATH,\n",
    "    label_mode='categorical',\n",
    "    image_size=IMAGE_SIZE,\n",
    "    batch_size=BATCH_SIZE\n",
    ")\n",
    "\n",
    "# Load the validation dataset from the 'val' directory\n",
    "val_ds = tf.keras.utils.image_dataset_from_directory(\n",
    "    VAL_PATH,\n",
    "    label_mode='categorical',\n",
    "    image_size=IMAGE_SIZE,\n",
    "    batch_size=BATCH_SIZE\n",
    ")\n",
    "\n",
    "# Load the test dataset from the 'test' directory\n",
    "test_ds = tf.keras.utils.image_dataset_from_directory(\n",
    "    TEST_PATH,\n",
    "    label_mode='categorical',\n",
    "    image_size=IMAGE_SIZE,\n",
    "    batch_size=BATCH_SIZE\n",
    ")\n",
    "\n",
    "print(\"\\nAll datasets loaded successfully from the physically split directories! 🤖\")\n",
    "\n",
    "# Your datasets are now ready to be used for training a model.\n",
    "# e.g., model.fit(train_ds, validation_data=val_ds, epochs=10)"
   ]
  },
  {
   "cell_type": "code",
   "execution_count": 7,
   "id": "8172f748d43e758a",
   "metadata": {
    "ExecuteTime": {
     "end_time": "2025-08-22T11:37:36.104378Z",
     "start_time": "2025-08-22T11:37:36.095528Z"
    }
   },
   "outputs": [],
   "source": [
    "import tensorflow as tf\n",
    "from tensorflow.keras.models import Model\n",
    "from tensorflow.keras.layers import Dense, Dropout, GlobalAveragePooling2D\n",
    "from tensorflow.keras.applications import MobileNetV2\n",
    "\n",
    "class LeafDiseaseClassifierMobileNetV2(Model):\n",
    "\n",
    "    def __init__(self, num_classes):\n",
    "        super(LeafDiseaseClassifierMobileNetV2, self).__init__()\n",
    "\n",
    "        # 1. Get the base model with pre-trained ImageNet weights\n",
    "        # `include_top=False` removes the original classification layer.\n",
    "        self.base_model = MobileNetV2(weights='imagenet', include_top=False)\n",
    "\n",
    "        # 2. Freeze the feature extraction layers\n",
    "        self.base_model.trainable = False\n",
    "\n",
    "        # 3. Define the new classification head\n",
    "        self.pooling = GlobalAveragePooling2D()\n",
    "        self.dropout = Dropout(0.4)\n",
    "        # We add a softmax activation for classification.\n",
    "        self.dense = Dense(num_classes, activation='softmax')\n",
    "\n",
    "    # 4. Define the forward propagation\n",
    "    def call(self, x):\n",
    "        # When the base model is frozen, run it in inference mode.\n",
    "        features = self.base_model(x, training=False)\n",
    "        \n",
    "        # Pass the features through the new head\n",
    "        features = self.pooling(features)\n",
    "        features = self.dropout(features)\n",
    "        features = self.dense(features)\n",
    "        \n",
    "        return features\n",
    "        \n",
    "    def unfreeze_layer(self, layer_index):\n",
    "        \"\"\"\n",
    "        Unfreezes a number of layers from the end of the base model for fine-tuning.\n",
    "        \n",
    "        Args:\n",
    "            layer_index (int): A positive integer for the number of layers to unfreeze from the end.\n",
    "        \"\"\"\n",
    "        if not (1 <= layer_index <= len(self.base_model.layers)):\n",
    "            print(f\"Error: Invalid layer index {layer_index}.\")\n",
    "            return\n",
    "\n",
    "        print(f\"\\nUnfreezing feature layer at index: -{layer_index}\")\n",
    "        \n",
    "        # Unfreeze the last `layer_index` layers of the base model\n",
    "        for layer in self.base_model.layers[-layer_index:]:\n",
    "            layer.trainable = True\n",
    "\n"
   ]
  },
  {
   "cell_type": "code",
   "execution_count": 8,
   "id": "2d2d688f4e97b8e2",
   "metadata": {
    "ExecuteTime": {
     "end_time": "2025-08-22T11:37:37.921596Z",
     "start_time": "2025-08-22T11:37:37.916151Z"
    }
   },
   "outputs": [],
   "source": [
    "import tensorflow as tf\n",
    "from tensorflow.keras.models import Model\n",
    "from tensorflow.keras.layers import Dense, Dropout, GlobalAveragePooling2D\n",
    "from tensorflow.keras.applications import EfficientNetV2M\n",
    "\n",
    "class LeafDiseaseClassifierEfficientNetV2M(Model):\n",
    "\n",
    "    def __init__(self, num_classes):\n",
    "        super(LeafDiseaseClassifierEfficientNetV2M, self).__init__()\n",
    "\n",
    "        # 1. Get the EfficientNetV2M base model with pre-trained ImageNet weights\n",
    "        self.base_model = EfficientNetV2M(weights='imagenet', include_top=False)\n",
    "\n",
    "        # 2. Freeze the feature extraction layers\n",
    "        self.base_model.trainable = False\n",
    "\n",
    "        # 3. Define the new classification head (this part is identical)\n",
    "        self.pooling = GlobalAveragePooling2D()\n",
    "        self.dropout = Dropout(0.4)\n",
    "        self.dense = Dense(num_classes, activation='softmax')\n",
    "\n",
    "    def call(self, x):\n",
    "        # When the base model is frozen, run it in inference mode.\n",
    "        features = self.base_model(x, training=False)\n",
    "        \n",
    "        # Pass the features through the new head\n",
    "        features = self.pooling(features)\n",
    "        features = self.dropout(features)\n",
    "        features = self.dense(features)\n",
    "        \n",
    "        return features\n",
    "        \n",
    "    def unfreeze_layer(self, layer_index):\n",
    "        \"\"\"\n",
    "        Unfreezes a number of layers from the end of the base model for fine-tuning.\n",
    "        \n",
    "        Args:\n",
    "            layer_index (int): A positive integer for the number of layers to unfreeze from the end.\n",
    "        \"\"\"\n",
    "        if not (1 <= layer_index <= len(self.base_model.layers)):\n",
    "            print(f\"Error: Invalid layer index {layer_index}.\")\n",
    "            return\n",
    "\n",
    "        print(f\"\\nUnfreezing feature layer at index: -{layer_index}\")\n",
    "        \n",
    "        # Unfreeze the last `layer_index` layers of the base model\n",
    "        for layer in self.base_model.layers[-layer_index:]:\n",
    "            layer.trainable = True\n",
    "\n",
    "# --- How to Use ---\n",
    "# num_classes = 6 # Your number of classes\n",
    "# model = LeafDiseaseClassifierEfficientNetV2M(num_classes=num_classes)\n",
    "\n",
    "# # It's crucial to compile the model after making changes to `trainable` attributes\n",
    "# model.compile(optimizer='adam', \n",
    "#               loss='categorical_crossentropy', \n",
    "#               metrics=['accuracy'])\n",
    "\n",
    "# # To see the model's structure:\n",
    "# model.build(input_shape=(None, 224, 224, 3))\n",
    "# model.summary()"
   ]
  },
  {
   "cell_type": "code",
   "execution_count": 9,
   "id": "fca4e6f7abec2fbd",
   "metadata": {
    "ExecuteTime": {
     "end_time": "2025-08-22T11:37:39.811978Z",
     "start_time": "2025-08-22T11:37:39.803606Z"
    }
   },
   "outputs": [],
   "source": [
    "import tensorflow as tf\n",
    "from tensorflow.keras.callbacks import Callback, EarlyStopping, ModelCheckpoint, ReduceLROnPlateau\n",
    "import numpy as np # tqdm is usually not needed as model.fit has its own progress bar\n",
    "\n",
    "# A custom callback to log GPU memory usage at the end of each epoch\n",
    "class MemoryUsageCallback(Callback):\n",
    "    def on_epoch_end(self, epoch, logs=None):\n",
    "        # This function gets memory info for the first GPU\n",
    "        try:\n",
    "            info = tf.config.experimental.get_memory_info('GPU:0')\n",
    "            # The 'current' and 'peak' values are in bytes\n",
    "            allocated_gb = info['current'] / (1024 ** 3)\n",
    "            peak_gb = info['peak'] / (1024 ** 3)\n",
    "            print(f' | GPU Memory (Alloc/Peak): {allocated_gb:.2f}/{peak_gb:.2f} GB')\n",
    "        except (ValueError, IndexError):\n",
    "            # This will be triggered if no GPU is found\n",
    "            print(\" | GPU Memory: Not available\")\n",
    "\n",
    "# A custom callback to replicate the `validation_loss >= training_loss` stop condition\n",
    "class OverfittingStopper(Callback):\n",
    "    def on_epoch_end(self, epoch, logs=None):\n",
    "        train_loss = logs.get('loss')\n",
    "        val_loss = logs.get('val_loss')\n",
    "        if val_loss is not None and train_loss is not None:\n",
    "            if val_loss >= train_loss:\n",
    "                print(f'\\nStopping training: Validation loss ({val_loss:.4f}) is greater than or equal to training loss ({train_loss:.4f}).')\n",
    "                self.model.stop_training = True\n",
    "\n",
    "def train_model_keras(model, train_dataset, validation_dataset, num_epochs, patience=3, min_delta=0.001):\n",
    "    \"\"\"\n",
    "    Trains and validates a Keras model using model.fit() and callbacks.\n",
    "    \"\"\"\n",
    "    \n",
    "    # 1. Compile the model: Define optimizer, loss, and metrics\n",
    "    model.compile(\n",
    "        optimizer='adam',\n",
    "        loss='categorical_crossentropy', # Equivalent to nn.CrossEntropyLoss with softmax\n",
    "        metrics=['accuracy']\n",
    "    )\n",
    "\n",
    "    # 2. Define Callbacks for advanced training logic\n",
    "    # This callback saves the best model based on validation loss\n",
    "    model_checkpoint = ModelCheckpoint(\n",
    "        filepath='/Users/jameskierdoliguez/Desktop/models/MobileNetV2/MobileNetV2-m_rice_leaf_disease_classificationV1.h5', # Keras saves in .h5 or .keras format\n",
    "        monitor='val_loss',\n",
    "        save_best_only=True,\n",
    "        verbose=1\n",
    "    )\n",
    "    \n",
    "    # This callback stops training if `val_loss` doesn't improve\n",
    "    early_stopping = EarlyStopping(\n",
    "        monitor='val_loss',\n",
    "        patience=patience,\n",
    "        min_delta=min_delta,\n",
    "        verbose=1,\n",
    "        restore_best_weights=True # Restores the weights from the best epoch\n",
    "    )\n",
    "\n",
    "    # This callback reduces the learning rate if `val_loss` plateaus\n",
    "    reduce_lr = ReduceLROnPlateau(\n",
    "        monitor='val_loss',\n",
    "        factor=0.2, # Factor by which the learning rate will be reduced\n",
    "        patience=2, # Number of epochs with no improvement after which learning rate will be reduced\n",
    "        min_lr=1e-6,\n",
    "        verbose=1\n",
    "    )\n",
    "\n",
    "    # Combine all standard and custom callbacks\n",
    "    callbacks_list = [\n",
    "        model_checkpoint,\n",
    "        early_stopping,\n",
    "        reduce_lr,\n",
    "        OverfittingStopper(),\n",
    "        MemoryUsageCallback()\n",
    "    ]\n",
    "    \n",
    "    # 3. Train the model using model.fit()\n",
    "    # This single command replaces the entire manual PyTorch loop.\n",
    "    history = model.fit(\n",
    "        train_dataset,\n",
    "        epochs=num_epochs,\n",
    "        validation_data=validation_dataset,\n",
    "        callbacks=callbacks_list\n",
    "    )\n",
    "    \n",
    "    print('\\nSession complete')\n",
    "    \n",
    "    # The history object contains all the metrics\n",
    "    return history"
   ]
  },
  {
   "cell_type": "markdown",
   "id": "9b5134a74e091e48",
   "metadata": {},
   "source": [
    "<h2>  Saving and plott</h2>"
   ]
  },
  {
   "cell_type": "code",
   "execution_count": 11,
   "id": "4fd20dd312f838ff",
   "metadata": {
    "ExecuteTime": {
     "end_time": "2025-08-22T11:37:44.450757Z",
     "start_time": "2025-08-22T11:37:44.116198Z"
    }
   },
   "outputs": [],
   "source": [
    "import tensorflow as tf\n",
    "import albumentations as A\n",
    "\n",
    "# --- Prerequisite: Augmentation Setup (from previous translations) ---\n",
    "# Assume `training_pipeline` and `validation_pipeline` are defined.\n",
    "\n",
    "# Wrapper function to apply Albumentations within the tf.data pipeline\n",
    "def apply_augmentations(pipeline):\n",
    "    def augment(image, label):\n",
    "        aug_img = tf.py_function(\n",
    "            func=lambda img: pipeline(image=img.numpy())['image'],\n",
    "            inp=[image],\n",
    "            Tout=tf.float32\n",
    "        )\n",
    "        # Manually set the shape after using py_function\n",
    "        aug_img.set_shape([224, 224, 3]) \n",
    "        return aug_img, label\n",
    "    return augment\n",
    "\n",
    "# --- Main Translation ---\n",
    "IMAGE_SIZE = (224, 224)\n",
    "\n",
    "# 1. Create the Training Dataset\n",
    "train_dir = '/Users/jameskierdoliguez/Desktop/rice_leaf/aug_dataset/train'\n",
    "train_dataset = tf.keras.utils.image_dataset_from_directory(\n",
    "    train_dir,\n",
    "    labels='inferred',\n",
    "    label_mode='categorical',\n",
    "    image_size=IMAGE_SIZE,\n",
    "    batch_size=128,\n",
    "    shuffle=True\n",
    ")\n",
    "# Apply augmentations and optimize for performance\n",
    "train_dataset = train_dataset.map(apply_augmentations(training_pipeline), num_parallel_calls=tf.data.AUTOTUNE)\n",
    "train_dataset = train_dataset.prefetch(buffer_size=tf.data.AUTOTUNE)\n",
    "\n",
    "# 2. Create the Validation Dataset\n",
    "validation_dir = '/Users/jameskierdoliguez/Desktop/rice_leaf/aug_dataset/test'\n",
    "validation_dataset = tf.keras.utils.image_dataset_from_directory(\n",
    "    validation_dir,\n",
    "    labels='inferred',\n",
    "    label_mode='categorical',\n",
    "    image_size=IMAGE_SIZE,\n",
    "    batch_size=64,\n",
    "    shuffle=False # Shuffling is typically turned off for validation and testing\n",
    ")\n",
    "# Apply the non-random validation pipeline and optimize\n",
    "validation_dataset = validation_dataset.map(apply_augmentations(validation_pipeline), num_parallel_calls=tf.data.AUTOTUNE)\n",
    "validation_dataset = validation_dataset.prefetch(buffer_size=tf.data.AUTOTUNE)\n",
    "\n",
    "# 3. Create the Test Dataset\n",
    "test_dir = '/Users/jameskierdoliguez/Desktop/rice_leaf/aug_dataset/val'\n",
    "test_dataset = tf.keras.utils.image_dataset_from_directory(\n",
    "    test_dir,\n",
    "    labels='inferred',\n",
    "    label_mode='categorical',\n",
    "    image_size=IMAGE_SIZE,\n",
    "    batch_size=32,\n",
    "    shuffle=False\n",
    ")\n",
    "# Apply the non-random validation pipeline and optimize\n",
    "test_dataset = test_dataset.map(apply_augmentations(validation_pipeline), num_parallel_calls=tf.data.AUTOTUNE)\n",
    "test_dataset = test_dataset.prefetch(buffer_size=tf.data.AUTOTUNE)\n",
    "\n",
    "# 4. Get the Class Names\n",
    "# The class names are an attribute of the dataset object.\n",
    "classes = train_dataset.class_names\n",
    "print(f\"Classes found: {classes}\")"
   ]
  },
  {
   "cell_type": "code",
   "execution_count": null,
   "id": "d9071fa0-1f95-4fd1-9aff-a7a36a8285fa",
   "metadata": {},
   "outputs": [],
   "source": [
    "import tensorflow as tf\n",
    "from tensorflow.keras.callbacks import Callback, EarlyStopping, ModelCheckpoint, ReduceLROnPlateau\n",
    "\n",
    "# Modified custom callback with a flag\n",
    "class OverfittingStopper(Callback):\n",
    "    def __init__(self):\n",
    "        super(OverfittingStopper, self).__init__()\n",
    "        self.stopped_by_condition = False\n",
    "\n",
    "    def on_epoch_end(self, epoch, logs=None):\n",
    "        train_loss = logs.get('loss')\n",
    "        val_loss = logs.get('val_loss')\n",
    "        if val_loss is not None and train_loss is not None:\n",
    "            if val_loss >= train_loss:\n",
    "                print(f'\\nStopping training: Validation loss ({val_loss:.4f}) >= Training loss ({train_loss:.4f}).')\n",
    "                self.model.stop_training = True\n",
    "                self.stopped_by_condition = True"
   ]
  },
  {
   "cell_type": "code",
   "execution_count": 12,
   "id": "1467cef09840c64b",
   "metadata": {
    "ExecuteTime": {
     "end_time": "2025-08-22T11:37:46.834431Z",
     "start_time": "2025-08-22T11:37:46.827431Z"
    }
   },
   "outputs": [],
   "source": [
    "def incremental_training_keras(model, sessions, train_dataset, validation_dataset):\n",
    "    \"\"\"\n",
    "    Performs multi-session training on a Keras model, often for fine-tuning.\n",
    "    \"\"\"\n",
    "    full_history = []\n",
    "    best_overall_accuracy = 0.0\n",
    "\n",
    "    for i, session in enumerate(sessions):\n",
    "        print(f\"\\n--- Starting Training Session {i+1}/{len(sessions)} ---\")\n",
    "\n",
    "        epochs = session['epochs']\n",
    "        lr = session['lr']\n",
    "        layer_to_unfreeze = session.get('unfreeze_layer', 0)\n",
    "\n",
    "        # 1. Unfreeze layers if specified in the session\n",
    "        if layer_to_unfreeze > 0:\n",
    "            model.unfreeze_layer(layer_to_unfreeze)\n",
    "\n",
    "        # 2. Re-compile the model with the new learning rate and after changing trainability\n",
    "        # This is a crucial step in Keras.\n",
    "        optimizer = tf.keras.optimizers.AdamW(learning_rate=lr, weight_decay=1e-2)\n",
    "        model.compile(\n",
    "            optimizer=optimizer,\n",
    "            loss='categorical_crossentropy',\n",
    "            metrics=['accuracy']\n",
    "        )\n",
    "        print(f\"Model re-compiled with a learning rate of: {lr}\")\n",
    "\n",
    "        # 3. Define callbacks for this specific session\n",
    "        model_checkpoint = ModelCheckpoint(\n",
    "            filepath=f'./model_session_{i+1}_best.keras',\n",
    "            monitor='val_accuracy',\n",
    "            mode='max',\n",
    "            save_best_only=True,\n",
    "            verbose=1\n",
    "        )\n",
    "        early_stopping = EarlyStopping(monitor='val_loss', patience=3, verbose=1, restore_best_weights=True)\n",
    "        reduce_lr = ReduceLROnPlateau(monitor='val_loss', factor=0.5, patience=2, min_lr=1e-7, verbose=1)\n",
    "        overfitting_stopper = OverfittingStopper()\n",
    "\n",
    "        # 4. Run the training session using model.fit()\n",
    "        session_history = model.fit(\n",
    "            train_dataset,\n",
    "            epochs=epochs,\n",
    "            validation_data=validation_dataset,\n",
    "            callbacks=[model_checkpoint, early_stopping, reduce_lr, overfitting_stopper]\n",
    "        )\n",
    "\n",
    "        full_history.append(session_history)\n",
    "        \n",
    "        # Track the best accuracy from this session\n",
    "        session_best_accuracy = max(session_history.history.get('val_accuracy', [0]))\n",
    "        if session_best_accuracy > best_overall_accuracy:\n",
    "            best_overall_accuracy = session_best_accuracy\n",
    "            print(f\"New best overall accuracy: {best_overall_accuracy:.4f}\")\n",
    "\n",
    "        # Check if the custom stopper triggered the end of training\n",
    "        if overfitting_stopper.stopped_by_condition:\n",
    "            print(\"Full stop triggered by overfitting condition. Ending all sessions.\")\n",
    "            break\n",
    "            \n",
    "    print(f\"\\n--- Incremental training finished. Best overall validation accuracy: {best_overall_accuracy:.4f} ---\")\n",
    "    return full_history"
   ]
  },
  {
   "cell_type": "code",
   "execution_count": 13,
   "id": "fd1ee3a6a8b445e1",
   "metadata": {
    "ExecuteTime": {
     "end_time": "2025-08-22T13:25:58.302435Z",
     "start_time": "2025-08-22T11:39:08.283028Z"
    }
   },
   "outputs": [
    {
     "name": "stdout",
     "output_type": "stream",
     "text": [
      "\n",
      "--- Starting Training Session 1/4 ---\n"
     ]
    },
    {
     "name": "stderr",
     "output_type": "stream",
     "text": [
      "Train epoch: 1: 100%|███████████████████████████| 41/41 [00:25<00:00,  1.63it/s]\n",
      "Validate Epoch 1: 100%|█████████████████████████| 24/24 [00:05<00:00,  4.52it/s]\n"
     ]
    },
    {
     "name": "stdout",
     "output_type": "stream",
     "text": [
      "Epoch 1/10 |lr: 0.0005| Train Loss: 1.3412 | Evaluate Loss: 0.9806 | Accuracy: 77.09% | MPS Memory (Alloc/Driver): 0.29/3.33 GB\n"
     ]
    },
    {
     "name": "stderr",
     "output_type": "stream",
     "text": [
      "Train epoch: 2: 100%|███████████████████████████| 41/41 [00:22<00:00,  1.82it/s]\n",
      "Validate Epoch 2: 100%|█████████████████████████| 24/24 [00:04<00:00,  4.98it/s]\n"
     ]
    },
    {
     "name": "stdout",
     "output_type": "stream",
     "text": [
      "Epoch 2/10 |lr: 0.0005| Train Loss: 0.9721 | Evaluate Loss: 0.7066 | Accuracy: 81.42% | MPS Memory (Alloc/Driver): 0.29/4.29 GB\n"
     ]
    },
    {
     "name": "stderr",
     "output_type": "stream",
     "text": [
      "Train epoch: 3: 100%|███████████████████████████| 41/41 [00:22<00:00,  1.82it/s]\n",
      "Validate Epoch 3: 100%|█████████████████████████| 24/24 [00:04<00:00,  4.95it/s]\n"
     ]
    },
    {
     "name": "stdout",
     "output_type": "stream",
     "text": [
      "Epoch 3/10 |lr: 0.0005| Train Loss: 0.7956 | Evaluate Loss: 0.5813 | Accuracy: 83.18% | MPS Memory (Alloc/Driver): 0.29/4.29 GB\n"
     ]
    },
    {
     "name": "stderr",
     "output_type": "stream",
     "text": [
      "Train epoch: 4: 100%|███████████████████████████| 41/41 [00:21<00:00,  1.88it/s]\n",
      "Validate Epoch 4: 100%|█████████████████████████| 24/24 [00:04<00:00,  4.94it/s]\n"
     ]
    },
    {
     "name": "stdout",
     "output_type": "stream",
     "text": [
      "Epoch 4/10 |lr: 0.0005| Train Loss: 0.7061 | Evaluate Loss: 0.5042 | Accuracy: 85.54% | MPS Memory (Alloc/Driver): 0.29/4.29 GB\n"
     ]
    },
    {
     "name": "stderr",
     "output_type": "stream",
     "text": [
      "Train epoch: 5: 100%|███████████████████████████| 41/41 [00:22<00:00,  1.86it/s]\n",
      "Validate Epoch 5: 100%|█████████████████████████| 24/24 [00:04<00:00,  4.87it/s]\n"
     ]
    },
    {
     "name": "stdout",
     "output_type": "stream",
     "text": [
      "Epoch 5/10 |lr: 0.0005| Train Loss: 0.6552 | Evaluate Loss: 0.4674 | Accuracy: 85.68% | MPS Memory (Alloc/Driver): 0.29/4.29 GB\n"
     ]
    },
    {
     "name": "stderr",
     "output_type": "stream",
     "text": [
      "Train epoch: 6: 100%|███████████████████████████| 41/41 [00:21<00:00,  1.87it/s]\n",
      "Validate Epoch 6: 100%|█████████████████████████| 24/24 [00:04<00:00,  4.88it/s]\n"
     ]
    },
    {
     "name": "stdout",
     "output_type": "stream",
     "text": [
      "Epoch 6/10 |lr: 0.0005| Train Loss: 0.6128 | Evaluate Loss: 0.4006 | Accuracy: 87.30% | MPS Memory (Alloc/Driver): 0.29/4.29 GB\n"
     ]
    },
    {
     "name": "stderr",
     "output_type": "stream",
     "text": [
      "Train epoch: 7: 100%|███████████████████████████| 41/41 [00:21<00:00,  1.87it/s]\n",
      "Validate Epoch 7: 100%|█████████████████████████| 24/24 [00:04<00:00,  4.89it/s]\n"
     ]
    },
    {
     "name": "stdout",
     "output_type": "stream",
     "text": [
      "Epoch 7/10 |lr: 0.0005| Train Loss: 0.5714 | Evaluate Loss: 0.3746 | Accuracy: 88.38% | MPS Memory (Alloc/Driver): 0.29/4.67 GB\n"
     ]
    },
    {
     "name": "stderr",
     "output_type": "stream",
     "text": [
      "Train epoch: 8: 100%|███████████████████████████| 41/41 [00:22<00:00,  1.86it/s]\n",
      "Validate Epoch 8: 100%|█████████████████████████| 24/24 [00:04<00:00,  4.90it/s]\n"
     ]
    },
    {
     "name": "stdout",
     "output_type": "stream",
     "text": [
      "Epoch 8/10 |lr: 0.0005| Train Loss: 0.5553 | Evaluate Loss: 0.3826 | Accuracy: 89.05% | MPS Memory (Alloc/Driver): 0.29/4.67 GB\n",
      "No improvement for 1/3 epochs\n"
     ]
    },
    {
     "name": "stderr",
     "output_type": "stream",
     "text": [
      "Train epoch: 9: 100%|███████████████████████████| 41/41 [00:22<00:00,  1.84it/s]\n",
      "Validate Epoch 9: 100%|█████████████████████████| 24/24 [00:04<00:00,  4.85it/s]\n"
     ]
    },
    {
     "name": "stdout",
     "output_type": "stream",
     "text": [
      "Epoch 9/10 |lr: 0.0005| Train Loss: 0.5212 | Evaluate Loss: 0.3263 | Accuracy: 89.80% | MPS Memory (Alloc/Driver): 0.29/4.29 GB\n"
     ]
    },
    {
     "name": "stderr",
     "output_type": "stream",
     "text": [
      "Train epoch: 10: 100%|██████████████████████████| 41/41 [00:22<00:00,  1.86it/s]\n",
      "Validate Epoch 10: 100%|████████████████████████| 24/24 [00:04<00:00,  4.85it/s]\n"
     ]
    },
    {
     "name": "stdout",
     "output_type": "stream",
     "text": [
      "Epoch 10/10 |lr: 0.0005| Train Loss: 0.5121 | Evaluate Loss: 0.3326 | Accuracy: 89.32% | MPS Memory (Alloc/Driver): 0.29/4.67 GB\n",
      "No improvement for 1/3 epochs\n",
      "Session complete\n",
      "historical data exists! Appending new data.\n",
      "Historical data saved successfully!\n",
      "\n",
      "--- Starting Training Session 2/4 ---\n",
      "\n",
      "Unfreezing feature layer at index: -1\n"
     ]
    },
    {
     "name": "stderr",
     "output_type": "stream",
     "text": [
      "Train epoch: 1: 100%|███████████████████████████| 41/41 [00:22<00:00,  1.82it/s]\n",
      "Validate Epoch 1: 100%|█████████████████████████| 24/24 [00:04<00:00,  4.95it/s]\n"
     ]
    },
    {
     "name": "stdout",
     "output_type": "stream",
     "text": [
      "Epoch 1/20 |lr: 0.0001| Train Loss: 0.4803 | Evaluate Loss: 0.2856 | Accuracy: 91.35% | MPS Memory (Alloc/Driver): 0.30/4.67 GB\n"
     ]
    },
    {
     "name": "stderr",
     "output_type": "stream",
     "text": [
      "Train epoch: 2: 100%|███████████████████████████| 41/41 [00:22<00:00,  1.85it/s]\n",
      "Validate Epoch 2: 100%|█████████████████████████| 24/24 [00:04<00:00,  4.89it/s]\n"
     ]
    },
    {
     "name": "stdout",
     "output_type": "stream",
     "text": [
      "Epoch 2/20 |lr: 0.0001| Train Loss: 0.4439 | Evaluate Loss: 0.2475 | Accuracy: 92.16% | MPS Memory (Alloc/Driver): 0.30/4.67 GB\n"
     ]
    },
    {
     "name": "stderr",
     "output_type": "stream",
     "text": [
      "Train epoch: 3: 100%|███████████████████████████| 41/41 [00:22<00:00,  1.82it/s]\n",
      "Validate Epoch 3: 100%|█████████████████████████| 24/24 [00:04<00:00,  4.91it/s]\n"
     ]
    },
    {
     "name": "stdout",
     "output_type": "stream",
     "text": [
      "Epoch 3/20 |lr: 0.0001| Train Loss: 0.4055 | Evaluate Loss: 0.2276 | Accuracy: 92.84% | MPS Memory (Alloc/Driver): 0.30/4.67 GB\n"
     ]
    },
    {
     "name": "stderr",
     "output_type": "stream",
     "text": [
      "Train epoch: 4: 100%|███████████████████████████| 41/41 [00:22<00:00,  1.85it/s]\n",
      "Validate Epoch 4: 100%|█████████████████████████| 24/24 [00:04<00:00,  4.87it/s]\n"
     ]
    },
    {
     "name": "stdout",
     "output_type": "stream",
     "text": [
      "Epoch 4/20 |lr: 0.0001| Train Loss: 0.3866 | Evaluate Loss: 0.2116 | Accuracy: 92.84% | MPS Memory (Alloc/Driver): 0.30/4.67 GB\n"
     ]
    },
    {
     "name": "stderr",
     "output_type": "stream",
     "text": [
      "Train epoch: 5: 100%|███████████████████████████| 41/41 [00:22<00:00,  1.86it/s]\n",
      "Validate Epoch 5: 100%|█████████████████████████| 24/24 [00:04<00:00,  4.91it/s]\n"
     ]
    },
    {
     "name": "stdout",
     "output_type": "stream",
     "text": [
      "Epoch 5/20 |lr: 0.0001| Train Loss: 0.3711 | Evaluate Loss: 0.1949 | Accuracy: 93.72% | MPS Memory (Alloc/Driver): 0.30/4.67 GB\n"
     ]
    },
    {
     "name": "stderr",
     "output_type": "stream",
     "text": [
      "Train epoch: 6: 100%|███████████████████████████| 41/41 [00:22<00:00,  1.85it/s]\n",
      "Validate Epoch 6: 100%|█████████████████████████| 24/24 [00:04<00:00,  4.92it/s]\n"
     ]
    },
    {
     "name": "stdout",
     "output_type": "stream",
     "text": [
      "Epoch 6/20 |lr: 0.0001| Train Loss: 0.3481 | Evaluate Loss: 0.1752 | Accuracy: 94.05% | MPS Memory (Alloc/Driver): 0.30/4.67 GB\n"
     ]
    },
    {
     "name": "stderr",
     "output_type": "stream",
     "text": [
      "Train epoch: 7: 100%|███████████████████████████| 41/41 [00:22<00:00,  1.81it/s]\n",
      "Validate Epoch 7: 100%|█████████████████████████| 24/24 [00:04<00:00,  4.80it/s]\n"
     ]
    },
    {
     "name": "stdout",
     "output_type": "stream",
     "text": [
      "Epoch 7/20 |lr: 0.0001| Train Loss: 0.3371 | Evaluate Loss: 0.1620 | Accuracy: 94.26% | MPS Memory (Alloc/Driver): 0.30/4.67 GB\n"
     ]
    },
    {
     "name": "stderr",
     "output_type": "stream",
     "text": [
      "Train epoch: 8: 100%|███████████████████████████| 41/41 [00:22<00:00,  1.86it/s]\n",
      "Validate Epoch 8: 100%|█████████████████████████| 24/24 [00:04<00:00,  4.97it/s]\n"
     ]
    },
    {
     "name": "stdout",
     "output_type": "stream",
     "text": [
      "Epoch 8/20 |lr: 0.0001| Train Loss: 0.3173 | Evaluate Loss: 0.1563 | Accuracy: 94.86% | MPS Memory (Alloc/Driver): 0.30/4.29 GB\n"
     ]
    },
    {
     "name": "stderr",
     "output_type": "stream",
     "text": [
      "Train epoch: 9: 100%|███████████████████████████| 41/41 [00:22<00:00,  1.84it/s]\n",
      "Validate Epoch 9: 100%|█████████████████████████| 24/24 [00:04<00:00,  4.90it/s]\n"
     ]
    },
    {
     "name": "stdout",
     "output_type": "stream",
     "text": [
      "Epoch 9/20 |lr: 0.0001| Train Loss: 0.3105 | Evaluate Loss: 0.1448 | Accuracy: 95.14% | MPS Memory (Alloc/Driver): 0.30/4.67 GB\n"
     ]
    },
    {
     "name": "stderr",
     "output_type": "stream",
     "text": [
      "Train epoch: 10: 100%|██████████████████████████| 41/41 [00:22<00:00,  1.80it/s]\n",
      "Validate Epoch 10: 100%|████████████████████████| 24/24 [00:05<00:00,  4.80it/s]\n"
     ]
    },
    {
     "name": "stdout",
     "output_type": "stream",
     "text": [
      "Epoch 10/20 |lr: 0.0001| Train Loss: 0.2917 | Evaluate Loss: 0.1380 | Accuracy: 95.41% | MPS Memory (Alloc/Driver): 0.30/4.67 GB\n"
     ]
    },
    {
     "name": "stderr",
     "output_type": "stream",
     "text": [
      "Train epoch: 11: 100%|██████████████████████████| 41/41 [00:23<00:00,  1.75it/s]\n",
      "Validate Epoch 11: 100%|████████████████████████| 24/24 [00:04<00:00,  4.90it/s]\n"
     ]
    },
    {
     "name": "stdout",
     "output_type": "stream",
     "text": [
      "Epoch 11/20 |lr: 0.0001| Train Loss: 0.2923 | Evaluate Loss: 0.1355 | Accuracy: 95.27% | MPS Memory (Alloc/Driver): 0.30/4.67 GB\n"
     ]
    },
    {
     "name": "stderr",
     "output_type": "stream",
     "text": [
      "Train epoch: 12: 100%|██████████████████████████| 41/41 [00:23<00:00,  1.77it/s]\n",
      "Validate Epoch 12: 100%|████████████████████████| 24/24 [00:04<00:00,  4.83it/s]\n"
     ]
    },
    {
     "name": "stdout",
     "output_type": "stream",
     "text": [
      "Epoch 12/20 |lr: 0.0001| Train Loss: 0.2703 | Evaluate Loss: 0.1319 | Accuracy: 95.41% | MPS Memory (Alloc/Driver): 0.30/4.67 GB\n"
     ]
    },
    {
     "name": "stderr",
     "output_type": "stream",
     "text": [
      "Train epoch: 13: 100%|██████████████████████████| 41/41 [00:22<00:00,  1.80it/s]\n",
      "Validate Epoch 13: 100%|████████████████████████| 24/24 [00:05<00:00,  4.69it/s]\n"
     ]
    },
    {
     "name": "stdout",
     "output_type": "stream",
     "text": [
      "Epoch 13/20 |lr: 0.0001| Train Loss: 0.2693 | Evaluate Loss: 0.1293 | Accuracy: 95.68% | MPS Memory (Alloc/Driver): 0.30/3.91 GB\n"
     ]
    },
    {
     "name": "stderr",
     "output_type": "stream",
     "text": [
      "Train epoch: 14: 100%|██████████████████████████| 41/41 [00:22<00:00,  1.83it/s]\n",
      "Validate Epoch 14: 100%|████████████████████████| 24/24 [00:04<00:00,  4.87it/s]\n"
     ]
    },
    {
     "name": "stdout",
     "output_type": "stream",
     "text": [
      "Epoch 14/20 |lr: 0.0001| Train Loss: 0.2686 | Evaluate Loss: 0.1177 | Accuracy: 96.01% | MPS Memory (Alloc/Driver): 0.30/4.67 GB\n"
     ]
    },
    {
     "name": "stderr",
     "output_type": "stream",
     "text": [
      "Train epoch: 15: 100%|██████████████████████████| 41/41 [00:22<00:00,  1.82it/s]\n",
      "Validate Epoch 15: 100%|████████████████████████| 24/24 [00:04<00:00,  4.88it/s]\n"
     ]
    },
    {
     "name": "stdout",
     "output_type": "stream",
     "text": [
      "Epoch 15/20 |lr: 0.0001| Train Loss: 0.2473 | Evaluate Loss: 0.1146 | Accuracy: 96.22% | MPS Memory (Alloc/Driver): 0.30/4.29 GB\n"
     ]
    },
    {
     "name": "stderr",
     "output_type": "stream",
     "text": [
      "Train epoch: 16: 100%|██████████████████████████| 41/41 [00:22<00:00,  1.82it/s]\n",
      "Validate Epoch 16: 100%|████████████████████████| 24/24 [00:05<00:00,  4.77it/s]\n"
     ]
    },
    {
     "name": "stdout",
     "output_type": "stream",
     "text": [
      "Epoch 16/20 |lr: 0.0001| Train Loss: 0.2626 | Evaluate Loss: 0.1027 | Accuracy: 96.62% | MPS Memory (Alloc/Driver): 0.30/3.91 GB\n"
     ]
    },
    {
     "name": "stderr",
     "output_type": "stream",
     "text": [
      "Train epoch: 17: 100%|██████████████████████████| 41/41 [00:23<00:00,  1.76it/s]\n",
      "Validate Epoch 17: 100%|████████████████████████| 24/24 [00:04<00:00,  4.84it/s]\n"
     ]
    },
    {
     "name": "stdout",
     "output_type": "stream",
     "text": [
      "Epoch 17/20 |lr: 0.0001| Train Loss: 0.2410 | Evaluate Loss: 0.1104 | Accuracy: 95.95% | MPS Memory (Alloc/Driver): 0.30/4.67 GB\n",
      "No improvement for 1/3 epochs\n"
     ]
    },
    {
     "name": "stderr",
     "output_type": "stream",
     "text": [
      "Train epoch: 18: 100%|██████████████████████████| 41/41 [00:23<00:00,  1.77it/s]\n",
      "Validate Epoch 18: 100%|████████████████████████| 24/24 [00:05<00:00,  4.77it/s]\n"
     ]
    },
    {
     "name": "stdout",
     "output_type": "stream",
     "text": [
      "Epoch 18/20 |lr: 0.0001| Train Loss: 0.2405 | Evaluate Loss: 0.1031 | Accuracy: 96.55% | MPS Memory (Alloc/Driver): 0.30/3.91 GB\n",
      "No improvement for 2/3 epochs\n"
     ]
    },
    {
     "name": "stderr",
     "output_type": "stream",
     "text": [
      "Train epoch: 19: 100%|██████████████████████████| 41/41 [00:22<00:00,  1.79it/s]\n",
      "Validate Epoch 19: 100%|████████████████████████| 24/24 [00:04<00:00,  4.80it/s]\n"
     ]
    },
    {
     "name": "stdout",
     "output_type": "stream",
     "text": [
      "Epoch 19/20 |lr: 0.0001| Train Loss: 0.2447 | Evaluate Loss: 0.1016 | Accuracy: 96.62% | MPS Memory (Alloc/Driver): 0.30/4.67 GB\n"
     ]
    },
    {
     "name": "stderr",
     "output_type": "stream",
     "text": [
      "Train epoch: 20: 100%|██████████████████████████| 41/41 [00:22<00:00,  1.78it/s]\n",
      "Validate Epoch 20: 100%|████████████████████████| 24/24 [00:04<00:00,  4.83it/s]\n"
     ]
    },
    {
     "name": "stdout",
     "output_type": "stream",
     "text": [
      "Epoch 20/20 |lr: 0.0001| Train Loss: 0.2303 | Evaluate Loss: 0.0947 | Accuracy: 96.89% | MPS Memory (Alloc/Driver): 0.30/4.67 GB\n",
      "Session complete\n",
      "historical data exists! Appending new data.\n",
      "Historical data saved successfully!\n",
      "\n",
      "--- Starting Training Session 3/4 ---\n",
      "\n",
      "Unfreezing feature layer at index: -2\n"
     ]
    },
    {
     "name": "stderr",
     "output_type": "stream",
     "text": [
      "Train epoch: 1: 100%|███████████████████████████| 41/41 [00:23<00:00,  1.73it/s]\n",
      "Validate Epoch 1: 100%|█████████████████████████| 24/24 [00:04<00:00,  4.88it/s]\n"
     ]
    },
    {
     "name": "stdout",
     "output_type": "stream",
     "text": [
      "Epoch 1/30 |lr: 5e-05| Train Loss: 0.2226 | Evaluate Loss: 0.0807 | Accuracy: 97.43% | MPS Memory (Alloc/Driver): 0.33/4.68 GB\n"
     ]
    },
    {
     "name": "stderr",
     "output_type": "stream",
     "text": [
      "Train epoch: 2: 100%|███████████████████████████| 41/41 [00:25<00:00,  1.60it/s]\n",
      "Validate Epoch 2: 100%|█████████████████████████| 24/24 [00:06<00:00,  3.64it/s]\n"
     ]
    },
    {
     "name": "stdout",
     "output_type": "stream",
     "text": [
      "Epoch 2/30 |lr: 5e-05| Train Loss: 0.2147 | Evaluate Loss: 0.0818 | Accuracy: 97.03% | MPS Memory (Alloc/Driver): 0.33/3.92 GB\n",
      "No improvement for 1/3 epochs\n"
     ]
    },
    {
     "name": "stderr",
     "output_type": "stream",
     "text": [
      "Train epoch: 3: 100%|███████████████████████████| 41/41 [00:23<00:00,  1.76it/s]\n",
      "Validate Epoch 3: 100%|█████████████████████████| 24/24 [00:04<00:00,  4.92it/s]\n"
     ]
    },
    {
     "name": "stdout",
     "output_type": "stream",
     "text": [
      "Epoch 3/30 |lr: 5e-05| Train Loss: 0.2042 | Evaluate Loss: 0.0748 | Accuracy: 97.57% | MPS Memory (Alloc/Driver): 0.33/4.68 GB\n"
     ]
    },
    {
     "name": "stderr",
     "output_type": "stream",
     "text": [
      "Train epoch: 4: 100%|███████████████████████████| 41/41 [00:22<00:00,  1.79it/s]\n",
      "Validate Epoch 4: 100%|█████████████████████████| 24/24 [00:04<00:00,  4.89it/s]\n"
     ]
    },
    {
     "name": "stdout",
     "output_type": "stream",
     "text": [
      "Epoch 4/30 |lr: 5e-05| Train Loss: 0.1985 | Evaluate Loss: 0.0753 | Accuracy: 97.97% | MPS Memory (Alloc/Driver): 0.33/4.30 GB\n",
      "No improvement for 1/3 epochs\n"
     ]
    },
    {
     "name": "stderr",
     "output_type": "stream",
     "text": [
      "Train epoch: 5: 100%|███████████████████████████| 41/41 [00:24<00:00,  1.67it/s]\n",
      "Validate Epoch 5: 100%|█████████████████████████| 24/24 [00:05<00:00,  4.21it/s]\n"
     ]
    },
    {
     "name": "stdout",
     "output_type": "stream",
     "text": [
      "Epoch 5/30 |lr: 5e-05| Train Loss: 0.1929 | Evaluate Loss: 0.0756 | Accuracy: 97.16% | MPS Memory (Alloc/Driver): 0.33/3.92 GB\n",
      "No improvement for 2/3 epochs\n"
     ]
    },
    {
     "name": "stderr",
     "output_type": "stream",
     "text": [
      "Train epoch: 6: 100%|███████████████████████████| 41/41 [00:26<00:00,  1.52it/s]\n",
      "Validate Epoch 6: 100%|█████████████████████████| 24/24 [00:05<00:00,  4.21it/s]\n"
     ]
    },
    {
     "name": "stdout",
     "output_type": "stream",
     "text": [
      "Epoch 6/30 |lr: 5e-05| Train Loss: 0.1853 | Evaluate Loss: 0.0680 | Accuracy: 97.77% | MPS Memory (Alloc/Driver): 0.33/3.92 GB\n"
     ]
    },
    {
     "name": "stderr",
     "output_type": "stream",
     "text": [
      "Train epoch: 7: 100%|███████████████████████████| 41/41 [00:26<00:00,  1.53it/s]\n",
      "Validate Epoch 7: 100%|█████████████████████████| 24/24 [00:04<00:00,  4.87it/s]\n"
     ]
    },
    {
     "name": "stdout",
     "output_type": "stream",
     "text": [
      "Epoch 7/30 |lr: 5e-05| Train Loss: 0.1803 | Evaluate Loss: 0.0592 | Accuracy: 97.91% | MPS Memory (Alloc/Driver): 0.33/4.68 GB\n"
     ]
    },
    {
     "name": "stderr",
     "output_type": "stream",
     "text": [
      "Train epoch: 8: 100%|███████████████████████████| 41/41 [00:23<00:00,  1.76it/s]\n",
      "Validate Epoch 8: 100%|█████████████████████████| 24/24 [00:04<00:00,  4.83it/s]\n"
     ]
    },
    {
     "name": "stdout",
     "output_type": "stream",
     "text": [
      "Epoch 8/30 |lr: 5e-05| Train Loss: 0.1638 | Evaluate Loss: 0.0540 | Accuracy: 98.24% | MPS Memory (Alloc/Driver): 0.33/4.68 GB\n"
     ]
    },
    {
     "name": "stderr",
     "output_type": "stream",
     "text": [
      "Train epoch: 9: 100%|███████████████████████████| 41/41 [00:22<00:00,  1.79it/s]\n",
      "Validate Epoch 9: 100%|█████████████████████████| 24/24 [00:05<00:00,  4.69it/s]\n"
     ]
    },
    {
     "name": "stdout",
     "output_type": "stream",
     "text": [
      "Epoch 9/30 |lr: 5e-05| Train Loss: 0.1680 | Evaluate Loss: 0.0589 | Accuracy: 98.18% | MPS Memory (Alloc/Driver): 0.33/3.92 GB\n",
      "No improvement for 1/3 epochs\n"
     ]
    },
    {
     "name": "stderr",
     "output_type": "stream",
     "text": [
      "Train epoch: 10: 100%|██████████████████████████| 41/41 [00:23<00:00,  1.72it/s]\n",
      "Validate Epoch 10: 100%|████████████████████████| 24/24 [00:04<00:00,  4.89it/s]\n"
     ]
    },
    {
     "name": "stdout",
     "output_type": "stream",
     "text": [
      "Epoch 10/30 |lr: 5e-05| Train Loss: 0.1668 | Evaluate Loss: 0.0516 | Accuracy: 98.31% | MPS Memory (Alloc/Driver): 0.33/4.68 GB\n"
     ]
    },
    {
     "name": "stderr",
     "output_type": "stream",
     "text": [
      "Train epoch: 11: 100%|██████████████████████████| 41/41 [00:23<00:00,  1.77it/s]\n",
      "Validate Epoch 11: 100%|████████████████████████| 24/24 [00:04<00:00,  4.95it/s]\n"
     ]
    },
    {
     "name": "stdout",
     "output_type": "stream",
     "text": [
      "Epoch 11/30 |lr: 5e-05| Train Loss: 0.1638 | Evaluate Loss: 0.0536 | Accuracy: 98.24% | MPS Memory (Alloc/Driver): 0.33/4.68 GB\n",
      "No improvement for 1/3 epochs\n"
     ]
    },
    {
     "name": "stderr",
     "output_type": "stream",
     "text": [
      "Train epoch: 12: 100%|██████████████████████████| 41/41 [00:24<00:00,  1.70it/s]\n",
      "Validate Epoch 12: 100%|████████████████████████| 24/24 [00:05<00:00,  4.12it/s]\n"
     ]
    },
    {
     "name": "stdout",
     "output_type": "stream",
     "text": [
      "Epoch 12/30 |lr: 5e-05| Train Loss: 0.1547 | Evaluate Loss: 0.0490 | Accuracy: 98.24% | MPS Memory (Alloc/Driver): 0.33/3.92 GB\n"
     ]
    },
    {
     "name": "stderr",
     "output_type": "stream",
     "text": [
      "Train epoch: 13: 100%|██████████████████████████| 41/41 [00:28<00:00,  1.46it/s]\n",
      "Validate Epoch 13: 100%|████████████████████████| 24/24 [00:05<00:00,  4.22it/s]\n"
     ]
    },
    {
     "name": "stdout",
     "output_type": "stream",
     "text": [
      "Epoch 13/30 |lr: 5e-05| Train Loss: 0.1511 | Evaluate Loss: 0.0498 | Accuracy: 98.51% | MPS Memory (Alloc/Driver): 0.33/3.92 GB\n",
      "No improvement for 1/3 epochs\n"
     ]
    },
    {
     "name": "stderr",
     "output_type": "stream",
     "text": [
      "Train epoch: 14: 100%|██████████████████████████| 41/41 [00:27<00:00,  1.51it/s]\n",
      "Validate Epoch 14: 100%|████████████████████████| 24/24 [00:05<00:00,  4.23it/s]\n"
     ]
    },
    {
     "name": "stdout",
     "output_type": "stream",
     "text": [
      "Epoch 14/30 |lr: 5e-05| Train Loss: 0.1592 | Evaluate Loss: 0.0444 | Accuracy: 98.38% | MPS Memory (Alloc/Driver): 0.33/3.92 GB\n"
     ]
    },
    {
     "name": "stderr",
     "output_type": "stream",
     "text": [
      "Train epoch: 15: 100%|██████████████████████████| 41/41 [00:26<00:00,  1.53it/s]\n",
      "Validate Epoch 15: 100%|████████████████████████| 24/24 [00:05<00:00,  4.19it/s]\n"
     ]
    },
    {
     "name": "stdout",
     "output_type": "stream",
     "text": [
      "Epoch 15/30 |lr: 5e-05| Train Loss: 0.1482 | Evaluate Loss: 0.0514 | Accuracy: 98.51% | MPS Memory (Alloc/Driver): 0.33/3.92 GB\n",
      "No improvement for 1/3 epochs\n"
     ]
    },
    {
     "name": "stderr",
     "output_type": "stream",
     "text": [
      "Train epoch: 16: 100%|██████████████████████████| 41/41 [00:26<00:00,  1.52it/s]\n",
      "Validate Epoch 16: 100%|████████████████████████| 24/24 [00:05<00:00,  4.22it/s]\n"
     ]
    },
    {
     "name": "stdout",
     "output_type": "stream",
     "text": [
      "Epoch 16/30 |lr: 5e-05| Train Loss: 0.1393 | Evaluate Loss: 0.0444 | Accuracy: 98.45% | MPS Memory (Alloc/Driver): 0.33/3.92 GB\n",
      "No improvement for 2/3 epochs\n"
     ]
    },
    {
     "name": "stderr",
     "output_type": "stream",
     "text": [
      "Train epoch: 17: 100%|██████████████████████████| 41/41 [00:26<00:00,  1.52it/s]\n",
      "Validate Epoch 17: 100%|████████████████████████| 24/24 [00:05<00:00,  4.17it/s]\n"
     ]
    },
    {
     "name": "stdout",
     "output_type": "stream",
     "text": [
      "Epoch 17/30 |lr: 5e-05| Train Loss: 0.1447 | Evaluate Loss: 0.0413 | Accuracy: 98.45% | MPS Memory (Alloc/Driver): 0.33/3.92 GB\n"
     ]
    },
    {
     "name": "stderr",
     "output_type": "stream",
     "text": [
      "Train epoch: 18: 100%|██████████████████████████| 41/41 [00:27<00:00,  1.51it/s]\n",
      "Validate Epoch 18: 100%|████████████████████████| 24/24 [00:05<00:00,  4.22it/s]\n"
     ]
    },
    {
     "name": "stdout",
     "output_type": "stream",
     "text": [
      "Epoch 18/30 |lr: 5e-05| Train Loss: 0.1409 | Evaluate Loss: 0.0423 | Accuracy: 98.58% | MPS Memory (Alloc/Driver): 0.33/3.92 GB\n",
      "No improvement for 1/3 epochs\n"
     ]
    },
    {
     "name": "stderr",
     "output_type": "stream",
     "text": [
      "Train epoch: 19: 100%|██████████████████████████| 41/41 [00:27<00:00,  1.51it/s]\n",
      "Validate Epoch 19: 100%|████████████████████████| 24/24 [00:05<00:00,  4.71it/s]\n"
     ]
    },
    {
     "name": "stdout",
     "output_type": "stream",
     "text": [
      "Epoch 19/30 |lr: 5e-05| Train Loss: 0.1448 | Evaluate Loss: 0.0408 | Accuracy: 98.51% | MPS Memory (Alloc/Driver): 0.33/3.92 GB\n",
      "No improvement for 2/3 epochs\n"
     ]
    },
    {
     "name": "stderr",
     "output_type": "stream",
     "text": [
      "Train epoch: 20: 100%|██████████████████████████| 41/41 [00:23<00:00,  1.77it/s]\n",
      "Validate Epoch 20: 100%|████████████████████████| 24/24 [00:05<00:00,  4.66it/s]\n"
     ]
    },
    {
     "name": "stdout",
     "output_type": "stream",
     "text": [
      "Epoch 20/30 |lr: 5e-05| Train Loss: 0.1435 | Evaluate Loss: 0.0474 | Accuracy: 98.72% | MPS Memory (Alloc/Driver): 0.33/3.92 GB\n",
      "No improvement for 3/3 epochs\n",
      "Early stopping triggered after 3 epochs\n",
      "Session complete\n",
      "historical data exists! Appending new data.\n",
      "Historical data saved successfully!\n",
      "Early stopping triggered. Moving to next session or finishing training.\n",
      "\n",
      "--- Starting Training Session 4/4 ---\n",
      "\n",
      "Unfreezing feature layer at index: -3\n"
     ]
    },
    {
     "name": "stderr",
     "output_type": "stream",
     "text": [
      "Train epoch: 1: 100%|███████████████████████████| 41/41 [00:24<00:00,  1.68it/s]\n",
      "Validate Epoch 1: 100%|█████████████████████████| 24/24 [00:05<00:00,  4.72it/s]\n"
     ]
    },
    {
     "name": "stdout",
     "output_type": "stream",
     "text": [
      "Epoch 1/40 |lr: 1e-05| Train Loss: 0.1316 | Evaluate Loss: 0.0391 | Accuracy: 98.72% | MPS Memory (Alloc/Driver): 0.32/3.92 GB\n"
     ]
    },
    {
     "name": "stderr",
     "output_type": "stream",
     "text": [
      "Train epoch: 2: 100%|███████████████████████████| 41/41 [00:24<00:00,  1.69it/s]\n",
      "Validate Epoch 2: 100%|█████████████████████████| 24/24 [00:04<00:00,  4.81it/s]\n"
     ]
    },
    {
     "name": "stdout",
     "output_type": "stream",
     "text": [
      "Epoch 2/40 |lr: 1e-05| Train Loss: 0.1322 | Evaluate Loss: 0.0418 | Accuracy: 98.65% | MPS Memory (Alloc/Driver): 0.32/4.69 GB\n",
      "No improvement for 1/3 epochs\n"
     ]
    },
    {
     "name": "stderr",
     "output_type": "stream",
     "text": [
      "Train epoch: 3: 100%|███████████████████████████| 41/41 [00:23<00:00,  1.73it/s]\n",
      "Validate Epoch 3: 100%|█████████████████████████| 24/24 [00:04<00:00,  4.89it/s]\n"
     ]
    },
    {
     "name": "stdout",
     "output_type": "stream",
     "text": [
      "Epoch 3/40 |lr: 1e-05| Train Loss: 0.1340 | Evaluate Loss: 0.0359 | Accuracy: 98.72% | MPS Memory (Alloc/Driver): 0.32/4.31 GB\n"
     ]
    },
    {
     "name": "stderr",
     "output_type": "stream",
     "text": [
      "Train epoch: 4: 100%|███████████████████████████| 41/41 [00:24<00:00,  1.70it/s]\n",
      "Validate Epoch 4: 100%|█████████████████████████| 24/24 [00:04<00:00,  4.84it/s]\n"
     ]
    },
    {
     "name": "stdout",
     "output_type": "stream",
     "text": [
      "Epoch 4/40 |lr: 1e-05| Train Loss: 0.1222 | Evaluate Loss: 0.0348 | Accuracy: 98.72% | MPS Memory (Alloc/Driver): 0.32/4.69 GB\n"
     ]
    },
    {
     "name": "stderr",
     "output_type": "stream",
     "text": [
      "Train epoch: 5: 100%|███████████████████████████| 41/41 [00:23<00:00,  1.75it/s]\n",
      "Validate Epoch 5: 100%|█████████████████████████| 24/24 [00:05<00:00,  4.79it/s]\n"
     ]
    },
    {
     "name": "stdout",
     "output_type": "stream",
     "text": [
      "Epoch 5/40 |lr: 1e-05| Train Loss: 0.1219 | Evaluate Loss: 0.0352 | Accuracy: 98.78% | MPS Memory (Alloc/Driver): 0.32/4.69 GB\n",
      "No improvement for 1/3 epochs\n"
     ]
    },
    {
     "name": "stderr",
     "output_type": "stream",
     "text": [
      "Train epoch: 6: 100%|███████████████████████████| 41/41 [00:23<00:00,  1.76it/s]\n",
      "Validate Epoch 6: 100%|█████████████████████████| 24/24 [00:04<00:00,  4.88it/s]\n"
     ]
    },
    {
     "name": "stdout",
     "output_type": "stream",
     "text": [
      "Epoch 6/40 |lr: 1e-05| Train Loss: 0.1372 | Evaluate Loss: 0.0356 | Accuracy: 98.72% | MPS Memory (Alloc/Driver): 0.32/4.69 GB\n",
      "No improvement for 2/3 epochs\n"
     ]
    },
    {
     "name": "stderr",
     "output_type": "stream",
     "text": [
      "Train epoch: 7: 100%|███████████████████████████| 41/41 [00:23<00:00,  1.75it/s]\n",
      "Validate Epoch 7: 100%|█████████████████████████| 24/24 [00:04<00:00,  4.86it/s]"
     ]
    },
    {
     "name": "stdout",
     "output_type": "stream",
     "text": [
      "Epoch 7/40 |lr: 5e-06| Train Loss: 0.1248 | Evaluate Loss: 0.0349 | Accuracy: 98.78% | MPS Memory (Alloc/Driver): 0.32/4.69 GB\n",
      "No improvement for 3/3 epochs\n",
      "Early stopping triggered after 3 epochs\n",
      "Session complete\n",
      "historical data exists! Appending new data.\n",
      "Historical data saved successfully!\n",
      "Early stopping triggered. Moving to next session or finishing training.\n",
      "\n",
      "--- Incremental training finished. Best overall accuracy: inf% ---\n"
     ]
    },
    {
     "name": "stderr",
     "output_type": "stream",
     "text": [
      "\n"
     ]
    },
    {
     "data": {
      "image/png": "[encoded data removed]",
      "text/plain": [
       "<Figure size 1000x600 with 1 Axes>"
      ]
     },
     "metadata": {},
     "output_type": "display_data"
    },
    {
     "data": {
      "image/png": "[encoded data removed]",
      "text/plain": [
       "<Figure size 1000x600 with 1 Axes>"
      ]
     },
     "metadata": {},
     "output_type": "display_data"
    }
   ],
   "source": [
    "import tensorflow as tf\n",
    "\n",
    "# Keras handles device placement automatically. This is just for confirmation.\n",
    "gpus = tf.config.list_physical_devices('GPU')\n",
    "if gpus:\n",
    "    print(f\"✅ GPU available: {gpus[0].name}\")\n",
    "else:\n",
    "    print(\"❌ No GPU found, using CPU.\")\n",
    "\n",
    "# --- 1. Configuration ---\n",
    "NUM_CLASSES = 5\n",
    "\n",
    "# The training sessions configuration is framework-agnostic and remains the same.\n",
    "training_sessions = [\n",
    "    {'epochs': 10, 'lr': 5e-4, 'unfreeze_layer': 0},      # Session 1: Train only the new head\n",
    "    {'epochs': 20, 'lr': 1e-4, 'unfreeze_layer': 20},     # Session 2: Unfreeze top 20 layers and fine-tune\n",
    "    {'epochs': 30, 'lr': 5e-5, 'unfreeze_layer': 50},     # Session 3: Unfreeze top 50 layers\n",
    "    {'epochs': 40, 'lr': 1e-5, 'unfreeze_layer': 100},    # Session 4: Unfreeze more layers with a very low LR\n",
    "]\n",
    "\n",
    "# --- 2. Model Instantiation ---\n",
    "# We use the TensorFlow/Keras model class defined previously.\n",
    "# The model is automatically placed on the GPU if one is available.\n",
    "model = LeafDiseaseClassifierMobileNetV2(num_classes=NUM_CLASSES)\n",
    "\n",
    "# --- 3. Data Loading (Assumed) ---\n",
    "# It's assumed that `train_dataset` and `validation_dataset` are tf.data.Dataset\n",
    "# objects that have been prepared as shown in previous steps.\n",
    "\n",
    "# --- 4. Run Incremental Training ---\n",
    "# Call the main orchestrator function for Keras.\n",
    "all_histories = incremental_training_keras(\n",
    "    model=model, \n",
    "    sessions=training_sessions, \n",
    "    train_dataset=train_dataset, \n",
    "    validation_dataset=validation_dataset\n",
    ")\n",
    "\n",
    "# --- 5. Plot Final Results ---\n",
    "# The consolidated plotting function shows both loss and accuracy.\n",
    "plot_training_history(*all_histories, title=\"Full Training & Fine-Tuning History\")"
   ]
  },
  {
   "cell_type": "code",
   "execution_count": 14,
   "id": "cbe84fc81ca83737",
   "metadata": {
    "ExecuteTime": {
     "end_time": "2025-08-22T13:29:13.989625Z",
     "start_time": "2025-08-22T13:29:13.059797Z"
    }
   },
   "outputs": [
    {
     "data": {
      "image/png": "[encoded data removed]",
      "text/plain": [
       "<Figure size 1000x1200 with 2 Axes>"
      ]
     },
     "metadata": {},
     "output_type": "display_data"
    }
   ],
   "source": [
    "plot_historical_results('training_results\\EfficientNetV2\\SEfficientNetV2-m_rice_pest_classificationV13.csv')"
   ]
  },
  {
   "cell_type": "code",
   "execution_count": null,
   "id": "36f273afec54bdf9",
   "metadata": {},
   "outputs": [],
   "source": [
    "import tensorflow as tf\n",
    "\n",
    "# Keras handles device placement automatically. This is for confirmation.\n",
    "gpus = tf.config.list_physical_devices('GPU')\n",
    "if gpus:\n",
    "    print(f\"✅ GPU detected and available: {gpus[0].name}\")\n",
    "else:\n",
    "    print(\"❌ No GPU found. TensorFlow will use the CPU.\")\n",
    "\n",
    "# --- 1. Configuration ---\n",
    "NUM_CLASSES = 5\n",
    "\n",
    "# The training sessions plan is framework-agnostic and can be used directly.\n",
    "training_sessions = [\n",
    "    {'epochs': 15, 'lr': 5e-4, 'unfreeze_layer': 0},\n",
    "    {'epochs': 25, 'lr': 1e-4, 'unfreeze_layer': 20},\n",
    "    {'epochs': 35, 'lr': 5e-5, 'unfreeze_layer': 50},\n",
    "    {'epochs': 45, 'lr': 1e-5, 'unfreeze_layer': 100},\n",
    "    {'epochs': 55, 'lr': 5e-6, 'unfreeze_layer': 150},\n",
    "    {'epochs': 65, 'lr': 1e-6, 'unfreeze_layer': 200},\n",
    "    {'epochs': 75, 'lr': 5e-7, 'unfreeze_layer': 250}\n",
    "]\n",
    "\n",
    "# --- 2. Data Loading (Assumed) ---\n",
    "# It's assumed `train_dataset` and `validation_dataset` are prepared\n",
    "# tf.data.Dataset objects from the previous data loading step.\n",
    "\n",
    "# --- 3. Model Instantiation ---\n",
    "# The model is automatically placed on the GPU if one is available.\n",
    "model = PestClassifierMobileNetV2(num_classes=NUM_CLASSES)\n",
    "\n",
    "# --- 4. Run Incremental Training ---\n",
    "# The main orchestrator function calls `model.fit()` for each session.\n",
    "all_histories = incremental_training_keras(\n",
    "    model=model,\n",
    "    sessions=training_sessions,\n",
    "    train_dataset=train_dataset,\n",
    "    validation_dataset=validation_dataset\n",
    ")\n",
    "\n",
    "# --- 5. Plot Final Results ---\n",
    "# The consolidated plotting function shows both loss and accuracy from all sessions.\n",
    "plot_training_history(*all_histories, title=\"Full Training & Fine-Tuning History\")"
   ]
  },
  {
   "cell_type": "code",
   "execution_count": null,
   "id": "f0d4ce6fa4b92ee4",
   "metadata": {},
   "outputs": [],
   "source": [
    "# mobilenet_v2 = models.mobilenet_v2(weights='MobileNet_V2_Weights.IMAGENET1K_V2')\n",
    "#\n",
    "# for num in range(len(mobilenet_v2.features) - 1, -1, -1):\n",
    "#     print(num)\n",
    "\n",
    "my_array = [1, 2, 3, 4, 5]\n",
    "\n",
    "# print(my_array[-5])\n",
    "\n",
    "for num in range(1, my_array.__len__() + 1):\n",
    "    print(num)"
   ]
  },
  {
   "cell_type": "code",
   "execution_count": 14,
   "id": "340b828c2f1ea908",
   "metadata": {
    "ExecuteTime": {
     "end_time": "2025-08-22T11:37:57.911231Z",
     "start_time": "2025-08-22T11:37:57.905323Z"
    }
   },
   "outputs": [],
   "source": [
    "from PIL import Image\n",
    "import numpy as np\n",
    "import tensorflow as tf\n",
    "\n",
    "def predict_single_image_keras(model, image_path, classes, transform):\n",
    "    \"\"\"\n",
    "    Predicts the class for a single image using a trained TensorFlow/Keras model.\n",
    "    \"\"\"\n",
    "    # 1. Load and preprocess the image\n",
    "    # Open the image file and convert to RGB\n",
    "    image = Image.open(image_path).convert('RGB')\n",
    "    image_np = np.array(image)\n",
    "\n",
    "    # Apply the same Albumentations transformations (e.g., resize, normalize)\n",
    "    augmented = transform(image=image_np)\n",
    "    image_processed = augmented['image']\n",
    "\n",
    "    # Add a batch dimension for the model's input\n",
    "    input_tensor = np.expand_dims(image_processed, axis=0)\n",
    "\n",
    "    # 2. Perform inference\n",
    "    # `model.predict()` is the standard Keras method for inference.\n",
    "    # It automatically handles running in evaluation mode.\n",
    "    probabilities = model.predict(input_tensor)[0] # We get the first (and only) prediction\n",
    "\n",
    "    # 3. Post-process the results\n",
    "    # Find the index with the highest probability\n",
    "    predicted_index = np.argmax(probabilities)\n",
    "    \n",
    "    # Get the confidence score and the corresponding class name\n",
    "    confidence_score = probabilities[predicted_index]\n",
    "    predicted_class = classes[predicted_index]\n",
    "\n",
    "    return predicted_class, confidence_score, probabilities"
   ]
  },
  {
   "cell_type": "code",
   "execution_count": 15,
   "id": "3fb753e351ad7371",
   "metadata": {
    "ExecuteTime": {
     "end_time": "2025-08-22T11:37:59.397764Z",
     "start_time": "2025-08-22T11:37:59.171254Z"
    }
   },
   "outputs": [],
   "source": [
    "from sklearn.metrics import classification_report, confusion_matrix, accuracy_score\n",
    "import numpy as np\n",
    "import pandas as pd\n",
    "import seaborn as sns\n",
    "import matplotlib.pyplot as plt\n",
    "import tensorflow as tf\n",
    "\n",
    "def eval_metrics_keras(model, test_dataset, class_names):\n",
    "    \"\"\"\n",
    "    Evaluates a Keras model and prints/plots key classification metrics.\n",
    "    \"\"\"\n",
    "    # 1. Get Predictions\n",
    "    # `model.predict` runs inference on the entire dataset in one go.\n",
    "    y_pred_probs = model.predict(test_dataset)\n",
    "    y_pred = np.argmax(y_pred_probs, axis=1) # Convert probabilities to class indices\n",
    "\n",
    "    # 2. Get True Labels\n",
    "    # We need to iterate through the dataset to extract the true labels.\n",
    "    y_true_one_hot = np.concatenate([y for x, y in test_dataset], axis=0)\n",
    "    y_true = np.argmax(y_true_one_hot, axis=1) # Convert one-hot encoded labels to indices\n",
    "    \n",
    "    # 3. Print Classification Report and Accuracy\n",
    "    # This part is identical to the original function.\n",
    "    print('Classification Report')\n",
    "    report = classification_report(y_true, y_pred, target_names=class_names)\n",
    "    print(report)\n",
    "    print(f\"Accuracy: {accuracy_score(y_true, y_pred)*100:.2f}%\\n\")\n",
    "\n",
    "    # 4. Plot Confusion Matrix\n",
    "    # This part is also identical.\n",
    "    print('Confusion Matrix')\n",
    "    matrix = confusion_matrix(y_true, y_pred)\n",
    "    cm_df = pd.DataFrame(matrix, index=class_names, columns=class_names)\n",
    "\n",
    "    plt.figure(figsize=(10, 8))\n",
    "    sns.heatmap(cm_df, annot=True, fmt='g', cmap='Blues')\n",
    "    plt.title('Confusion Matrix')\n",
    "    plt.ylabel('Actual Class')\n",
    "    plt.xlabel('Predicted Class')\n",
    "    plt.show()\n",
    "\n",
    "    return y_true, y_pred\n",
    "\n",
    "# This function is framework-agnostic and requires NO CHANGES.\n",
    "def save_evaluation_result(total_predictions, true_labels):\n",
    "    \"\"\"Saves true and predicted labels to a CSV file.\"\"\"\n",
    "    data = pd.DataFrame({\n",
    "        'True Labels': true_labels,\n",
    "        'Predicted Labels': total_predictions\n",
    "    })\n",
    "    data.to_csv('evaluation_result.csv', index=False)\n",
    "    print(\"Evaluation results saved to evaluation_result.csv\")"
   ]
  },
  {
   "cell_type": "code",
   "execution_count": null,
   "id": "affbac0d0a0851c8",
   "metadata": {},
   "outputs": [],
   "source": [
    "import tensorflow as tf\n",
    "import numpy as np\n",
    "from PIL import Image\n",
    "\n",
    "# --- 1. Prerequisites (Assumed) ---\n",
    "# It's assumed that `train_dataset` and `test_dataset` are prepared tf.data.Dataset objects\n",
    "# and `validation_pipeline` is your Albumentations transform pipeline.\n",
    "\n",
    "# --- 2. Get Class Names ---\n",
    "# The class names are an attribute of the dataset object.\n",
    "class_names = train_dataset.class_names\n",
    "\n",
    "# --- 3. Load the Trained Keras Model ---\n",
    "# Keras's load_model restores the entire model - architecture, weights, and optimizer state.\n",
    "# Device placement is handled automatically.\n",
    "model_path = 'models/MobileNetV2/v2/Basic/SMobileNetV2_rice_pest_classificationV14.keras'\n",
    "model_inference = tf.keras.models.load_model(model_path)\n",
    "\n",
    "print(\"✅ Model loaded successfully.\")\n",
    "model_inference.summary()\n",
    "\n",
    "# --- 4. Perform Prediction on a Single Image ---\n",
    "image_path = 'datasets/val/brown-planthopper/7 (758).jpg'\n",
    "unrelated = 'unrelated_data/eagle.jpg'\n",
    "\n",
    "# Call the Keras-specific prediction function\n",
    "pest, confidence_score, over_all_scores = predict_single_image_keras(\n",
    "    model=model_inference, \n",
    "    image_path=image_path, \n",
    "    classes=class_names, \n",
    "    transform=validation_pipeline\n",
    ")\n",
    "\n",
    "# --- 5. Display Results ---\n",
    "print(f\"\\nThe predicted pest is: {pest}\")\n",
    "print(f\"Confidence: {confidence_score * 100:.2f}%\")\n",
    "print(f\"Overall scores: {over_all_scores}\")\n",
    "\n",
    "# --- 6. Full Evaluation (Optional) ---\n",
    "# This is the Keras equivalent of the commented-out line\n",
    "# true, pred = eval_metrics_keras(model_inference, test_dataset, class_names)"
   ]
  },
  {
   "cell_type": "code",
   "execution_count": 17,
   "id": "71eb9ff1094cad55",
   "metadata": {
    "ExecuteTime": {
     "end_time": "2025-08-22T11:38:45.916325Z",
     "start_time": "2025-08-22T11:38:38.737868Z"
    }
   },
   "outputs": [
    {
     "name": "stdout",
     "output_type": "stream",
     "text": [
      "The predicted pest is: green-leafhopper\n",
      "Confidence: 96.54%\n",
      "Overall score: [2.8930137e-02 9.6535772e-01 2.4244012e-04 1.4524395e-03 3.8111259e-03\n",
      " 2.0627611e-04]\n"
     ]
    },
    {
     "name": "stderr",
     "output_type": "stream",
     "text": [
      "100%|██████████| 34/34 [00:05<00:00,  5.93it/s]\n"
     ]
    },
    {
     "name": "stdout",
     "output_type": "stream",
     "text": [
      "Classification Report\n",
      "                   precision    recall  f1-score   support\n",
      "\n",
      "brown-planthopper       0.95      0.92      0.94       246\n",
      " green-leafhopper       0.93      0.93      0.93       215\n",
      "   rice-black-bug       0.94      1.00      0.97        16\n",
      " rice-leaf-folder       0.96      0.99      0.97       275\n",
      "       stem-borer       0.98      0.97      0.98       197\n",
      "     whorl-maggot       0.96      0.97      0.96       125\n",
      "\n",
      "         accuracy                           0.96      1074\n",
      "        macro avg       0.95      0.96      0.96      1074\n",
      "     weighted avg       0.96      0.96      0.96      1074\n",
      "\n",
      "Accuracy: 95.53%\n",
      "\n",
      "Confusion Matrix\n"
     ]
    },
    {
     "data": {
      "image/png": "[encoded data removed]",
      "text/plain": [
       "<Figure size 1000x800 with 2 Axes>"
      ]
     },
     "metadata": {},
     "output_type": "display_data"
    }
   ],
   "source": [
    "import tensorflow as tf\n",
    "import numpy as np\n",
    "from PIL import Image\n",
    "\n",
    "# --- 1. Prerequisites (Assumed) ---\n",
    "# It's assumed that `train_dataset` and `test_dataset` are prepared tf.data.Dataset objects\n",
    "# and `validation_pipeline` is your Albumentations transform pipeline.\n",
    "\n",
    "# --- 2. Get Class Names ---\n",
    "# The class names are an attribute of the dataset object.\n",
    "class_names = train_dataset.class_names\n",
    "\n",
    "# --- 3. Load the Trained Keras Model ---\n",
    "# Keras's load_model restores the entire model - architecture, weights, and optimizer state.\n",
    "# Device placement is handled automatically.\n",
    "model_path = 'models/EfficientNetV2/SEfficientNetV2-m_rice_pest_classificationV12.keras'\n",
    "model_inference = tf.keras.models.load_model(model_path)\n",
    "\n",
    "print(\"✅ Model loaded successfully.\")\n",
    "model_inference.summary()\n",
    "\n",
    "# --- 4. Perform Prediction on a Single Image ---\n",
    "image_path = 'datasets/val/brown-planthopper/7 (758).jpg'\n",
    "unrelated = 'unrelated_data/imagesz.jpg'\n",
    "\n",
    "# Call the Keras-specific prediction function\n",
    "pest, confidence_score, over_all_scores = predict_single_image_keras(\n",
    "    model=model_inference,\n",
    "    image_path=unrelated,\n",
    "    classes=class_names,\n",
    "    transform=validation_pipeline\n",
    ")\n",
    "\n",
    "# --- 5. Display Prediction Results ---\n",
    "print(f\"\\nThe predicted pest is: {pest}\")\n",
    "print(f\"Confidence: {confidence_score * 100:.2f}%\")\n",
    "print(f\"Overall scores: {over_all_scores}\")\n",
    "\n",
    "\n",
    "# --- 6. Full Evaluation ---\n",
    "# Run evaluation on the entire test set\n",
    "true, pred = eval_metrics_keras(model_inference, test_dataset, class_names)"
   ]
  }
 ],
 "metadata": {
  "kernelspec": {
   "display_name": "Python 3 (ipykernel)",
   "language": "python",
   "name": "python3"
  },
  "language_info": {
   "codemirror_mode": {
    "name": "ipython",
    "version": 3
   },
   "file_extension": ".py",
   "mimetype": "text/x-python",
   "name": "python",
   "nbconvert_exporter": "python",
   "pygments_lexer": "ipython3",
   "version": "3.10.18"
  }
 },
 "nbformat": 4,
 "nbformat_minor": 5
}
