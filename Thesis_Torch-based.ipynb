{
 "cells": [
  {
   "cell_type": "code",
   "execution_count": 1,
   "id": "cb5a725a97da07f1",
   "metadata": {
    "ExecuteTime": {
     "end_time": "2025-08-22T11:37:30.174138Z",
     "start_time": "2025-08-22T11:37:28.699288Z"
    }
   },
   "outputs": [
    {
     "name": "stdout",
     "output_type": "stream",
     "text": [
      "MPS backend available ✅\n",
      "Using device: mps\n"
     ]
    }
   ],
   "source": [
    "import torch\n",
    "\n",
    "if torch.backends.mps.is_available():\n",
    "    device = torch.device(\"mps\")\n",
    "    print(\"MPS backend available ✅\")\n",
    "    print(f\"Using device: {device}\")\n",
    "else:\n",
    "    device = torch.device(\"cpu\")\n",
    "    print(\"MPS not available ❌, using CPU\")"
   ]
  },
  {
   "cell_type": "code",
   "execution_count": 2,
   "id": "416f554c-a667-46b2-8ba6-8c7a6742d591",
   "metadata": {},
   "outputs": [],
   "source": [
    "import gc, psutil, os\n",
    "\n",
    "def memory_report():\n",
    "    total_elements = 0\n",
    "    total_bytes = 0\n",
    "\n",
    "    # Go through all live tensors\n",
    "    for obj in gc.get_objects():\n",
    "        try:\n",
    "            if torch.is_tensor(obj):\n",
    "                total_elements += obj.numel()\n",
    "                total_bytes += obj.element_size() * obj.numel()\n",
    "            elif hasattr(obj, \"data\") and torch.is_tensor(obj.data):\n",
    "                total_elements += obj.data.numel()\n",
    "                total_bytes += obj.data.element_size() * obj.data.numel()\n",
    "        except Exception:\n",
    "            pass\n",
    "\n",
    "    total_mb = total_bytes / (1024 ** 2)\n",
    "\n",
    "    process = psutil.Process(os.getpid())\n",
    "    rss_mb = process.memory_info().rss / (1024 ** 2)\n",
    "\n",
    "    print(\"\\n--- MEMORY USAGE REPORT ---\")\n",
    "    print(f\"Tensors Allocated: {total_elements:,}\")\n",
    "    print(f\"Tensor Memory:     {total_mb:.2f} MB\")\n",
    "    print(f\"Process RSS:       {rss_mb:.2f} MB\")\n",
    "    print(\"---------------------------\\n\")"
   ]
  },
  {
   "cell_type": "code",
   "execution_count": 3,
   "id": "23d50c3f254a094",
   "metadata": {
    "ExecuteTime": {
     "end_time": "2025-08-22T11:37:30.640403Z",
     "start_time": "2025-08-22T11:37:30.634211Z"
    }
   },
   "outputs": [
    {
     "name": "stdout",
     "output_type": "stream",
     "text": [
      "\n",
      "--- MEMORY USAGE REPORT ---\n",
      "Tensors Allocated: 64,000,000\n",
      "Tensor Memory:     244.14 MB\n",
      "Process RSS:       243.22 MB\n",
      "---------------------------\n",
      "\n"
     ]
    },
    {
     "name": "stderr",
     "output_type": "stream",
     "text": [
      "/opt/anaconda3/lib/python3.12/site-packages/torch/__init__.py:1125: FutureWarning: `torch.distributed.reduce_op` is deprecated, please use `torch.distributed.ReduceOp` instead\n",
      "  return isinstance(obj, torch.Tensor)\n",
      "/var/folders/19/6jsh26815bq0m281bn69tt9w0000gn/T/ipykernel_1064/2450541917.py:13: FutureWarning: `torch.distributed.reduce_op` is deprecated, please use `torch.distributed.ReduceOp` instead\n",
      "  elif hasattr(obj, \"data\") and torch.is_tensor(obj.data):\n"
     ]
    }
   ],
   "source": [
    "# Allocate a big tensor on MPS to test\n",
    "x = torch.rand((8000, 8000), device=device)  \n",
    "memory_report()"
   ]
  },
  {
   "cell_type": "code",
   "execution_count": 4,
   "id": "initial_id",
   "metadata": {
    "ExecuteTime": {
     "end_time": "2025-08-22T11:37:32.339066Z",
     "start_time": "2025-08-22T11:37:31.874542Z"
    }
   },
   "outputs": [],
   "source": [
    "import albumentations as A\n",
    "from albumentations.pytorch import ToTensorV2\n",
    "\n",
    "training_pipeline = A.Compose([\n",
    "\n",
    "    A.Resize(height=224, width=224),\n",
    "    A.RandomResizedCrop(size=(224, 224), scale=(0.8, 1.0), p=1.0),\n",
    "    A.HorizontalFlip(p=0.5),\n",
    "    A.VerticalFlip(p=0.5),\n",
    "    A.Rotate(limit=40, p=0.7),\n",
    "    A.GridDistortion(p=0.3),\n",
    "    \n",
    "    A.RandomBrightnessContrast(brightness_limit=(-0.3, 0.3), contrast_limit=(-0.2, 0.2), p=0.5),\n",
    "    A.ColorJitter(brightness=0.2, contrast=0.2, saturation=0.2, hue=0.2, p=0.4),\n",
    "\n",
    "    A.OneOf([\n",
    "        A.GaussNoise(std_range=(0.1, 0.2), per_channel=True, p=0.4),\n",
    "        A.CoarseDropout(num_holes_range=(1, 8), hole_height_range=(0.1, 0.25), hole_width_range=(0.1, 0.25), fill=0, p=0.5)\n",
    "    ], p=0.5),\n",
    "\n",
    "    A.Normalize(mean=(0.485, 0.456, 0.406), std=(0.229, 0.224, 0.225)),\n",
    "    ToTensorV2()\n",
    "])\n",
    "\n",
    "validation_pipeline = A.Compose([\n",
    "    A.Resize(height=224, width=224),\n",
    "    A.Normalize(mean=(0.485, 0.456, 0.406), std=(0.229, 0.224, 0.225)),\n",
    "    ToTensorV2()\n",
    "])\n",
    "\n",
    "basic_pipeline = A.Compose([\n",
    "    A.Resize(height=224, width=224),\n",
    "    A.HorizontalFlip(p=0.6),\n",
    "    A.VerticalFlip(p=0.6),\n",
    "    A.Rotate(limit=(-45,45), p=0.7),\n",
    "    A.Normalize(mean=(0.485, 0.456, 0.406), std=(0.229, 0.224, 0.225)),\n",
    "    ToTensorV2()\n",
    "])"
   ]
  },
  {
   "cell_type": "code",
   "execution_count": 5,
   "id": "b5a4c7c7-3b0c-4e4f-8251-bacb3719ea4b",
   "metadata": {},
   "outputs": [],
   "source": [
    "import random\n",
    "import shutil\n",
    "from pathlib import Path\n",
    "from tqdm import tqdm\n",
    "\n",
    "def prepare_image_datasets(source_dir, base_dir, split_ratios):\n",
    "\n",
    "     if not (0.999 < sum(split_ratios) < 1.001):\n",
    "             raise ValueError('split_ratios must sum to 1')\n",
    "\n",
    "     source_path = Path(source_dir)\n",
    "     base_path = Path(base_dir)\n",
    "\n",
    "     if not source_path.is_dir():\n",
    "         print(f'Source directory {source_path.name} does not exist')\n",
    "         return\n",
    "\n",
    "     train_path = base_path / 'train'\n",
    "     test_path = base_path / 'test'\n",
    "     val_path = base_path / 'val'\n",
    "\n",
    "     class_names = [d.name for d in source_path.iterdir() if d.is_dir()]\n",
    "\n",
    "     if not class_names:\n",
    "         print(f'Source directory {source_path.name} does not contain any class names')\n",
    "         return\n",
    "\n",
    "     for directory in [train_path, test_path, val_path]:\n",
    "         for class_name in class_names:\n",
    "             (directory / class_name).mkdir(parents=True, exist_ok=True)\n",
    "\n",
    "     for class_name in class_names:\n",
    "\n",
    "         class_source_path = source_path / class_name\n",
    "\n",
    "         files = [f for f in class_source_path.iterdir() if f.is_file()]\n",
    "\n",
    "         random.shuffle(files)\n",
    "\n",
    "         total_files = len(files)\n",
    "         train_end = int(total_files * split_ratios[0])\n",
    "         test_end = train_end + int(total_files * split_ratios[1])\n",
    "\n",
    "         split_data = {\n",
    "             'train': (files[:train_end], train_path),\n",
    "             'test': (files[train_end:test_end], test_path),\n",
    "             'val': (files[test_end:], val_path)\n",
    "         }\n",
    "\n",
    "         print(f\"Copying {class_name} to {base_path}\")\n",
    "\n",
    "         for split_name, (file_list, destination_path) in split_data.items():\n",
    "\n",
    "             dest_class_path = destination_path / class_name\n",
    "\n",
    "             for file_path in tqdm(file_list, desc=f'Copying {split_name} files'):\n",
    "\n",
    "                 shutil.copy2(file_path, dest_class_path / file_path.name)\n",
    "\n",
    "         print(f'Copying {class_name} finished!')\n",
    "\n",
    "     print(\"Data splitting successful!\")"
   ]
  },
  {
   "cell_type": "code",
   "execution_count": 6,
   "id": "6daf511998047715",
   "metadata": {
    "ExecuteTime": {
     "end_time": "2025-08-22T11:37:34.399829Z",
     "start_time": "2025-08-22T11:37:33.356129Z"
    }
   },
   "outputs": [],
   "source": [
    "import cv2\n",
    "from torchvision import datasets\n",
    "\n",
    "class CustomDataset(datasets.ImageFolder):\n",
    "\n",
    "    def __getitem__(self, index):\n",
    "\n",
    "        path, target = self.samples[index]\n",
    "\n",
    "        image = cv2.imread(path)\n",
    "        image = cv2.cvtColor(image, cv2.COLOR_BGR2RGB)\n",
    "\n",
    "        if self.transform:\n",
    "            augmented = self.transform(image=image)\n",
    "            image = augmented['image']\n",
    "\n",
    "        return image, target\n",
    "\n",
    "    def __len__(self):\n",
    "        return len(self.samples)"
   ]
  },
  {
   "cell_type": "code",
   "execution_count": 41,
   "id": "40053fea-6363-4dbc-935a-2946ffc1c922",
   "metadata": {},
   "outputs": [
    {
     "ename": "ValueError",
     "evalue": "Source and base data directory not found",
     "output_type": "error",
     "traceback": [
      "\u001b[0;31m---------------------------------------------------------------------------\u001b[0m",
      "\u001b[0;31mValueError\u001b[0m                                Traceback (most recent call last)",
      "Cell \u001b[0;32mIn[41], line 5\u001b[0m\n\u001b[1;32m      2\u001b[0m base_data_dir \u001b[38;5;241m=\u001b[39m \u001b[38;5;124m'\u001b[39m\u001b[38;5;124m'\u001b[39m\n\u001b[1;32m      4\u001b[0m \u001b[38;5;28;01mif\u001b[39;00m \u001b[38;5;129;01mnot\u001b[39;00m source_data_dir \u001b[38;5;129;01mor\u001b[39;00m \u001b[38;5;129;01mnot\u001b[39;00m base_data_dir:\n\u001b[0;32m----> 5\u001b[0m     \u001b[38;5;28;01mraise\u001b[39;00m \u001b[38;5;167;01mValueError\u001b[39;00m(\u001b[38;5;124m'\u001b[39m\u001b[38;5;124mSource and base data directory not found\u001b[39m\u001b[38;5;124m'\u001b[39m)\n\u001b[1;32m      7\u001b[0m prepare_image_datasets(source_data_dir, base_data_dir, split_ratios\u001b[38;5;241m=\u001b[39m(\u001b[38;5;241m0.6\u001b[39m, \u001b[38;5;241m0.2\u001b[39m, \u001b[38;5;241m0.2\u001b[39m))\n",
      "\u001b[0;31mValueError\u001b[0m: Source and base data directory not found"
     ]
    }
   ],
   "source": [
    "source_data_dir = ''\n",
    "base_data_dir = ''\n",
    "\n",
    "if not source_data_dir or not base_data_dir:\n",
    "    raise ValueError('Source and base data directory not found')\n",
    "\n",
    "prepare_image_datasets(source_data_dir, base_data_dir, split_ratios=(0.7, 0.1, 0.2))"
   ]
  },
  {
   "cell_type": "code",
   "execution_count": 7,
   "id": "8172f748d43e758a",
   "metadata": {
    "ExecuteTime": {
     "end_time": "2025-08-22T11:37:36.104378Z",
     "start_time": "2025-08-22T11:37:36.095528Z"
    }
   },
   "outputs": [],
   "source": [
    "import torchvision.models as models\n",
    "import torch.nn as nn\n",
    "import torch.nn.functional as F\n",
    "\n",
    "class LeafDiseaseClassifierMobileNetV2(nn.Module):\n",
    "\n",
    "    def __init__(self, num_classes):\n",
    "        super(LeafDiseaseClassifierMobileNetV2, self).__init__()\n",
    "\n",
    "        # get model\n",
    "        self.base_model = models.mobilenet_v2(weights='MobileNet_V2_Weights.IMAGENET1K_V2')\n",
    "\n",
    "        # Froze feature extraction layer to retain weights.\n",
    "        for params in self.base_model.parameters():\n",
    "            params.requires_grad = False\n",
    "\n",
    "        # get number of features\n",
    "        num_filters = self.base_model.classifier[1].in_features\n",
    "\n",
    "        self.base_model.classifier = nn.Sequential(\n",
    "            nn.Dropout(p=0.4, inplace=True),\n",
    "            nn.Linear(num_filters, num_classes),\n",
    "        )\n",
    "\n",
    "\n",
    "    # Forward propagation\n",
    "    def forward(self, x):\n",
    "\n",
    "       features = self.base_model.features(x)\n",
    "\n",
    "       #features = F.adaptive_max_pool2d(features, output_size=(1, 1)).reshape(features.shape[0], -1)\n",
    "\n",
    "       #avg_pool = F.adaptive_avg_pool2d(features, output_size=(1, 1))\n",
    "       #max_pool = F.adaptive_max_pool2d(features, output_size=(1, 1))\n",
    "       #features = torch.cat([avg_pool, max_pool], dim=1).reshape(features.shape[0], -1)\n",
    "       \n",
    "       features = F.adaptive_avg_pool2d(features, output_size=(1, 1)).reshape(features.shape[0], -1)\n",
    "\n",
    "       features = self.base_model.classifier(features)\n",
    "\n",
    "       return features\n",
    "\n",
    "    def unfreeze_layer(self, layer):\n",
    "\n",
    "        if not (1 <= layer <= len(self.base_model.features)):\n",
    "            print(f\"Error: Invalid layer index {layer}.\")\n",
    "            return\n",
    "\n",
    "        # Corrected print statement\n",
    "        print(f\"\\nUnfreezing feature layer at index: -{layer}\")\n",
    "\n",
    "        for param in self.base_model.features[-layer].parameters():\n",
    "            param.requires_grad = True\n"
   ]
  },
  {
   "cell_type": "code",
   "execution_count": 8,
   "id": "fa85eeeb-2213-45e7-a5ca-52099b79d26b",
   "metadata": {},
   "outputs": [],
   "source": [
    "import torchvision.models as models\n",
    "import torch.nn as nn\n",
    "import torch.nn.functional as F\n",
    "\n",
    "class LeafDiseaseClassifierMobileNetV3L(nn.Module):\n",
    "\n",
    "    def __init__(self, num_classes):\n",
    "        super(LeafDiseaseClassifierMobileNetV3L, self).__init__()\n",
    "\n",
    "        # get model\n",
    "        self.base_model = models.mobilenet_v3_large(weights='MobileNet_V3_Large_Weights.IMAGENET1K_V2')\n",
    "\n",
    "        # Froze feature extraction layer to retain weights.\n",
    "        for params in self.base_model.parameters():\n",
    "            params.requires_grad = False\n",
    "\n",
    "        # get number of features\n",
    "        num_filters = self.base_model.classifier[0].in_features\n",
    "\n",
    "        # Hyperparameter tuning: new layer for number of classes\n",
    "        self.base_model.classifier = nn.Sequential(\n",
    "            nn.Dropout(p=0.4, inplace=True),\n",
    "            nn.Linear(num_filters, num_classes),\n",
    "        )\n",
    "\n",
    "    # Forward propagation\n",
    "    def forward(self, x):\n",
    "\n",
    "       features = self.base_model.features(x)\n",
    "\n",
    "       features = F.adaptive_avg_pool2d(features, output_size=(1, 1)).reshape(features.shape[0], -1)\n",
    "\n",
    "       features = self.base_model.classifier(features)\n",
    "\n",
    "       return features\n",
    "\n",
    "    def unfreeze_layer(self, layer):\n",
    "\n",
    "        if not (1 <= layer <= len(self.base_model.features)):\n",
    "            print(f\"Error: Invalid layer index {layer}.\")\n",
    "            return\n",
    "\n",
    "        # Corrected print statement\n",
    "        print(f\"\\nUnfreezing feature layer at index: -{layer}\")\n",
    "\n",
    "        for param in self.base_model.features[-layer].parameters():\n",
    "            param.requires_grad = True\n"
   ]
  },
  {
   "cell_type": "code",
   "execution_count": 9,
   "id": "2d2d688f4e97b8e2",
   "metadata": {
    "ExecuteTime": {
     "end_time": "2025-08-22T11:37:37.921596Z",
     "start_time": "2025-08-22T11:37:37.916151Z"
    }
   },
   "outputs": [],
   "source": [
    "class LeafDiseaseClassifierEfficientNetV2S(nn.Module):\n",
    "\n",
    "    def __init__(self, num_classes):\n",
    "        super(LeafDiseaseClassifierEfficientNetV2S, self).__init__()\n",
    "\n",
    "        self.base_model = models.efficientnet_v2_s(weights='EfficientNet_V2_S_Weights.IMAGENET1K_V1')\n",
    "\n",
    "        for params in self.base_model.parameters():\n",
    "            params.requires_grad = False\n",
    "\n",
    "        features = self.base_model.classifier[1].in_features\n",
    "\n",
    "        self.base_model.classifier = nn.Sequential(\n",
    "            nn.Dropout(p=0.5, inplace=True),\n",
    "            nn.Linear(features, num_classes),\n",
    "        )\n",
    "\n",
    "    def forward(self, x):\n",
    "\n",
    "        features = self.base_model.features(x)\n",
    "\n",
    "        features = F.adaptive_avg_pool2d(features, output_size=(1, 1)).reshape(features.shape[0], -1)\n",
    "\n",
    "        features = self.base_model.classifier(features)\n",
    "\n",
    "        return features\n",
    "\n",
    "    def unfreeze_layer(self, layer):\n",
    "\n",
    "        if not (1 <= layer <= len(self.base_model.features)):\n",
    "            print(f\"Error: Invalid layer index {layer}.\")\n",
    "            return\n",
    "\n",
    "        print(f\"\\nUnfreezing feature layer at index: -{layer}\")\n",
    "\n",
    "        for params in self.base_model.features[-layer].parameters():\n",
    "            params.requires_grad = True\n"
   ]
  },
  {
   "cell_type": "code",
   "execution_count": 10,
   "id": "000813b9-2333-48a5-9371-eb5d7e87ba4e",
   "metadata": {},
   "outputs": [],
   "source": [
    "class LeafDiseaseClassifierShuffleNetV2(nn.Module):\n",
    "\n",
    "    def __init__(self, num_classes):\n",
    "        super(LeafDiseaseClassifierShuffleNetV2, self).__init__()\n",
    "\n",
    "        self.base_model = models.shufflenet_v2_x2_0(weights='ShuffleNet_V2_X2_0_Weights.IMAGENET1K_V1')\n",
    "\n",
    "        for params in self.base_model.parameters():\n",
    "            params.requires_grad = False\n",
    "\n",
    "        features = self.base_model.fc.in_features\n",
    "\n",
    "        self.base_model.fc = nn.Sequential(\n",
    "            nn.Dropout(p=0.5, inplace=True),\n",
    "            nn.Linear(features, num_classes),\n",
    "        )\n",
    "\n",
    "    def forward(self, x):\n",
    "\n",
    "        return self.base_model(x)\n",
    "\n",
    "    def unfreeze_layer(self, layer):\n",
    "        feature_blocks = [\n",
    "            self.base_model.conv1,\n",
    "            self.base_model.stage2,\n",
    "            self.base_model.stage3,\n",
    "            self.base_model.stage4,\n",
    "            self.base_model.conv5\n",
    "        ]\n",
    "\n",
    "        if not (1 <= layer <= len(feature_blocks)):\n",
    "            print(f\"Error: Invalid layer index {layer}. Choose between 1 and {len(feature_blocks)}.\")\n",
    "            return\n",
    "\n",
    "        print(f\"\\nUnfreezing feature block at index: -{layer}\")\n",
    "\n",
    "        # Unfreeze the parameters of the selected block from the end of the list.\n",
    "        for params in feature_blocks[-layer].parameters():\n",
    "            params.requires_grad = True\n"
   ]
  },
  {
   "cell_type": "code",
   "execution_count": 11,
   "id": "fca4e6f7abec2fbd",
   "metadata": {
    "ExecuteTime": {
     "end_time": "2025-08-22T11:37:39.811978Z",
     "start_time": "2025-08-22T11:37:39.803606Z"
    }
   },
   "outputs": [],
   "source": [
    "import torch\n",
    "import numpy as np\n",
    "\n",
    "def rand_bbox(size, lam):\n",
    "    \"\"\"Generates a random bounding box for the patch.\"\"\"\n",
    "    W = size[2]\n",
    "    H = size[3]\n",
    "    cut_rat = np.sqrt(1. - lam)\n",
    "    cut_w = int(W * cut_rat)\n",
    "    cut_h = int(H * cut_rat)\n",
    "\n",
    "    # Uniform\n",
    "    cx = np.random.randint(W)\n",
    "    cy = np.random.randint(H)\n",
    "\n",
    "    bbx1 = np.clip(cx - cut_w // 2, 0, W)\n",
    "    bby1 = np.clip(cy - cut_h // 2, 0, H)\n",
    "    bbx2 = np.clip(cx + cut_w // 2, 0, W)\n",
    "    bby2 = np.clip(cy + cut_h // 2, 0, H)\n",
    "\n",
    "    return bbx1, bby1, bbx2, bby2\n",
    "\n",
    "def train_and_validate(model, optimizer, criterion, train_dataloader, validation_dataloader, num_epoch, device, scheduler, model_dir, patience=3, min_delta=0.001):\n",
    "\n",
    "    train_losses = []\n",
    "    validation_losses = []\n",
    "    accuracies = []\n",
    "    patience_counter = 0\n",
    "    best_validation_loss=float('inf')\n",
    "    best_session_accuracy = float('inf')\n",
    "    stop_early=False\n",
    "    fully_stop = False\n",
    "\n",
    "    for epoch in range(num_epoch):\n",
    "        model.train()\n",
    "        running_train_loss = 0.0\n",
    "        train_pbar = tqdm(train_dataloader, desc=f\"Train epoch: {epoch+1}\")\n",
    "        for data, labels in train_pbar:\n",
    "            data, labels = data.to(device), labels.to(device)\n",
    "            optimizer.zero_grad()\n",
    "\n",
    "            use_cutmix = False # You can make this conditional\n",
    "            alpha = 1.0\n",
    "            \n",
    "            if use_cutmix and np.random.rand() < 0.5:\n",
    "                # Generate a random index to mix with\n",
    "                rand_index = torch.randperm(data.size()[0]).to(device)\n",
    "                target_a = labels\n",
    "                target_b = labels[rand_index]\n",
    "                lam = np.random.beta(alpha, alpha)\n",
    "\n",
    "                bbx1, bby1, bbx2, bby2 = rand_bbox(data.size(), lam)\n",
    "                data[:, :, bbx1:bbx2, bby1:bby2] = data[rand_index, :, bbx1:bbx2, bby1:bby2]\n",
    "                \n",
    "                # Adjust lambda to match the actual patch area\n",
    "                lam = 1 - ((bbx2 - bbx1) * (bby2 - bby1) / (data.size()[-1] * data.size()[-2]))\n",
    "                \n",
    "                output = model(data)\n",
    "                # Calculate the mixed loss\n",
    "                loss = criterion(output, target_a) * lam + criterion(output, target_b) * (1. - lam)\n",
    "\n",
    "            else:\n",
    "                # Standard training if CutMix is not used\n",
    "                output = model(data)\n",
    "                loss = criterion(output, labels)\n",
    "            \n",
    "            loss.backward()\n",
    "            optimizer.step()\n",
    "            running_train_loss += loss.item()\n",
    "        training_loss = running_train_loss / len(train_dataloader)\n",
    "        train_losses.append(training_loss)\n",
    "\n",
    "        model.eval()\n",
    "        running_eval_loss = 0.0\n",
    "        correct_predictions = 0\n",
    "        total_samples = 0\n",
    "\n",
    "        with torch.no_grad():\n",
    "            for inputs, labels in tqdm(validation_dataloader, desc=f\"Validate Epoch {epoch+1}\"):\n",
    "                inputs, labels = inputs.to(device), labels.to(device)\n",
    "\n",
    "                logits = model(inputs)\n",
    "                loss = criterion(logits, labels)\n",
    "                running_eval_loss += loss.item()\n",
    "                _, predicted = torch.max(logits.data, 1)\n",
    "                total_samples += labels.size(0)\n",
    "                correct_predictions += (predicted == labels).sum().item()\n",
    "\n",
    "        validation_loss = running_eval_loss / len(validation_dataloader)\n",
    "        validation_losses.append(validation_loss)\n",
    "        accuracy = 100 * correct_predictions / total_samples\n",
    "        accuracies.append(accuracy)\n",
    "\n",
    "        scheduler.step(validation_loss)\n",
    "\n",
    "        current_lr = optimizer.param_groups[0]['lr']\n",
    "        epoch_summary = f'Epoch {epoch+1}/{num_epoch} |lr: {current_lr}| Train Loss: {training_loss:.4f} | Evaluate Loss: {validation_loss:.4f} | Accuracy: {accuracy:.2f}%'\n",
    "\n",
    "        if device.type == 'cuda':\n",
    "            allocated_gb = torch.cuda.memory_allocated() / (1024 ** 3)\n",
    "            reserved_gb = torch.cuda.memory_reserved() / (1024 ** 3)\n",
    "            epoch_summary += f' | GPU Memory (Alloc/Reserved): {allocated_gb:.2f}/{reserved_gb:.2f} GB'\n",
    "        \n",
    "        elif device.type == 'mps':\n",
    "            try:\n",
    "                allocated_gb = torch.mps.current_allocated_memory() / (1024 ** 3)\n",
    "                reserved_gb = torch.mps.driver_allocated_memory() / (1024 ** 3)\n",
    "                epoch_summary += f' | MPS Memory (Alloc/Driver): {allocated_gb:.2f}/{reserved_gb:.2f} GB'\n",
    "            except AttributeError:\n",
    "                epoch_summary += \" | MPS Memory: not available in this PyTorch version\"\n",
    "\n",
    "        tqdm.write(epoch_summary)\n",
    "\n",
    "        if validation_loss < best_validation_loss - min_delta:\n",
    "\n",
    "            patience_counter = 0\n",
    "            best_validation_loss = validation_loss\n",
    "            torch.save(model.state_dict(), model_dir)\n",
    "        else:\n",
    "            patience_counter += 1\n",
    "            tqdm.write(f'No improvement for {patience_counter}/{patience} epochs')\n",
    "\n",
    "        if  validation_loss >= training_loss:\n",
    "            tqdm.write(f'Training stopped! Validation loss: {validation_loss:.4f} | Training loss: {training_loss:.4f}')\n",
    "            fully_stop = True\n",
    "            break\n",
    "\n",
    "        if patience_counter >= patience:\n",
    "            tqdm.write(f'Early stopping triggered after {patience_counter} epochs')\n",
    "            stop_early = True\n",
    "            break\n",
    "\n",
    "    tqdm.write('Session complete')\n",
    "\n",
    "    return {'train_loss': train_losses, 'validation_loss': validation_losses, 'accuracy': accuracies}, best_session_accuracy, stop_early, fully_stop"
   ]
  },
  {
   "cell_type": "markdown",
   "id": "9b5134a74e091e48",
   "metadata": {},
   "source": [
    "<h2>  Saving and plott</h2>"
   ]
  },
  {
   "cell_type": "code",
   "execution_count": 12,
   "id": "74773810c269080d",
   "metadata": {
    "ExecuteTime": {
     "end_time": "2025-08-22T13:28:36.576184Z",
     "start_time": "2025-08-22T13:28:36.497110Z"
    }
   },
   "outputs": [],
   "source": [
    "import seaborn as sns\n",
    "import matplotlib.pyplot as plt\n",
    "import pandas as pd\n",
    "import os\n",
    "\n",
    "def plot_training_result(*results):\n",
    "\n",
    "    full_training_loss = []\n",
    "    full_validation_loss = []\n",
    "\n",
    "    for result in results:\n",
    "        train_loss = result.get('train_loss', [])\n",
    "        full_training_loss.extend(train_loss)\n",
    "        full_validation_loss.extend(result.get('validation_loss', []))\n",
    "\n",
    "    total_epochs = len(full_training_loss)\n",
    "\n",
    "    if total_epochs == 0:\n",
    "        print(\"No data to plot.\")\n",
    "        return\n",
    "\n",
    "    epochs = range(1, total_epochs + 1)\n",
    "\n",
    "    data = {\n",
    "        'Epoch': epochs,\n",
    "        'Training Loss': full_training_loss,\n",
    "        'Validation Loss': full_validation_loss,\n",
    "    }\n",
    "\n",
    "    df = pd.DataFrame(data)\n",
    "\n",
    "    df_long = df.melt(id_vars=['Epoch'], var_name='Loss Type', value_name='Loss')\n",
    "\n",
    "    plt.figure(figsize=(10, 6))\n",
    "    sns.lineplot(data=df_long, x='Epoch', y='Loss', hue='Loss Type', marker='o')\n",
    "\n",
    "    plt.title('Training and Validation Loss Comparison')\n",
    "    plt.xlabel('Epoch')\n",
    "    plt.ylabel('Loss')\n",
    "    plt.legend()\n",
    "    plt.grid(True)\n",
    "    plt.show()\n",
    "\n",
    "def plot_historical_results(file_name):\n",
    "\n",
    "    data = pd.read_csv(file_name)\n",
    "\n",
    "    df = pd.DataFrame(data)\n",
    "\n",
    "    fig, axes = plt.subplots(2, 1, figsize=(10, 12))\n",
    "\n",
    "    fig.suptitle('Training and Validation Loss Comparison', fontsize=16)\n",
    "\n",
    "    historical_losses = df.melt(id_vars=['epoch'],value_vars=['train_loss', 'validation_loss'], var_name='Loss Type', value_name='Loss')\n",
    "\n",
    "    sns.lineplot(data=historical_losses, hue='Loss Type', markers='o' ,x='epoch' , y='Loss', ax=axes[0])\n",
    "\n",
    "    axes[0].set_title('Training and Validation Loss Comparison')\n",
    "    axes[0].set_xlabel('Epoch')\n",
    "    axes[0].set_ylabel('Loss')\n",
    "    axes[0].grid(True)\n",
    "    axes[0].legend()\n",
    "\n",
    "    sns.lineplot(data=df, x='epoch', y='accuracy', color='g', markers='o', ax=axes[1])\n",
    "    axes[1].set_title('Accuracy')\n",
    "    axes[1].set_xlabel('Epoch')\n",
    "    axes[1].set_ylabel('Accuracy')\n",
    "    axes[1].grid(True)\n",
    "\n",
    "    plt.tight_layout(rect=(0, 0.03, 1, 0.95))\n",
    "\n",
    "    plt.show()\n",
    "\n",
    "def plot_accuracy(*results):\n",
    "\n",
    "    full_accuracy = []\n",
    "\n",
    "    for res in results:\n",
    "        accuracy = res.get('accuracy', [])\n",
    "        full_accuracy.extend(accuracy)\n",
    "\n",
    "    total_epochs = len(full_accuracy)\n",
    "\n",
    "    if total_epochs == 0:\n",
    "        print(\"No accuracy data to plot.\")\n",
    "        return\n",
    "\n",
    "    epochs = range(1, total_epochs + 1)\n",
    "\n",
    "    plt.figure(figsize=(10, 6))\n",
    "\n",
    "    plt.plot(epochs, full_accuracy, label='Accuracy', marker='o', color='g')\n",
    "\n",
    "    plt.title('Accuracy Evaluation')\n",
    "    plt.xlabel('Epoch')\n",
    "    plt.ylabel('Accuracy (%)')\n",
    "    plt.legend()\n",
    "    plt.grid(True)\n",
    "    plt.show()\n",
    "\n",
    "def save_historical_data(history, filename):\n",
    "\n",
    "    training_loss = history.get('train_loss', [])\n",
    "    test_loss = history.get('validation_loss', [])\n",
    "    accuracy = history.get('accuracy', [])\n",
    "\n",
    "    data_dict = pd.DataFrame({\n",
    "        'train_loss': training_loss,\n",
    "        'validation_loss': test_loss,\n",
    "        'accuracy': accuracy,\n",
    "    })\n",
    "\n",
    "    if os.path.exists(filename):\n",
    "        print(\"historical data exists! Appending new data.\")\n",
    "        old_data = pd.read_csv(filename)\n",
    "        combined_data = pd.concat([old_data, data_dict], ignore_index=True)\n",
    "\n",
    "    else:\n",
    "        print(\"Creating new historical data...\")\n",
    "        combined_data = data_dict\n",
    "\n",
    "    combined_data['epoch'] = range(1, len(combined_data) + 1)\n",
    "\n",
    "    combined_data = combined_data[['epoch', 'train_loss', 'validation_loss', 'accuracy']]\n",
    "\n",
    "    combined_data.to_csv(filename, index=False)\n",
    "\n",
    "    print(\"Historical data saved successfully!\")\n",
    "\n"
   ]
  },
  {
   "cell_type": "code",
   "execution_count": 13,
   "id": "4fd20dd312f838ff",
   "metadata": {
    "ExecuteTime": {
     "end_time": "2025-08-22T11:37:44.450757Z",
     "start_time": "2025-08-22T11:37:44.116198Z"
    }
   },
   "outputs": [],
   "source": [
    "from torch.utils.data import DataLoader\n",
    "\n",
    "train_set = CustomDataset(root='/Users/jameskierdoliguez/Desktop/rice_leaf/final_dataset/train', transform=training_pipeline)\n",
    "train_loader = DataLoader(train_set, batch_size=128, shuffle=True)\n",
    "validation_set = CustomDataset(root='/Users/jameskierdoliguez/Desktop/rice_leaf/final_dataset/val', transform=validation_pipeline)\n",
    "validation_loader = DataLoader(validation_set, batch_size=64, shuffle=True)\n",
    "test_set = CustomDataset(root='/Users/jameskierdoliguez/Desktop/rice_leaf/final_dataset/test', transform=validation_pipeline)\n",
    "test_loader = DataLoader(test_set, batch_size=32, shuffle=True)\n",
    "\n",
    "classes = train_set.classes"
   ]
  },
  {
   "cell_type": "code",
   "execution_count": 14,
   "id": "280710df-9753-4ecc-9688-ad7d2105220f",
   "metadata": {},
   "outputs": [],
   "source": [
    "from torch.optim import lr_scheduler\n",
    "\n",
    "def incremental_training(model, sessions, criterion, train_dataloader, validation_dataloader, device, model_dir, filename):\n",
    "\n",
    "    # --- New code to display image counts ---\n",
    "    num_train_images = len(train_dataloader.dataset) \n",
    "    num_val_images = len(validation_dataloader.dataset) \n",
    "    print(f\"--- Starting Incremental Training ---\") \n",
    "    print(f\"Training images: {num_train_images}\")\n",
    "    print(f\"Validation images: {num_val_images}\") # <-- new\n",
    "    \n",
    "    full_history = []\n",
    "    accuracies = []  # <-- new: collect accuracies\n",
    "    best_overall_accuracy = 0.0\n",
    "\n",
    "    for i, session in enumerate(sessions):\n",
    "        print(f\"\\n--- Starting Training Session {i+1}/{len(sessions)} ---\")\n",
    "\n",
    "        epochs = session['epochs']\n",
    "        lr = session['lr']\n",
    "        layer_to_unfreeze = session.get('unfreeze_layer', 0)\n",
    "\n",
    "        if layer_to_unfreeze > 0:\n",
    "            model.unfreeze_layer(layer_to_unfreeze)\n",
    "\n",
    "        optimizer = optim.AdamW(\n",
    "            filter(lambda p: p.requires_grad, model.parameters()), \n",
    "            lr=lr, weight_decay=1e-2\n",
    "        )\n",
    "        scheduler = lr_scheduler.ReduceLROnPlateau(\n",
    "            optimizer=optimizer, factor=0.5, mode='min', patience=2, min_lr=1e-7\n",
    "        )\n",
    "\n",
    "        session_history, session_best_accuracy, stop_early, full_stop = train_and_validate(\n",
    "            model, optimizer, criterion, train_dataloader, validation_dataloader,\n",
    "            epochs, device, scheduler, model_dir\n",
    "        )\n",
    "\n",
    "        full_history.append(session_history)\n",
    "        accuracies.append(session_best_accuracy)  # <-- track best accuracy per session\n",
    "        save_historical_data(session_history, filename)\n",
    "\n",
    "        if session_best_accuracy > best_overall_accuracy:\n",
    "            best_overall_accuracy = session_best_accuracy\n",
    "\n",
    "        if full_stop:\n",
    "            print(\"Full stop triggered! Possible overfitting in further sessions.\")\n",
    "            break\n",
    "\n",
    "        if stop_early:\n",
    "            print(\"Early stopping triggered. Moving to next session or finishing training.\")\n",
    "\n",
    "    print(f\"\\n--- Incremental training finished. Best overall accuracy: {best_overall_accuracy:.2f}% ---\")\n",
    "    return full_history, accuracies  # <-- return both"
   ]
  },
  {
   "cell_type": "code",
   "execution_count": null,
   "id": "fd1ee3a6a8b445e1",
   "metadata": {
    "ExecuteTime": {
     "end_time": "2025-08-22T13:25:58.302435Z",
     "start_time": "2025-08-22T11:39:08.283028Z"
    }
   },
   "outputs": [],
   "source": [
    "import torch.optim as optim\n",
    "\n",
    "if torch.cuda.is_available():\n",
    "    hardware = torch.device(\"cuda\")\n",
    "elif torch.backends.mps.is_available():\n",
    "    hardware = torch.device(\"mps\")\n",
    "else:\n",
    "    hardware = torch.device(\"cpu\")\n",
    "classes = 5\n",
    "\n",
    "criterion = nn.CrossEntropyLoss()\n",
    "\n",
    "model = LeafDiseaseClassifierMobileNetV2(num_classes=classes).to(hardware)\n",
    "\n",
    "model_dir = '/Users/jameskierdoliguez/Desktop/models/MobileNetV2/MobileNetV2_rice_leaf_disease_classificationfinalV3.pt'\n",
    "file_name = '/Users/jameskierdoliguez/Desktop/train_results/MobileNetV2/MobileNetV2_rice_leaf_disease_classificationfinalV3.csv'\n",
    "\n",
    "training_sessions = [\n",
    "\n",
    "    {'epochs': 20, 'lr': 5e-4, 'unfreeze_layer': 0},\n",
    "\n",
    "    {'epochs': 30, 'lr': 1e-4, 'unfreeze_layer': 1},\n",
    "\n",
    "    {'epochs': 40, 'lr': 5e-5, 'unfreeze_layer': 2},\n",
    "\n",
    "    {'epochs': 50, 'lr': 1e-5, 'unfreeze_layer': 3},\n",
    "\n",
    "]\n",
    "\n",
    "result, accuracies = incremental_training(model=model, sessions=training_sessions, criterion=criterion, train_dataloader=train_loader, validation_dataloader=validation_loader, device=hardware, model_dir=model_dir, filename=file_name)\n",
    "\n",
    "plot_training_result(*result)\n",
    "plot_accuracy(*result)"
   ]
  },
  {
   "cell_type": "code",
   "execution_count": 15,
   "id": "882359a5",
   "metadata": {},
   "outputs": [
    {
     "name": "stdout",
     "output_type": "stream",
     "text": [
      "--- Starting Incremental Training ---\n",
      "Training images: 3704\n",
      "Validation images: 1059\n",
      "\n",
      "--- Starting Training Session 1/4 ---\n"
     ]
    },
    {
     "name": "stderr",
     "output_type": "stream",
     "text": [
      "Train epoch: 1: 100%|███████████████████████████| 29/29 [00:41<00:00,  1.44s/it]\n",
      "Validate Epoch 1: 100%|█████████████████████████| 17/17 [00:10<00:00,  1.55it/s]\n"
     ]
    },
    {
     "name": "stdout",
     "output_type": "stream",
     "text": [
      "Epoch 1/20 |lr: 0.0005| Train Loss: 1.4919 | Evaluate Loss: 1.2964 | Accuracy: 60.43% | MPS Memory (Alloc/Driver): 0.41/3.06 GB\n"
     ]
    },
    {
     "name": "stderr",
     "output_type": "stream",
     "text": [
      "Train epoch: 2: 100%|███████████████████████████| 29/29 [00:43<00:00,  1.50s/it]\n",
      "Validate Epoch 2: 100%|█████████████████████████| 17/17 [00:11<00:00,  1.52it/s]\n"
     ]
    },
    {
     "name": "stdout",
     "output_type": "stream",
     "text": [
      "Epoch 2/20 |lr: 0.0005| Train Loss: 1.2763 | Evaluate Loss: 1.1050 | Accuracy: 65.34% | MPS Memory (Alloc/Driver): 0.41/3.06 GB\n"
     ]
    },
    {
     "name": "stderr",
     "output_type": "stream",
     "text": [
      "Train epoch: 3: 100%|███████████████████████████| 29/29 [00:43<00:00,  1.50s/it]\n",
      "Validate Epoch 3: 100%|█████████████████████████| 17/17 [00:10<00:00,  1.56it/s]\n"
     ]
    },
    {
     "name": "stdout",
     "output_type": "stream",
     "text": [
      "Epoch 3/20 |lr: 0.0005| Train Loss: 1.1593 | Evaluate Loss: 0.9956 | Accuracy: 67.33% | MPS Memory (Alloc/Driver): 0.41/3.06 GB\n"
     ]
    },
    {
     "name": "stderr",
     "output_type": "stream",
     "text": [
      "Train epoch: 4: 100%|███████████████████████████| 29/29 [00:42<00:00,  1.46s/it]\n",
      "Validate Epoch 4: 100%|█████████████████████████| 17/17 [00:10<00:00,  1.60it/s]\n"
     ]
    },
    {
     "name": "stdout",
     "output_type": "stream",
     "text": [
      "Epoch 4/20 |lr: 0.0005| Train Loss: 1.0841 | Evaluate Loss: 0.9176 | Accuracy: 69.78% | MPS Memory (Alloc/Driver): 0.41/3.06 GB\n"
     ]
    },
    {
     "name": "stderr",
     "output_type": "stream",
     "text": [
      "Train epoch: 5: 100%|███████████████████████████| 29/29 [00:42<00:00,  1.47s/it]\n",
      "Validate Epoch 5: 100%|█████████████████████████| 17/17 [00:10<00:00,  1.60it/s]\n"
     ]
    },
    {
     "name": "stdout",
     "output_type": "stream",
     "text": [
      "Epoch 5/20 |lr: 0.0005| Train Loss: 1.0377 | Evaluate Loss: 0.8707 | Accuracy: 70.16% | MPS Memory (Alloc/Driver): 0.41/3.06 GB\n"
     ]
    },
    {
     "name": "stderr",
     "output_type": "stream",
     "text": [
      "Train epoch: 6: 100%|███████████████████████████| 29/29 [00:43<00:00,  1.49s/it]\n",
      "Validate Epoch 6: 100%|█████████████████████████| 17/17 [00:10<00:00,  1.59it/s]\n"
     ]
    },
    {
     "name": "stdout",
     "output_type": "stream",
     "text": [
      "Epoch 6/20 |lr: 0.0005| Train Loss: 0.9999 | Evaluate Loss: 0.8326 | Accuracy: 72.24% | MPS Memory (Alloc/Driver): 0.41/3.06 GB\n"
     ]
    },
    {
     "name": "stderr",
     "output_type": "stream",
     "text": [
      "Train epoch: 7: 100%|███████████████████████████| 29/29 [00:42<00:00,  1.46s/it]\n",
      "Validate Epoch 7: 100%|█████████████████████████| 17/17 [00:10<00:00,  1.56it/s]\n"
     ]
    },
    {
     "name": "stdout",
     "output_type": "stream",
     "text": [
      "Epoch 7/20 |lr: 0.0005| Train Loss: 0.9854 | Evaluate Loss: 0.8029 | Accuracy: 72.90% | MPS Memory (Alloc/Driver): 0.41/3.06 GB\n"
     ]
    },
    {
     "name": "stderr",
     "output_type": "stream",
     "text": [
      "Train epoch: 8: 100%|███████████████████████████| 29/29 [00:42<00:00,  1.46s/it]\n",
      "Validate Epoch 8: 100%|█████████████████████████| 17/17 [00:10<00:00,  1.58it/s]\n"
     ]
    },
    {
     "name": "stdout",
     "output_type": "stream",
     "text": [
      "Epoch 8/20 |lr: 0.0005| Train Loss: 0.9527 | Evaluate Loss: 0.7759 | Accuracy: 74.03% | MPS Memory (Alloc/Driver): 0.41/3.06 GB\n"
     ]
    },
    {
     "name": "stderr",
     "output_type": "stream",
     "text": [
      "Train epoch: 9: 100%|███████████████████████████| 29/29 [00:42<00:00,  1.46s/it]\n",
      "Validate Epoch 9: 100%|█████████████████████████| 17/17 [00:10<00:00,  1.57it/s]\n"
     ]
    },
    {
     "name": "stdout",
     "output_type": "stream",
     "text": [
      "Epoch 9/20 |lr: 0.0005| Train Loss: 0.9414 | Evaluate Loss: 0.7567 | Accuracy: 73.56% | MPS Memory (Alloc/Driver): 0.41/3.06 GB\n"
     ]
    },
    {
     "name": "stderr",
     "output_type": "stream",
     "text": [
      "Train epoch: 10: 100%|██████████████████████████| 29/29 [00:42<00:00,  1.46s/it]\n",
      "Validate Epoch 10: 100%|████████████████████████| 17/17 [00:10<00:00,  1.60it/s]\n"
     ]
    },
    {
     "name": "stdout",
     "output_type": "stream",
     "text": [
      "Epoch 10/20 |lr: 0.0005| Train Loss: 0.9170 | Evaluate Loss: 0.7464 | Accuracy: 74.50% | MPS Memory (Alloc/Driver): 0.41/3.06 GB\n"
     ]
    },
    {
     "name": "stderr",
     "output_type": "stream",
     "text": [
      "Train epoch: 11: 100%|██████████████████████████| 29/29 [00:46<00:00,  1.62s/it]\n",
      "Validate Epoch 11: 100%|████████████████████████| 17/17 [00:10<00:00,  1.57it/s]\n"
     ]
    },
    {
     "name": "stdout",
     "output_type": "stream",
     "text": [
      "Epoch 11/20 |lr: 0.0005| Train Loss: 0.9121 | Evaluate Loss: 0.7282 | Accuracy: 74.88% | MPS Memory (Alloc/Driver): 0.41/3.06 GB\n"
     ]
    },
    {
     "name": "stderr",
     "output_type": "stream",
     "text": [
      "Train epoch: 12: 100%|██████████████████████████| 29/29 [00:42<00:00,  1.47s/it]\n",
      "Validate Epoch 12: 100%|████████████████████████| 17/17 [00:10<00:00,  1.58it/s]\n"
     ]
    },
    {
     "name": "stdout",
     "output_type": "stream",
     "text": [
      "Epoch 12/20 |lr: 0.0005| Train Loss: 0.9024 | Evaluate Loss: 0.7184 | Accuracy: 74.69% | MPS Memory (Alloc/Driver): 0.41/3.06 GB\n"
     ]
    },
    {
     "name": "stderr",
     "output_type": "stream",
     "text": [
      "Train epoch: 13: 100%|██████████████████████████| 29/29 [00:42<00:00,  1.48s/it]\n",
      "Validate Epoch 13: 100%|████████████████████████| 17/17 [00:10<00:00,  1.60it/s]\n"
     ]
    },
    {
     "name": "stdout",
     "output_type": "stream",
     "text": [
      "Epoch 13/20 |lr: 0.0005| Train Loss: 0.8724 | Evaluate Loss: 0.7056 | Accuracy: 75.26% | MPS Memory (Alloc/Driver): 0.41/3.06 GB\n"
     ]
    },
    {
     "name": "stderr",
     "output_type": "stream",
     "text": [
      "Train epoch: 14: 100%|██████████████████████████| 29/29 [00:42<00:00,  1.47s/it]\n",
      "Validate Epoch 14: 100%|████████████████████████| 17/17 [00:10<00:00,  1.58it/s]\n"
     ]
    },
    {
     "name": "stdout",
     "output_type": "stream",
     "text": [
      "Epoch 14/20 |lr: 0.0005| Train Loss: 0.8598 | Evaluate Loss: 0.6898 | Accuracy: 75.92% | MPS Memory (Alloc/Driver): 0.41/3.06 GB\n"
     ]
    },
    {
     "name": "stderr",
     "output_type": "stream",
     "text": [
      "Train epoch: 15: 100%|██████████████████████████| 29/29 [00:43<00:00,  1.50s/it]\n",
      "Validate Epoch 15: 100%|████████████████████████| 17/17 [00:10<00:00,  1.58it/s]\n"
     ]
    },
    {
     "name": "stdout",
     "output_type": "stream",
     "text": [
      "Epoch 15/20 |lr: 0.0005| Train Loss: 0.8573 | Evaluate Loss: 0.6784 | Accuracy: 76.49% | MPS Memory (Alloc/Driver): 0.41/3.06 GB\n"
     ]
    },
    {
     "name": "stderr",
     "output_type": "stream",
     "text": [
      "Train epoch: 16: 100%|██████████████████████████| 29/29 [00:42<00:00,  1.45s/it]\n",
      "Validate Epoch 16: 100%|████████████████████████| 17/17 [00:10<00:00,  1.60it/s]\n"
     ]
    },
    {
     "name": "stdout",
     "output_type": "stream",
     "text": [
      "Epoch 16/20 |lr: 0.0005| Train Loss: 0.8367 | Evaluate Loss: 0.6664 | Accuracy: 76.49% | MPS Memory (Alloc/Driver): 0.41/3.06 GB\n"
     ]
    },
    {
     "name": "stderr",
     "output_type": "stream",
     "text": [
      "Train epoch: 17: 100%|██████████████████████████| 29/29 [00:42<00:00,  1.48s/it]\n",
      "Validate Epoch 17: 100%|████████████████████████| 17/17 [00:10<00:00,  1.60it/s]\n"
     ]
    },
    {
     "name": "stdout",
     "output_type": "stream",
     "text": [
      "Epoch 17/20 |lr: 0.0005| Train Loss: 0.8470 | Evaluate Loss: 0.6676 | Accuracy: 76.77% | MPS Memory (Alloc/Driver): 0.41/3.06 GB\n",
      "No improvement for 1/3 epochs\n"
     ]
    },
    {
     "name": "stderr",
     "output_type": "stream",
     "text": [
      "Train epoch: 18: 100%|██████████████████████████| 29/29 [00:42<00:00,  1.48s/it]\n",
      "Validate Epoch 18: 100%|████████████████████████| 17/17 [00:10<00:00,  1.57it/s]\n"
     ]
    },
    {
     "name": "stdout",
     "output_type": "stream",
     "text": [
      "Epoch 18/20 |lr: 0.0005| Train Loss: 0.8613 | Evaluate Loss: 0.6530 | Accuracy: 76.77% | MPS Memory (Alloc/Driver): 0.41/3.06 GB\n"
     ]
    },
    {
     "name": "stderr",
     "output_type": "stream",
     "text": [
      "Train epoch: 19: 100%|██████████████████████████| 29/29 [00:42<00:00,  1.48s/it]\n",
      "Validate Epoch 19: 100%|████████████████████████| 17/17 [00:10<00:00,  1.56it/s]\n"
     ]
    },
    {
     "name": "stdout",
     "output_type": "stream",
     "text": [
      "Epoch 19/20 |lr: 0.0005| Train Loss: 0.8499 | Evaluate Loss: 0.6573 | Accuracy: 77.24% | MPS Memory (Alloc/Driver): 0.41/3.06 GB\n",
      "No improvement for 1/3 epochs\n"
     ]
    },
    {
     "name": "stderr",
     "output_type": "stream",
     "text": [
      "Train epoch: 20: 100%|██████████████████████████| 29/29 [00:42<00:00,  1.48s/it]\n",
      "Validate Epoch 20: 100%|████████████████████████| 17/17 [00:10<00:00,  1.56it/s]\n"
     ]
    },
    {
     "name": "stdout",
     "output_type": "stream",
     "text": [
      "Epoch 20/20 |lr: 0.0005| Train Loss: 0.8293 | Evaluate Loss: 0.6488 | Accuracy: 77.62% | MPS Memory (Alloc/Driver): 0.41/3.06 GB\n",
      "Session complete\n",
      "Creating new historical data...\n",
      "Historical data saved successfully!\n",
      "\n",
      "--- Starting Training Session 2/4 ---\n",
      "\n",
      "Unfreezing feature layer at index: -1\n"
     ]
    },
    {
     "name": "stderr",
     "output_type": "stream",
     "text": [
      "Train epoch: 1: 100%|███████████████████████████| 29/29 [00:43<00:00,  1.48s/it]\n",
      "Validate Epoch 1: 100%|█████████████████████████| 17/17 [00:10<00:00,  1.58it/s]\n"
     ]
    },
    {
     "name": "stdout",
     "output_type": "stream",
     "text": [
      "Epoch 1/30 |lr: 0.0001| Train Loss: 0.8254 | Evaluate Loss: 0.6321 | Accuracy: 77.62% | MPS Memory (Alloc/Driver): 0.44/3.07 GB\n"
     ]
    },
    {
     "name": "stderr",
     "output_type": "stream",
     "text": [
      "Train epoch: 2: 100%|███████████████████████████| 29/29 [00:43<00:00,  1.49s/it]\n",
      "Validate Epoch 2: 100%|█████████████████████████| 17/17 [00:10<00:00,  1.58it/s]\n"
     ]
    },
    {
     "name": "stdout",
     "output_type": "stream",
     "text": [
      "Epoch 2/30 |lr: 0.0001| Train Loss: 0.8188 | Evaluate Loss: 0.6166 | Accuracy: 78.28% | MPS Memory (Alloc/Driver): 0.44/3.07 GB\n"
     ]
    },
    {
     "name": "stderr",
     "output_type": "stream",
     "text": [
      "Train epoch: 3: 100%|███████████████████████████| 29/29 [00:42<00:00,  1.48s/it]\n",
      "Validate Epoch 3: 100%|█████████████████████████| 17/17 [00:10<00:00,  1.59it/s]\n"
     ]
    },
    {
     "name": "stdout",
     "output_type": "stream",
     "text": [
      "Epoch 3/30 |lr: 0.0001| Train Loss: 0.7759 | Evaluate Loss: 0.5950 | Accuracy: 79.04% | MPS Memory (Alloc/Driver): 0.44/3.07 GB\n"
     ]
    },
    {
     "name": "stderr",
     "output_type": "stream",
     "text": [
      "Train epoch: 4: 100%|███████████████████████████| 29/29 [00:42<00:00,  1.47s/it]\n",
      "Validate Epoch 4: 100%|█████████████████████████| 17/17 [00:10<00:00,  1.59it/s]\n"
     ]
    },
    {
     "name": "stdout",
     "output_type": "stream",
     "text": [
      "Epoch 4/30 |lr: 0.0001| Train Loss: 0.7722 | Evaluate Loss: 0.5879 | Accuracy: 78.85% | MPS Memory (Alloc/Driver): 0.44/3.07 GB\n"
     ]
    },
    {
     "name": "stderr",
     "output_type": "stream",
     "text": [
      "Train epoch: 5: 100%|███████████████████████████| 29/29 [00:42<00:00,  1.46s/it]\n",
      "Validate Epoch 5: 100%|█████████████████████████| 17/17 [00:10<00:00,  1.59it/s]\n"
     ]
    },
    {
     "name": "stdout",
     "output_type": "stream",
     "text": [
      "Epoch 5/30 |lr: 0.0001| Train Loss: 0.7612 | Evaluate Loss: 0.5693 | Accuracy: 79.79% | MPS Memory (Alloc/Driver): 0.44/3.07 GB\n"
     ]
    },
    {
     "name": "stderr",
     "output_type": "stream",
     "text": [
      "Train epoch: 6: 100%|███████████████████████████| 29/29 [00:42<00:00,  1.47s/it]\n",
      "Validate Epoch 6: 100%|█████████████████████████| 17/17 [00:10<00:00,  1.58it/s]\n"
     ]
    },
    {
     "name": "stdout",
     "output_type": "stream",
     "text": [
      "Epoch 6/30 |lr: 0.0001| Train Loss: 0.7498 | Evaluate Loss: 0.5556 | Accuracy: 80.08% | MPS Memory (Alloc/Driver): 0.44/3.07 GB\n"
     ]
    },
    {
     "name": "stderr",
     "output_type": "stream",
     "text": [
      "Train epoch: 7: 100%|███████████████████████████| 29/29 [00:42<00:00,  1.47s/it]\n",
      "Validate Epoch 7: 100%|█████████████████████████| 17/17 [00:10<00:00,  1.57it/s]\n"
     ]
    },
    {
     "name": "stdout",
     "output_type": "stream",
     "text": [
      "Epoch 7/30 |lr: 0.0001| Train Loss: 0.7625 | Evaluate Loss: 0.5479 | Accuracy: 80.17% | MPS Memory (Alloc/Driver): 0.44/3.07 GB\n"
     ]
    },
    {
     "name": "stderr",
     "output_type": "stream",
     "text": [
      "Train epoch: 8: 100%|███████████████████████████| 29/29 [00:42<00:00,  1.48s/it]\n",
      "Validate Epoch 8: 100%|█████████████████████████| 17/17 [00:10<00:00,  1.59it/s]\n"
     ]
    },
    {
     "name": "stdout",
     "output_type": "stream",
     "text": [
      "Epoch 8/30 |lr: 0.0001| Train Loss: 0.7434 | Evaluate Loss: 0.5406 | Accuracy: 81.30% | MPS Memory (Alloc/Driver): 0.44/3.07 GB\n"
     ]
    },
    {
     "name": "stderr",
     "output_type": "stream",
     "text": [
      "Train epoch: 9: 100%|███████████████████████████| 29/29 [00:42<00:00,  1.48s/it]\n",
      "Validate Epoch 9: 100%|█████████████████████████| 17/17 [00:10<00:00,  1.59it/s]\n"
     ]
    },
    {
     "name": "stdout",
     "output_type": "stream",
     "text": [
      "Epoch 9/30 |lr: 0.0001| Train Loss: 0.7047 | Evaluate Loss: 0.5318 | Accuracy: 80.93% | MPS Memory (Alloc/Driver): 0.44/3.07 GB\n"
     ]
    },
    {
     "name": "stderr",
     "output_type": "stream",
     "text": [
      "Train epoch: 10: 100%|██████████████████████████| 29/29 [00:43<00:00,  1.49s/it]\n",
      "Validate Epoch 10: 100%|████████████████████████| 17/17 [00:10<00:00,  1.56it/s]\n"
     ]
    },
    {
     "name": "stdout",
     "output_type": "stream",
     "text": [
      "Epoch 10/30 |lr: 0.0001| Train Loss: 0.7123 | Evaluate Loss: 0.5236 | Accuracy: 81.49% | MPS Memory (Alloc/Driver): 0.44/3.07 GB\n"
     ]
    },
    {
     "name": "stderr",
     "output_type": "stream",
     "text": [
      "Train epoch: 11: 100%|██████████████████████████| 29/29 [00:42<00:00,  1.47s/it]\n",
      "Validate Epoch 11: 100%|████████████████████████| 17/17 [00:10<00:00,  1.57it/s]\n"
     ]
    },
    {
     "name": "stdout",
     "output_type": "stream",
     "text": [
      "Epoch 11/30 |lr: 0.0001| Train Loss: 0.7176 | Evaluate Loss: 0.5104 | Accuracy: 81.21% | MPS Memory (Alloc/Driver): 0.44/3.07 GB\n"
     ]
    },
    {
     "name": "stderr",
     "output_type": "stream",
     "text": [
      "Train epoch: 12: 100%|██████████████████████████| 29/29 [00:42<00:00,  1.46s/it]\n",
      "Validate Epoch 12: 100%|████████████████████████| 17/17 [00:10<00:00,  1.58it/s]\n"
     ]
    },
    {
     "name": "stdout",
     "output_type": "stream",
     "text": [
      "Epoch 12/30 |lr: 0.0001| Train Loss: 0.6992 | Evaluate Loss: 0.5022 | Accuracy: 82.06% | MPS Memory (Alloc/Driver): 0.44/3.07 GB\n"
     ]
    },
    {
     "name": "stderr",
     "output_type": "stream",
     "text": [
      "Train epoch: 13: 100%|██████████████████████████| 29/29 [00:43<00:00,  1.49s/it]\n",
      "Validate Epoch 13: 100%|████████████████████████| 17/17 [00:10<00:00,  1.57it/s]\n"
     ]
    },
    {
     "name": "stdout",
     "output_type": "stream",
     "text": [
      "Epoch 13/30 |lr: 0.0001| Train Loss: 0.6808 | Evaluate Loss: 0.5023 | Accuracy: 82.15% | MPS Memory (Alloc/Driver): 0.44/3.07 GB\n",
      "No improvement for 1/3 epochs\n"
     ]
    },
    {
     "name": "stderr",
     "output_type": "stream",
     "text": [
      "Train epoch: 14: 100%|██████████████████████████| 29/29 [00:42<00:00,  1.47s/it]\n",
      "Validate Epoch 14: 100%|████████████████████████| 17/17 [00:10<00:00,  1.57it/s]\n"
     ]
    },
    {
     "name": "stdout",
     "output_type": "stream",
     "text": [
      "Epoch 14/30 |lr: 0.0001| Train Loss: 0.6831 | Evaluate Loss: 0.4871 | Accuracy: 82.63% | MPS Memory (Alloc/Driver): 0.44/3.07 GB\n"
     ]
    },
    {
     "name": "stderr",
     "output_type": "stream",
     "text": [
      "Train epoch: 15: 100%|██████████████████████████| 29/29 [00:43<00:00,  1.50s/it]\n",
      "Validate Epoch 15: 100%|████████████████████████| 17/17 [00:10<00:00,  1.55it/s]\n"
     ]
    },
    {
     "name": "stdout",
     "output_type": "stream",
     "text": [
      "Epoch 15/30 |lr: 0.0001| Train Loss: 0.6792 | Evaluate Loss: 0.4839 | Accuracy: 83.19% | MPS Memory (Alloc/Driver): 0.44/3.07 GB\n"
     ]
    },
    {
     "name": "stderr",
     "output_type": "stream",
     "text": [
      "Train epoch: 16: 100%|██████████████████████████| 29/29 [00:43<00:00,  1.51s/it]\n",
      "Validate Epoch 16: 100%|████████████████████████| 17/17 [00:10<00:00,  1.59it/s]\n"
     ]
    },
    {
     "name": "stdout",
     "output_type": "stream",
     "text": [
      "Epoch 16/30 |lr: 0.0001| Train Loss: 0.6729 | Evaluate Loss: 0.4825 | Accuracy: 83.00% | MPS Memory (Alloc/Driver): 0.44/3.07 GB\n"
     ]
    },
    {
     "name": "stderr",
     "output_type": "stream",
     "text": [
      "Train epoch: 17: 100%|██████████████████████████| 29/29 [00:42<00:00,  1.47s/it]\n",
      "Validate Epoch 17: 100%|████████████████████████| 17/17 [00:11<00:00,  1.53it/s]\n"
     ]
    },
    {
     "name": "stdout",
     "output_type": "stream",
     "text": [
      "Epoch 17/30 |lr: 0.0001| Train Loss: 0.6645 | Evaluate Loss: 0.4699 | Accuracy: 82.91% | MPS Memory (Alloc/Driver): 0.44/3.07 GB\n"
     ]
    },
    {
     "name": "stderr",
     "output_type": "stream",
     "text": [
      "Train epoch: 18: 100%|██████████████████████████| 29/29 [00:42<00:00,  1.47s/it]\n",
      "Validate Epoch 18: 100%|████████████████████████| 17/17 [00:10<00:00,  1.59it/s]\n"
     ]
    },
    {
     "name": "stdout",
     "output_type": "stream",
     "text": [
      "Epoch 18/30 |lr: 0.0001| Train Loss: 0.6687 | Evaluate Loss: 0.4664 | Accuracy: 82.91% | MPS Memory (Alloc/Driver): 0.44/3.07 GB\n"
     ]
    },
    {
     "name": "stderr",
     "output_type": "stream",
     "text": [
      "Train epoch: 19: 100%|██████████████████████████| 29/29 [00:43<00:00,  1.49s/it]\n",
      "Validate Epoch 19: 100%|████████████████████████| 17/17 [00:10<00:00,  1.58it/s]\n"
     ]
    },
    {
     "name": "stdout",
     "output_type": "stream",
     "text": [
      "Epoch 19/30 |lr: 0.0001| Train Loss: 0.6555 | Evaluate Loss: 0.4636 | Accuracy: 83.19% | MPS Memory (Alloc/Driver): 0.44/3.07 GB\n"
     ]
    },
    {
     "name": "stderr",
     "output_type": "stream",
     "text": [
      "Train epoch: 20: 100%|██████████████████████████| 29/29 [00:42<00:00,  1.47s/it]\n",
      "Validate Epoch 20: 100%|████████████████████████| 17/17 [00:10<00:00,  1.58it/s]\n"
     ]
    },
    {
     "name": "stdout",
     "output_type": "stream",
     "text": [
      "Epoch 20/30 |lr: 0.0001| Train Loss: 0.6468 | Evaluate Loss: 0.4604 | Accuracy: 83.47% | MPS Memory (Alloc/Driver): 0.44/3.07 GB\n"
     ]
    },
    {
     "name": "stderr",
     "output_type": "stream",
     "text": [
      "Train epoch: 21: 100%|██████████████████████████| 29/29 [00:42<00:00,  1.48s/it]\n",
      "Validate Epoch 21: 100%|████████████████████████| 17/17 [00:10<00:00,  1.55it/s]\n"
     ]
    },
    {
     "name": "stdout",
     "output_type": "stream",
     "text": [
      "Epoch 21/30 |lr: 0.0001| Train Loss: 0.6527 | Evaluate Loss: 0.4565 | Accuracy: 83.00% | MPS Memory (Alloc/Driver): 0.44/3.07 GB\n"
     ]
    },
    {
     "name": "stderr",
     "output_type": "stream",
     "text": [
      "Train epoch: 22: 100%|██████████████████████████| 29/29 [00:42<00:00,  1.47s/it]\n",
      "Validate Epoch 22: 100%|████████████████████████| 17/17 [00:10<00:00,  1.61it/s]\n"
     ]
    },
    {
     "name": "stdout",
     "output_type": "stream",
     "text": [
      "Epoch 22/30 |lr: 0.0001| Train Loss: 0.6279 | Evaluate Loss: 0.4472 | Accuracy: 83.57% | MPS Memory (Alloc/Driver): 0.44/3.07 GB\n"
     ]
    },
    {
     "name": "stderr",
     "output_type": "stream",
     "text": [
      "Train epoch: 23: 100%|██████████████████████████| 29/29 [00:42<00:00,  1.47s/it]\n",
      "Validate Epoch 23: 100%|████████████████████████| 17/17 [00:10<00:00,  1.61it/s]\n"
     ]
    },
    {
     "name": "stdout",
     "output_type": "stream",
     "text": [
      "Epoch 23/30 |lr: 0.0001| Train Loss: 0.6424 | Evaluate Loss: 0.4492 | Accuracy: 83.95% | MPS Memory (Alloc/Driver): 0.44/3.07 GB\n",
      "No improvement for 1/3 epochs\n"
     ]
    },
    {
     "name": "stderr",
     "output_type": "stream",
     "text": [
      "Train epoch: 24: 100%|██████████████████████████| 29/29 [00:42<00:00,  1.47s/it]\n",
      "Validate Epoch 24: 100%|████████████████████████| 17/17 [00:10<00:00,  1.57it/s]\n"
     ]
    },
    {
     "name": "stdout",
     "output_type": "stream",
     "text": [
      "Epoch 24/30 |lr: 0.0001| Train Loss: 0.6454 | Evaluate Loss: 0.4409 | Accuracy: 84.14% | MPS Memory (Alloc/Driver): 0.44/3.07 GB\n"
     ]
    },
    {
     "name": "stderr",
     "output_type": "stream",
     "text": [
      "Train epoch: 25: 100%|██████████████████████████| 29/29 [00:42<00:00,  1.46s/it]\n",
      "Validate Epoch 25: 100%|████████████████████████| 17/17 [00:10<00:00,  1.60it/s]\n"
     ]
    },
    {
     "name": "stdout",
     "output_type": "stream",
     "text": [
      "Epoch 25/30 |lr: 0.0001| Train Loss: 0.6502 | Evaluate Loss: 0.4362 | Accuracy: 84.32% | MPS Memory (Alloc/Driver): 0.44/3.07 GB\n"
     ]
    },
    {
     "name": "stderr",
     "output_type": "stream",
     "text": [
      "Train epoch: 26: 100%|██████████████████████████| 29/29 [00:42<00:00,  1.46s/it]\n",
      "Validate Epoch 26: 100%|████████████████████████| 17/17 [00:10<00:00,  1.60it/s]\n"
     ]
    },
    {
     "name": "stdout",
     "output_type": "stream",
     "text": [
      "Epoch 26/30 |lr: 0.0001| Train Loss: 0.6250 | Evaluate Loss: 0.4359 | Accuracy: 84.89% | MPS Memory (Alloc/Driver): 0.44/3.07 GB\n",
      "No improvement for 1/3 epochs\n"
     ]
    },
    {
     "name": "stderr",
     "output_type": "stream",
     "text": [
      "Train epoch: 27: 100%|██████████████████████████| 29/29 [00:42<00:00,  1.46s/it]\n",
      "Validate Epoch 27: 100%|████████████████████████| 17/17 [00:10<00:00,  1.60it/s]\n"
     ]
    },
    {
     "name": "stdout",
     "output_type": "stream",
     "text": [
      "Epoch 27/30 |lr: 0.0001| Train Loss: 0.6147 | Evaluate Loss: 0.4333 | Accuracy: 84.51% | MPS Memory (Alloc/Driver): 0.44/3.07 GB\n"
     ]
    },
    {
     "name": "stderr",
     "output_type": "stream",
     "text": [
      "Train epoch: 28: 100%|██████████████████████████| 29/29 [00:42<00:00,  1.47s/it]\n",
      "Validate Epoch 28: 100%|████████████████████████| 17/17 [00:10<00:00,  1.57it/s]\n"
     ]
    },
    {
     "name": "stdout",
     "output_type": "stream",
     "text": [
      "Epoch 28/30 |lr: 0.0001| Train Loss: 0.6222 | Evaluate Loss: 0.4287 | Accuracy: 84.89% | MPS Memory (Alloc/Driver): 0.44/3.07 GB\n"
     ]
    },
    {
     "name": "stderr",
     "output_type": "stream",
     "text": [
      "Train epoch: 29: 100%|██████████████████████████| 29/29 [00:42<00:00,  1.48s/it]\n",
      "Validate Epoch 29: 100%|████████████████████████| 17/17 [00:10<00:00,  1.56it/s]\n"
     ]
    },
    {
     "name": "stdout",
     "output_type": "stream",
     "text": [
      "Epoch 29/30 |lr: 0.0001| Train Loss: 0.6098 | Evaluate Loss: 0.4202 | Accuracy: 84.61% | MPS Memory (Alloc/Driver): 0.44/3.07 GB\n"
     ]
    },
    {
     "name": "stderr",
     "output_type": "stream",
     "text": [
      "Train epoch: 30: 100%|██████████████████████████| 29/29 [00:43<00:00,  1.49s/it]\n",
      "Validate Epoch 30: 100%|████████████████████████| 17/17 [00:10<00:00,  1.58it/s]\n"
     ]
    },
    {
     "name": "stdout",
     "output_type": "stream",
     "text": [
      "Epoch 30/30 |lr: 0.0001| Train Loss: 0.6188 | Evaluate Loss: 0.4197 | Accuracy: 85.36% | MPS Memory (Alloc/Driver): 0.44/3.07 GB\n",
      "No improvement for 1/3 epochs\n",
      "Session complete\n",
      "historical data exists! Appending new data.\n",
      "Historical data saved successfully!\n",
      "\n",
      "--- Starting Training Session 3/4 ---\n",
      "\n",
      "Unfreezing feature layer at index: -2\n"
     ]
    },
    {
     "name": "stderr",
     "output_type": "stream",
     "text": [
      "Train epoch: 1: 100%|███████████████████████████| 29/29 [00:54<00:00,  1.89s/it]\n",
      "Validate Epoch 1: 100%|█████████████████████████| 17/17 [00:10<00:00,  1.60it/s]\n"
     ]
    },
    {
     "name": "stdout",
     "output_type": "stream",
     "text": [
      "Epoch 1/40 |lr: 5e-05| Train Loss: 0.5657 | Evaluate Loss: 0.3455 | Accuracy: 86.12% | MPS Memory (Alloc/Driver): 0.96/7.14 GB\n"
     ]
    },
    {
     "name": "stderr",
     "output_type": "stream",
     "text": [
      "Train epoch: 2: 100%|███████████████████████████| 29/29 [00:53<00:00,  1.85s/it]\n",
      "Validate Epoch 2: 100%|█████████████████████████| 17/17 [00:10<00:00,  1.58it/s]\n"
     ]
    },
    {
     "name": "stdout",
     "output_type": "stream",
     "text": [
      "Epoch 2/40 |lr: 5e-05| Train Loss: 0.4812 | Evaluate Loss: 0.2916 | Accuracy: 88.57% | MPS Memory (Alloc/Driver): 0.96/7.14 GB\n"
     ]
    },
    {
     "name": "stderr",
     "output_type": "stream",
     "text": [
      "Train epoch: 3: 100%|███████████████████████████| 29/29 [00:53<00:00,  1.85s/it]\n",
      "Validate Epoch 3: 100%|█████████████████████████| 17/17 [00:11<00:00,  1.54it/s]\n"
     ]
    },
    {
     "name": "stdout",
     "output_type": "stream",
     "text": [
      "Epoch 3/40 |lr: 5e-05| Train Loss: 0.4080 | Evaluate Loss: 0.2432 | Accuracy: 90.27% | MPS Memory (Alloc/Driver): 0.96/7.14 GB\n"
     ]
    },
    {
     "name": "stderr",
     "output_type": "stream",
     "text": [
      "Train epoch: 4: 100%|███████████████████████████| 29/29 [00:54<00:00,  1.89s/it]\n",
      "Validate Epoch 4: 100%|█████████████████████████| 17/17 [00:10<00:00,  1.60it/s]\n"
     ]
    },
    {
     "name": "stdout",
     "output_type": "stream",
     "text": [
      "Epoch 4/40 |lr: 5e-05| Train Loss: 0.3526 | Evaluate Loss: 0.2117 | Accuracy: 91.60% | MPS Memory (Alloc/Driver): 0.96/7.14 GB\n"
     ]
    },
    {
     "name": "stderr",
     "output_type": "stream",
     "text": [
      "Train epoch: 5: 100%|███████████████████████████| 29/29 [00:54<00:00,  1.89s/it]\n",
      "Validate Epoch 5: 100%|█████████████████████████| 17/17 [00:10<00:00,  1.61it/s]\n"
     ]
    },
    {
     "name": "stdout",
     "output_type": "stream",
     "text": [
      "Epoch 5/40 |lr: 5e-05| Train Loss: 0.3174 | Evaluate Loss: 0.1847 | Accuracy: 93.39% | MPS Memory (Alloc/Driver): 0.96/7.14 GB\n"
     ]
    },
    {
     "name": "stderr",
     "output_type": "stream",
     "text": [
      "Train epoch: 6: 100%|███████████████████████████| 29/29 [00:53<00:00,  1.84s/it]\n",
      "Validate Epoch 6: 100%|█████████████████████████| 17/17 [00:10<00:00,  1.61it/s]\n"
     ]
    },
    {
     "name": "stdout",
     "output_type": "stream",
     "text": [
      "Epoch 6/40 |lr: 5e-05| Train Loss: 0.2865 | Evaluate Loss: 0.1518 | Accuracy: 94.33% | MPS Memory (Alloc/Driver): 0.96/7.14 GB\n"
     ]
    },
    {
     "name": "stderr",
     "output_type": "stream",
     "text": [
      "Train epoch: 7: 100%|███████████████████████████| 29/29 [00:53<00:00,  1.85s/it]\n",
      "Validate Epoch 7: 100%|█████████████████████████| 17/17 [00:10<00:00,  1.60it/s]\n"
     ]
    },
    {
     "name": "stdout",
     "output_type": "stream",
     "text": [
      "Epoch 7/40 |lr: 5e-05| Train Loss: 0.2618 | Evaluate Loss: 0.1407 | Accuracy: 95.37% | MPS Memory (Alloc/Driver): 0.96/7.14 GB\n"
     ]
    },
    {
     "name": "stderr",
     "output_type": "stream",
     "text": [
      "Train epoch: 8: 100%|███████████████████████████| 29/29 [00:53<00:00,  1.83s/it]\n",
      "Validate Epoch 8: 100%|█████████████████████████| 17/17 [00:10<00:00,  1.59it/s]\n"
     ]
    },
    {
     "name": "stdout",
     "output_type": "stream",
     "text": [
      "Epoch 8/40 |lr: 5e-05| Train Loss: 0.2498 | Evaluate Loss: 0.1318 | Accuracy: 96.03% | MPS Memory (Alloc/Driver): 0.96/7.14 GB\n"
     ]
    },
    {
     "name": "stderr",
     "output_type": "stream",
     "text": [
      "Train epoch: 9: 100%|███████████████████████████| 29/29 [00:53<00:00,  1.84s/it]\n",
      "Validate Epoch 9: 100%|█████████████████████████| 17/17 [00:10<00:00,  1.58it/s]\n"
     ]
    },
    {
     "name": "stdout",
     "output_type": "stream",
     "text": [
      "Epoch 9/40 |lr: 5e-05| Train Loss: 0.2292 | Evaluate Loss: 0.1186 | Accuracy: 95.75% | MPS Memory (Alloc/Driver): 0.96/7.14 GB\n"
     ]
    },
    {
     "name": "stderr",
     "output_type": "stream",
     "text": [
      "Train epoch: 10: 100%|██████████████████████████| 29/29 [00:54<00:00,  1.87s/it]\n",
      "Validate Epoch 10: 100%|████████████████████████| 17/17 [00:10<00:00,  1.57it/s]\n"
     ]
    },
    {
     "name": "stdout",
     "output_type": "stream",
     "text": [
      "Epoch 10/40 |lr: 5e-05| Train Loss: 0.2310 | Evaluate Loss: 0.1052 | Accuracy: 96.41% | MPS Memory (Alloc/Driver): 0.96/7.14 GB\n"
     ]
    },
    {
     "name": "stderr",
     "output_type": "stream",
     "text": [
      "Train epoch: 11: 100%|██████████████████████████| 29/29 [00:53<00:00,  1.85s/it]\n",
      "Validate Epoch 11: 100%|████████████████████████| 17/17 [00:10<00:00,  1.60it/s]\n"
     ]
    },
    {
     "name": "stdout",
     "output_type": "stream",
     "text": [
      "Epoch 11/40 |lr: 5e-05| Train Loss: 0.1994 | Evaluate Loss: 0.1027 | Accuracy: 96.60% | MPS Memory (Alloc/Driver): 0.96/7.14 GB\n"
     ]
    },
    {
     "name": "stderr",
     "output_type": "stream",
     "text": [
      "Train epoch: 12: 100%|██████████████████████████| 29/29 [00:54<00:00,  1.87s/it]\n",
      "Validate Epoch 12: 100%|████████████████████████| 17/17 [00:10<00:00,  1.55it/s]\n"
     ]
    },
    {
     "name": "stdout",
     "output_type": "stream",
     "text": [
      "Epoch 12/40 |lr: 5e-05| Train Loss: 0.1787 | Evaluate Loss: 0.0944 | Accuracy: 97.17% | MPS Memory (Alloc/Driver): 0.96/7.14 GB\n"
     ]
    },
    {
     "name": "stderr",
     "output_type": "stream",
     "text": [
      "Train epoch: 13: 100%|██████████████████████████| 29/29 [00:55<00:00,  1.90s/it]\n",
      "Validate Epoch 13: 100%|████████████████████████| 17/17 [00:10<00:00,  1.58it/s]\n"
     ]
    },
    {
     "name": "stdout",
     "output_type": "stream",
     "text": [
      "Epoch 13/40 |lr: 5e-05| Train Loss: 0.1784 | Evaluate Loss: 0.0938 | Accuracy: 96.79% | MPS Memory (Alloc/Driver): 0.96/7.14 GB\n",
      "No improvement for 1/3 epochs\n"
     ]
    },
    {
     "name": "stderr",
     "output_type": "stream",
     "text": [
      "Train epoch: 14: 100%|██████████████████████████| 29/29 [00:52<00:00,  1.82s/it]\n",
      "Validate Epoch 14: 100%|████████████████████████| 17/17 [00:10<00:00,  1.61it/s]\n"
     ]
    },
    {
     "name": "stdout",
     "output_type": "stream",
     "text": [
      "Epoch 14/40 |lr: 5e-05| Train Loss: 0.1736 | Evaluate Loss: 0.0900 | Accuracy: 96.60% | MPS Memory (Alloc/Driver): 0.96/7.14 GB\n"
     ]
    },
    {
     "name": "stderr",
     "output_type": "stream",
     "text": [
      "Train epoch: 15: 100%|██████████████████████████| 29/29 [00:52<00:00,  1.83s/it]\n",
      "Validate Epoch 15: 100%|████████████████████████| 17/17 [00:10<00:00,  1.60it/s]\n"
     ]
    },
    {
     "name": "stdout",
     "output_type": "stream",
     "text": [
      "Epoch 15/40 |lr: 5e-05| Train Loss: 0.1601 | Evaluate Loss: 0.0731 | Accuracy: 97.26% | MPS Memory (Alloc/Driver): 0.96/7.14 GB\n"
     ]
    },
    {
     "name": "stderr",
     "output_type": "stream",
     "text": [
      "Train epoch: 16: 100%|██████████████████████████| 29/29 [00:53<00:00,  1.83s/it]\n",
      "Validate Epoch 16: 100%|████████████████████████| 17/17 [00:10<00:00,  1.60it/s]\n"
     ]
    },
    {
     "name": "stdout",
     "output_type": "stream",
     "text": [
      "Epoch 16/40 |lr: 5e-05| Train Loss: 0.1485 | Evaluate Loss: 0.0797 | Accuracy: 97.36% | MPS Memory (Alloc/Driver): 0.96/7.14 GB\n",
      "No improvement for 1/3 epochs\n"
     ]
    },
    {
     "name": "stderr",
     "output_type": "stream",
     "text": [
      "Train epoch: 17: 100%|██████████████████████████| 29/29 [00:53<00:00,  1.86s/it]\n",
      "Validate Epoch 17: 100%|████████████████████████| 17/17 [00:10<00:00,  1.60it/s]\n"
     ]
    },
    {
     "name": "stdout",
     "output_type": "stream",
     "text": [
      "Epoch 17/40 |lr: 5e-05| Train Loss: 0.1471 | Evaluate Loss: 0.0809 | Accuracy: 97.17% | MPS Memory (Alloc/Driver): 0.96/7.14 GB\n",
      "No improvement for 2/3 epochs\n"
     ]
    },
    {
     "name": "stderr",
     "output_type": "stream",
     "text": [
      "Train epoch: 18: 100%|██████████████████████████| 29/29 [00:55<00:00,  1.90s/it]\n",
      "Validate Epoch 18: 100%|████████████████████████| 17/17 [00:10<00:00,  1.58it/s]\n"
     ]
    },
    {
     "name": "stdout",
     "output_type": "stream",
     "text": [
      "Epoch 18/40 |lr: 5e-05| Train Loss: 0.1366 | Evaluate Loss: 0.0652 | Accuracy: 97.83% | MPS Memory (Alloc/Driver): 0.96/7.14 GB\n"
     ]
    },
    {
     "name": "stderr",
     "output_type": "stream",
     "text": [
      "Train epoch: 19: 100%|██████████████████████████| 29/29 [00:54<00:00,  1.87s/it]\n",
      "Validate Epoch 19: 100%|████████████████████████| 17/17 [00:10<00:00,  1.58it/s]\n"
     ]
    },
    {
     "name": "stdout",
     "output_type": "stream",
     "text": [
      "Epoch 19/40 |lr: 5e-05| Train Loss: 0.1183 | Evaluate Loss: 0.0755 | Accuracy: 97.54% | MPS Memory (Alloc/Driver): 0.96/7.14 GB\n",
      "No improvement for 1/3 epochs\n"
     ]
    },
    {
     "name": "stderr",
     "output_type": "stream",
     "text": [
      "Train epoch: 20: 100%|██████████████████████████| 29/29 [00:54<00:00,  1.89s/it]\n",
      "Validate Epoch 20: 100%|████████████████████████| 17/17 [00:10<00:00,  1.57it/s]\n"
     ]
    },
    {
     "name": "stdout",
     "output_type": "stream",
     "text": [
      "Epoch 20/40 |lr: 5e-05| Train Loss: 0.1341 | Evaluate Loss: 0.0620 | Accuracy: 98.11% | MPS Memory (Alloc/Driver): 0.96/7.14 GB\n"
     ]
    },
    {
     "name": "stderr",
     "output_type": "stream",
     "text": [
      "Train epoch: 21: 100%|██████████████████████████| 29/29 [00:53<00:00,  1.85s/it]\n",
      "Validate Epoch 21: 100%|████████████████████████| 17/17 [00:10<00:00,  1.61it/s]\n"
     ]
    },
    {
     "name": "stdout",
     "output_type": "stream",
     "text": [
      "Epoch 21/40 |lr: 5e-05| Train Loss: 0.1234 | Evaluate Loss: 0.0562 | Accuracy: 98.30% | MPS Memory (Alloc/Driver): 0.96/7.14 GB\n"
     ]
    },
    {
     "name": "stderr",
     "output_type": "stream",
     "text": [
      "Train epoch: 22: 100%|██████████████████████████| 29/29 [00:52<00:00,  1.82s/it]\n",
      "Validate Epoch 22: 100%|████████████████████████| 17/17 [00:10<00:00,  1.60it/s]\n"
     ]
    },
    {
     "name": "stdout",
     "output_type": "stream",
     "text": [
      "Epoch 22/40 |lr: 5e-05| Train Loss: 0.1070 | Evaluate Loss: 0.0582 | Accuracy: 98.21% | MPS Memory (Alloc/Driver): 0.96/7.14 GB\n",
      "No improvement for 1/3 epochs\n"
     ]
    },
    {
     "name": "stderr",
     "output_type": "stream",
     "text": [
      "Train epoch: 23: 100%|██████████████████████████| 29/29 [00:54<00:00,  1.89s/it]\n",
      "Validate Epoch 23: 100%|████████████████████████| 17/17 [00:10<00:00,  1.57it/s]\n"
     ]
    },
    {
     "name": "stdout",
     "output_type": "stream",
     "text": [
      "Epoch 23/40 |lr: 5e-05| Train Loss: 0.1149 | Evaluate Loss: 0.0691 | Accuracy: 97.73% | MPS Memory (Alloc/Driver): 0.96/7.14 GB\n",
      "No improvement for 2/3 epochs\n"
     ]
    },
    {
     "name": "stderr",
     "output_type": "stream",
     "text": [
      "Train epoch: 24: 100%|██████████████████████████| 29/29 [00:53<00:00,  1.84s/it]\n",
      "Validate Epoch 24: 100%|████████████████████████| 17/17 [00:10<00:00,  1.60it/s]\n"
     ]
    },
    {
     "name": "stdout",
     "output_type": "stream",
     "text": [
      "Epoch 24/40 |lr: 2.5e-05| Train Loss: 0.1118 | Evaluate Loss: 0.0580 | Accuracy: 98.02% | MPS Memory (Alloc/Driver): 0.96/7.14 GB\n",
      "No improvement for 3/3 epochs\n",
      "Early stopping triggered after 3 epochs\n",
      "Session complete\n",
      "historical data exists! Appending new data.\n",
      "Historical data saved successfully!\n",
      "Early stopping triggered. Moving to next session or finishing training.\n",
      "\n",
      "--- Starting Training Session 4/4 ---\n",
      "\n",
      "Unfreezing feature layer at index: -3\n"
     ]
    },
    {
     "name": "stderr",
     "output_type": "stream",
     "text": [
      "Train epoch: 1: 100%|███████████████████████████| 29/29 [05:52<00:00, 12.16s/it]\n",
      "Validate Epoch 1: 100%|█████████████████████████| 17/17 [00:11<00:00,  1.48it/s]\n"
     ]
    },
    {
     "name": "stdout",
     "output_type": "stream",
     "text": [
      "Epoch 1/50 |lr: 1e-05| Train Loss: 0.1061 | Evaluate Loss: 0.0600 | Accuracy: 98.02% | MPS Memory (Alloc/Driver): 0.85/14.19 GB\n"
     ]
    },
    {
     "name": "stderr",
     "output_type": "stream",
     "text": [
      "Train epoch: 2: 100%|███████████████████████████| 29/29 [04:10<00:00,  8.64s/it]\n",
      "Validate Epoch 2: 100%|█████████████████████████| 17/17 [00:11<00:00,  1.48it/s]\n"
     ]
    },
    {
     "name": "stdout",
     "output_type": "stream",
     "text": [
      "Epoch 2/50 |lr: 1e-05| Train Loss: 0.0959 | Evaluate Loss: 0.0529 | Accuracy: 98.21% | MPS Memory (Alloc/Driver): 0.85/14.19 GB\n"
     ]
    },
    {
     "name": "stderr",
     "output_type": "stream",
     "text": [
      "Train epoch: 3: 100%|███████████████████████████| 29/29 [05:55<00:00, 12.27s/it]\n",
      "Validate Epoch 3: 100%|█████████████████████████| 17/17 [00:11<00:00,  1.48it/s]\n"
     ]
    },
    {
     "name": "stdout",
     "output_type": "stream",
     "text": [
      "Epoch 3/50 |lr: 1e-05| Train Loss: 0.0872 | Evaluate Loss: 0.0496 | Accuracy: 98.39% | MPS Memory (Alloc/Driver): 0.85/14.19 GB\n"
     ]
    },
    {
     "name": "stderr",
     "output_type": "stream",
     "text": [
      "Train epoch: 4: 100%|███████████████████████████| 29/29 [07:28<00:00, 15.48s/it]\n",
      "Validate Epoch 4: 100%|█████████████████████████| 17/17 [00:16<00:00,  1.04it/s]\n"
     ]
    },
    {
     "name": "stdout",
     "output_type": "stream",
     "text": [
      "Epoch 4/50 |lr: 1e-05| Train Loss: 0.0932 | Evaluate Loss: 0.0516 | Accuracy: 98.11% | MPS Memory (Alloc/Driver): 0.85/14.19 GB\n",
      "No improvement for 1/3 epochs\n"
     ]
    },
    {
     "name": "stderr",
     "output_type": "stream",
     "text": [
      "Train epoch: 5: 100%|███████████████████████████| 29/29 [08:00<00:00, 16.56s/it]\n",
      "Validate Epoch 5: 100%|█████████████████████████| 17/17 [00:15<00:00,  1.13it/s]\n"
     ]
    },
    {
     "name": "stdout",
     "output_type": "stream",
     "text": [
      "Epoch 5/50 |lr: 1e-05| Train Loss: 0.0903 | Evaluate Loss: 0.0494 | Accuracy: 98.39% | MPS Memory (Alloc/Driver): 0.85/14.19 GB\n",
      "No improvement for 2/3 epochs\n"
     ]
    },
    {
     "name": "stderr",
     "output_type": "stream",
     "text": [
      "Train epoch: 6: 100%|███████████████████████████| 29/29 [08:59<00:00, 18.61s/it]\n",
      "Validate Epoch 6: 100%|█████████████████████████| 17/17 [00:21<00:00,  1.29s/it]\n"
     ]
    },
    {
     "name": "stdout",
     "output_type": "stream",
     "text": [
      "Epoch 6/50 |lr: 1e-05| Train Loss: 0.0834 | Evaluate Loss: 0.0568 | Accuracy: 98.11% | MPS Memory (Alloc/Driver): 0.85/14.19 GB\n",
      "No improvement for 3/3 epochs\n",
      "Early stopping triggered after 3 epochs\n",
      "Session complete\n",
      "historical data exists! Appending new data.\n",
      "Historical data saved successfully!\n",
      "Early stopping triggered. Moving to next session or finishing training.\n",
      "\n",
      "--- Incremental training finished. Best overall accuracy: inf% ---\n"
     ]
    },
    {
     "data": {
      "image/png": "[encoded data removed]",
      "text/plain": [
       "<Figure size 1000x600 with 1 Axes>"
      ]
     },
     "metadata": {},
     "output_type": "display_data"
    },
    {
     "data": {
      "image/png": "[encoded data removed]",
      "text/plain": [
       "<Figure size 1000x600 with 1 Axes>"
      ]
     },
     "metadata": {},
     "output_type": "display_data"
    }
   ],
   "source": [
    "import torch.optim as optim\n",
    "\n",
    "if torch.cuda.is_available():\n",
    "    hardware = torch.device(\"cuda\")\n",
    "elif torch.backends.mps.is_available():\n",
    "    hardware = torch.device(\"mps\")\n",
    "else:\n",
    "    hardware = torch.device(\"cpu\")\n",
    "classes = 5\n",
    "\n",
    "criterion = nn.CrossEntropyLoss()\n",
    "\n",
    "model = LeafDiseaseClassifierEfficientNetV2S(num_classes=classes).to(hardware)\n",
    "\n",
    "model_dir = '/Users/jameskierdoliguez/Desktop/models/EfficientNetV2S/EfficientNetV2S_rice_leaf_disease_classificationfinalV3.pt'\n",
    "file_name = '/Users/jameskierdoliguez/Desktop/train_results/EfficientNetV2S/EfficientNetV2S_rice_leaf_disease_classificationfinalV3.csv'\n",
    "\n",
    "training_sessions = [\n",
    "\n",
    "    {'epochs': 20, 'lr': 5e-4, 'unfreeze_layer': 0},\n",
    "\n",
    "    {'epochs': 30, 'lr': 1e-4, 'unfreeze_layer': 1},\n",
    "\n",
    "    {'epochs': 40, 'lr': 5e-5, 'unfreeze_layer': 2},\n",
    "\n",
    "    {'epochs': 50, 'lr': 1e-5, 'unfreeze_layer': 3},\n",
    "    \n",
    "]\n",
    "\n",
    "result, accuracies = incremental_training(model=model, sessions=training_sessions, criterion=criterion, train_dataloader=train_loader, validation_dataloader=validation_loader, device=hardware, model_dir=model_dir, filename=file_name)\n",
    "\n",
    "plot_training_result(*result)\n",
    "plot_accuracy(*result)"
   ]
  },
  {
   "cell_type": "code",
   "execution_count": null,
   "id": "48649a44-35f4-4d7c-8e46-7d21cac9a4c4",
   "metadata": {},
   "outputs": [],
   "source": [
    "import torch.optim as optim\n",
    "\n",
    "if torch.cuda.is_available():\n",
    "    hardware = torch.device(\"cuda\")\n",
    "elif torch.backends.mps.is_available():\n",
    "    hardware = torch.device(\"mps\")\n",
    "else:\n",
    "    hardware = torch.device(\"cpu\")\n",
    "classes = 5\n",
    "criterion = nn.CrossEntropyLoss()\n",
    "\n",
    "model = LeafDiseaseClassifierShuffleNetV2(num_classes=classes).to(hardware)\n",
    "\n",
    "model_dir = '/Users/jameskierdoliguez/Desktop/models/ShuffleNetV2/ShuffleNetV2_rice_leaf_disease_classificationfinalV3.pt'\n",
    "file_name = '/Users/jameskierdoliguez/Desktop/train_results/ShuffleNetV2/ShuffleNetV2_rice_leaf_disease_classificationfinalV3.csv'\n",
    "\n",
    "training_sessions = [\n",
    "\n",
    "    {'epochs': 20, 'lr': 5e-4, 'unfreeze_layer': 0},\n",
    "\n",
    "    {'epochs': 30, 'lr': 1e-4, 'unfreeze_layer': 1},\n",
    "\n",
    "    {'epochs': 40, 'lr': 5e-5, 'unfreeze_layer': 2},\n",
    "\n",
    "    {'epochs': 50, 'lr': 1e-5, 'unfreeze_layer': 3},\n",
    "\n",
    "]\n",
    "\n",
    "result, accuracies = incremental_training(model=model, sessions=training_sessions, criterion=criterion, train_dataloader=train_loader, validation_dataloader=validation_loader, device=hardware, model_dir=model_dir, filename=file_name)\n",
    "\n",
    "plot_training_result(*result)\n",
    "plot_accuracy(*result)"
   ]
  },
  {
   "cell_type": "code",
   "execution_count": null,
   "id": "06a4a4e5-e1e8-45cc-8857-adda68aeee0e",
   "metadata": {},
   "outputs": [],
   "source": [
    "import torch.optim as optim\n",
    "\n",
    "if torch.cuda.is_available():\n",
    "    hardware = torch.device(\"cuda\")\n",
    "elif torch.backends.mps.is_available():\n",
    "    hardware = torch.device(\"mps\")\n",
    "else:\n",
    "    hardware = torch.device(\"cpu\")\n",
    "classes = 5\n",
    "\n",
    "criterion = nn.CrossEntropyLoss()\n",
    "\n",
    "model = LeafDiseaseClassifierMobileNetV3L(num_classes=classes).to(hardware)\n",
    "\n",
    "model_dir = '/Users/jameskierdoliguez/Desktop/models/MobileNetV3L/MobileNetV3L_rice_leaf_disease_classificationV1.pt'\n",
    "file_name = '/Users/jameskierdoliguez/Desktop/train_results/MobileNetV3L/MobileNetV3L_rice_leaf_disease_classificationV1.csv'\n",
    "\n",
    "training_sessions = [\n",
    "\n",
    "    {'epochs': 20, 'lr': 5e-4, 'unfreeze_layer': 0},\n",
    "\n",
    "    {'epochs': 30, 'lr': 1e-4, 'unfreeze_layer': 1},\n",
    "\n",
    "    {'epochs': 40, 'lr': 5e-5, 'unfreeze_layer': 2},\n",
    "\n",
    "    {'epochs': 50, 'lr': 1e-5, 'unfreeze_layer': 3},\n",
    "]\n",
    "\n",
    "result, accuracies = incremental_training(model=model, sessions=training_sessions, criterion=criterion, train_dataloader=train_loader, validation_dataloader=validation_loader, device=hardware, model_dir=model_dir, filename=file_name)\n",
    "\n",
    "plot_training_result(*result)\n",
    "plot_accuracy(*result)"
   ]
  },
  {
   "cell_type": "code",
   "execution_count": 17,
   "id": "cbe84fc81ca83737",
   "metadata": {
    "ExecuteTime": {
     "end_time": "2025-08-22T13:29:13.989625Z",
     "start_time": "2025-08-22T13:29:13.059797Z"
    }
   },
   "outputs": [
    {
     "data": {
      "image/png": "[encoded data removed]",
      "text/plain": [
       "<Figure size 1000x1200 with 2 Axes>"
      ]
     },
     "metadata": {},
     "output_type": "display_data"
    }
   ],
   "source": [
    "\n",
    "plot_historical_results('/Users/jameskierdoliguez/Desktop/train_results/EfficientNetV2S/EfficientNetV2S_rice_leaf_disease_classificationfinalV2.csv')\n",
    "\n"
   ]
  },
  {
   "cell_type": "code",
   "execution_count": 19,
   "id": "340b828c2f1ea908",
   "metadata": {
    "ExecuteTime": {
     "end_time": "2025-08-22T11:37:57.911231Z",
     "start_time": "2025-08-22T11:37:57.905323Z"
    }
   },
   "outputs": [],
   "source": [
    "from PIL import Image\n",
    "import numpy as np\n",
    "import torch.nn.functional as F\n",
    "\n",
    "def predict_single_image(model, image_path, classes, transform, device):\n",
    "\n",
    "    model.to(device)\n",
    "\n",
    "    model.eval()\n",
    "\n",
    "    image = Image.open(image_path).convert('RGB')\n",
    "\n",
    "    image_np = np.array(image)\n",
    "\n",
    "    augmented = transform(image=image_np)\n",
    "\n",
    "    image_tensor = augmented['image'].unsqueeze(0).to(device)\n",
    "\n",
    "    with torch.no_grad():\n",
    "        result = model(image_tensor)\n",
    "\n",
    "        probabilities = F.softmax(result, dim=1)\n",
    "\n",
    "        confidence, predicted_index = torch.max(probabilities, 1)\n",
    "        predicted_class = classes[predicted_index.item()]\n",
    "        confidence_score = confidence.item()\n",
    "\n",
    "    return predicted_class, confidence_score, probabilities.squeeze().cpu().numpy()\n"
   ]
  },
  {
   "cell_type": "code",
   "execution_count": 20,
   "id": "3fb753e351ad7371",
   "metadata": {
    "ExecuteTime": {
     "end_time": "2025-08-22T11:37:59.397764Z",
     "start_time": "2025-08-22T11:37:59.171254Z"
    }
   },
   "outputs": [],
   "source": [
    "from sklearn.metrics import classification_report, confusion_matrix, accuracy_score\n",
    "import numpy as np\n",
    "\n",
    "def eval_metrics(model, testLoader, classes_names, device):\n",
    "\n",
    "    model.to(device)\n",
    "    model.eval()\n",
    "\n",
    "    total_predictions = []\n",
    "    true_labels = []\n",
    "\n",
    "    with torch.no_grad():\n",
    "\n",
    "        for input, labels in tqdm(testLoader):\n",
    "            input, labels = input.to(device), labels.to(device)\n",
    "\n",
    "            output = model(input)\n",
    "            _, predicted = torch.max(output, 1)\n",
    "\n",
    "            total_predictions.extend(predicted.cpu().numpy())\n",
    "            true_labels.extend(labels.cpu().numpy())\n",
    "\n",
    "\n",
    "    y_true = np.array(true_labels)\n",
    "    y_pred = np.array(total_predictions)\n",
    "\n",
    "    print('Classification Report')\n",
    "    report = classification_report(y_true, y_pred, target_names=classes_names)\n",
    "\n",
    "    print(report)\n",
    "\n",
    "    print(f\"Accuracy: {accuracy_score(y_true, y_pred)*100:.2f}%\\n\")\n",
    "\n",
    "    print('Confusion Matrix')\n",
    "\n",
    "    matrix = confusion_matrix(y_true, y_pred)\n",
    "\n",
    "    cm_df = pd.DataFrame(matrix, index=classes_names, columns=classes_names)\n",
    "\n",
    "    plt.figure(figsize=(10, 8))\n",
    "    sns.heatmap(cm_df, annot=True, fmt='g', cmap='Blues')\n",
    "    plt.title('Confusion Matrix (standard)')\n",
    "    plt.ylabel('Actual leaf diseases')\n",
    "    plt.xlabel('Predicted leaf diseases')\n",
    "    plt.show()\n",
    "\n",
    "    return y_true, y_pred\n",
    "\n",
    "def save_evalution_result(total_predictions, true_labels):\n",
    "\n",
    "    data = pd.DataFrame({\n",
    "        'True Labels': true_labels,\n",
    "        'Predicted Labels': total_predictions\n",
    "    })\n",
    "\n",
    "    data.to_csv('evalution_result.csv', index=False)\n"
   ]
  },
  {
   "cell_type": "code",
   "execution_count": 29,
   "id": "affbac0d0a0851c8",
   "metadata": {},
   "outputs": [
    {
     "name": "stdout",
     "output_type": "stream",
     "text": [
      "The predicted leaf disease is: Leaf Blast\n",
      "Confidence: 74.91%\n",
      "Overall score: [0.20197502 0.02507044 0.74909854 0.01321982 0.01063612]\n"
     ]
    },
    {
     "name": "stderr",
     "output_type": "stream",
     "text": [
      "100%|███████████████████████████████████████████| 17/17 [00:04<00:00,  4.02it/s]"
     ]
    },
    {
     "name": "stdout",
     "output_type": "stream",
     "text": [
      "Classification Report\n",
      "                       precision    recall  f1-score   support\n",
      "\n",
      "Bacterial Leaf Blight       0.86      0.86      0.86        88\n",
      "           Brown Spot       0.89      0.85      0.87       110\n",
      "           Leaf Blast       0.82      0.85      0.83       125\n",
      "        Sheath Blight       0.93      0.94      0.94       101\n",
      "               Tungro       1.00      1.00      1.00       104\n",
      "\n",
      "             accuracy                           0.90       528\n",
      "            macro avg       0.90      0.90      0.90       528\n",
      "         weighted avg       0.90      0.90      0.90       528\n",
      "\n",
      "Accuracy: 89.77%\n",
      "\n",
      "Confusion Matrix\n"
     ]
    },
    {
     "name": "stderr",
     "output_type": "stream",
     "text": [
      "\n"
     ]
    },
    {
     "data": {
      "image/png": "[encoded data removed]",
      "text/plain": [
       "<Figure size 1000x800 with 2 Axes>"
      ]
     },
     "metadata": {},
     "output_type": "display_data"
    }
   ],
   "source": [
    "import torchvision.models as models\n",
    "\n",
    "classes_names = train_set.classes\n",
    "if torch.cuda.is_available():\n",
    "    hardware = torch.device(\"cuda\")\n",
    "elif torch.backends.mps.is_available():\n",
    "    hardware = torch.device(\"mps\")\n",
    "else:\n",
    "    hardware = torch.device(\"cpu\")\n",
    "model_inference = LeafDiseaseClassifierMobileNetV2(num_classes=len(classes_names))\n",
    "model_inference.load_state_dict(torch.load(\n",
    "    '/Users/jameskierdoliguez/Desktop/models/MobileNetV2/MobileNetV2_rice_leaf_disease_classificationfinalV2.pt', map_location=hardware))\n",
    "\n",
    "image_path = '/Users/jameskierdoliguez/Documents/Thesis Dataset/RICE LEAF DISEASE DATASET/Bacterialblight/IMG_20231018_143741.jpg'\n",
    "unrelated = '/Users/jameskierdoliguez/Downloads/FELV-cat.jpg'\n",
    "\n",
    "leaf_disease, confidence_score, over_all_scores = predict_single_image(model=model_inference, image_path=image_path, classes=classes_names, transform=validation_pipeline, device=hardware)\n",
    "\n",
    "print(f\"The predicted leaf disease is: {leaf_disease}\")\n",
    "print(f\"Confidence: {confidence_score * 100:.2f}%\")\n",
    "print(f\"Overall score: {over_all_scores}\")\n",
    "#\n",
    "true, pred = eval_metrics(model_inference, test_loader, classes_names, hardware)"
   ]
  },
  {
   "cell_type": "code",
   "execution_count": 24,
   "id": "71eb9ff1094cad55",
   "metadata": {
    "ExecuteTime": {
     "end_time": "2025-08-22T11:38:45.916325Z",
     "start_time": "2025-08-22T11:38:38.737868Z"
    }
   },
   "outputs": [
    {
     "name": "stdout",
     "output_type": "stream",
     "text": [
      "The predicted leaf disease is: Bacterial Leaf Blight\n",
      "Confidence: 56.95%\n",
      "Overall score: [5.6953877e-01 1.2387915e-01 2.5867307e-01 4.7415983e-02 4.9307779e-04]\n"
     ]
    },
    {
     "name": "stderr",
     "output_type": "stream",
     "text": [
      "100%|███████████████████████████████████████████| 17/17 [00:05<00:00,  3.14it/s]\n"
     ]
    },
    {
     "name": "stdout",
     "output_type": "stream",
     "text": [
      "Classification Report\n",
      "                       precision    recall  f1-score   support\n",
      "\n",
      "Bacterial Leaf Blight       0.97      0.95      0.96        88\n",
      "           Brown Spot       1.00      0.99      1.00       110\n",
      "           Leaf Blast       0.95      0.98      0.96       125\n",
      "        Sheath Blight       1.00      0.99      1.00       101\n",
      "               Tungro       1.00      1.00      1.00       104\n",
      "\n",
      "             accuracy                           0.98       528\n",
      "            macro avg       0.98      0.98      0.98       528\n",
      "         weighted avg       0.98      0.98      0.98       528\n",
      "\n",
      "Accuracy: 98.30%\n",
      "\n",
      "Confusion Matrix\n"
     ]
    },
    {
     "data": {
      "image/png": "[encoded data removed]",
      "text/plain": [
       "<Figure size 1000x800 with 2 Axes>"
      ]
     },
     "metadata": {},
     "output_type": "display_data"
    }
   ],
   "source": [
    "import torchvision.models as models\n",
    "\n",
    "classes_names = train_set.classes\n",
    "if torch.cuda.is_available():\n",
    "    hardware = torch.device(\"cuda\")\n",
    "elif torch.backends.mps.is_available():\n",
    "    hardware = torch.device(\"mps\")\n",
    "else:\n",
    "    hardware = torch.device(\"cpu\")\n",
    "model_inference = LeafDiseaseClassifierEfficientNetV2S(num_classes=len(classes_names))\n",
    "model_inference.load_state_dict(torch.load(\n",
    "    '/Users/jameskierdoliguez/Desktop/models/EfficientNetV2S/EfficientNetV2S_rice_leaf_disease_classificationfinalV3.pt', map_location=hardware))\n",
    "image_path = '/Users/jameskierdoliguez/Documents/Rice_Leaf_Diease/train/bacterial_leaf_blight/bacterial_leaf_blight680.jpg'\n",
    "unrelated = '/Users/jameskierdoliguez/Downloads/FELV-cat.jpg'\n",
    "\n",
    "leaf_disease, confidence_score, over_all_scores = predict_single_image(model=model_inference, image_path=image_path, classes=classes_names, transform=validation_pipeline, device=hardware)\n",
    "\n",
    "print(f\"The predicted leaf disease is: {leaf_disease}\")\n",
    "print(f\"Confidence: {confidence_score * 100:.2f}%\")\n",
    "print(f\"Overall score: {over_all_scores}\")\n",
    "\n",
    "true, pred = eval_metrics(model_inference, test_loader, classes_names, hardware)"
   ]
  },
  {
   "cell_type": "code",
   "execution_count": 22,
   "id": "b1ae22a7-0db7-4039-950a-88f58785e473",
   "metadata": {},
   "outputs": [
    {
     "name": "stdout",
     "output_type": "stream",
     "text": [
      "The predicted leaf disease is: Brown Spot\n",
      "Confidence: 44.97%\n",
      "Overall score: [0.365658   0.44968784 0.03370505 0.13282718 0.01812191]\n"
     ]
    },
    {
     "name": "stderr",
     "output_type": "stream",
     "text": [
      "100%|███████████████████████████████████████████| 17/17 [00:03<00:00,  4.25it/s]\n"
     ]
    },
    {
     "name": "stdout",
     "output_type": "stream",
     "text": [
      "Classification Report\n",
      "                       precision    recall  f1-score   support\n",
      "\n",
      "Bacterial Leaf Blight       0.92      0.92      0.92        88\n",
      "           Brown Spot       0.88      0.94      0.91       110\n",
      "           Leaf Blast       0.92      0.88      0.90       125\n",
      "        Sheath Blight       1.00      0.98      0.99       101\n",
      "               Tungro       1.00      1.00      1.00       104\n",
      "\n",
      "             accuracy                           0.94       528\n",
      "            macro avg       0.94      0.94      0.94       528\n",
      "         weighted avg       0.94      0.94      0.94       528\n",
      "\n",
      "Accuracy: 94.13%\n",
      "\n",
      "Confusion Matrix\n"
     ]
    },
    {
     "data": {
      "image/png": "[encoded data removed]",
      "text/plain": [
       "<Figure size 1000x800 with 2 Axes>"
      ]
     },
     "metadata": {},
     "output_type": "display_data"
    }
   ],
   "source": [
    "import torchvision.models as models\n",
    "\n",
    "classes_names = train_set.classes\n",
    "if torch.cuda.is_available():\n",
    "    hardware = torch.device(\"cuda\")\n",
    "elif torch.backends.mps.is_available():\n",
    "    hardware = torch.device(\"mps\")\n",
    "else:\n",
    "    hardware = torch.device(\"cpu\")\n",
    "model_inference = LeafDiseaseClassifierShuffleNetV2(num_classes=len(classes_names))\n",
    "model_inference.load_state_dict(torch.load(\n",
    "    '/Users/jameskierdoliguez/Desktop/models/ShuffleNetV2/ShuffleNetV2_rice_leaf_disease_classificationfinalV1.pt', map_location=hardware))\n",
    "image_path = '/Users/jameskierdoliguez/Documents/Rice_Leaf_Diease/train/bacterial_leaf_blight/bacterial_leaf_blight680.jpg'\n",
    "unrelated = '/Users/jameskierdoliguez/Downloads/FELV-cat.jpg'\n",
    "\n",
    "leaf_disease, confidence_score, over_all_scores = predict_single_image(model=model_inference, image_path=image_path, classes=classes_names, transform=validation_pipeline, device=hardware)\n",
    "\n",
    "print(f\"The predicted leaf disease is: {leaf_disease}\")\n",
    "print(f\"Confidence: {confidence_score * 100:.2f}%\")\n",
    "print(f\"Overall score: {over_all_scores}\")\n",
    "\n",
    "true, pred = eval_metrics(model_inference, test_loader, classes_names, hardware)"
   ]
  },
  {
   "cell_type": "code",
   "execution_count": null,
   "id": "4a996eeb-4465-4a01-9b7e-ba8cc3f4c3de",
   "metadata": {},
   "outputs": [],
   "source": [
    "import torch\n",
    "import torchvision.models as models\n",
    "import pandas as pd\n",
    "import seaborn as sns\n",
    "import matplotlib.pyplot as plt\n",
    "from sklearn.metrics import confusion_matrix, classification_report\n",
    "import numpy as np\n",
    "\n",
    "# --- Assume these are defined elsewhere in your code ---\n",
    "# train_set, test_loader, LeafDiseaseClassifierEfficientNetV2S,\n",
    "# predict_single_image, and validation_pipeline need to be defined\n",
    "# for this script to be fully runnable.\n",
    "\n",
    "# I will create a placeholder for the eval_metrics function you mentioned,\n",
    "# as it's crucial for generating the report and matrix.\n",
    "\n",
    "def eval_metrics(model, dataloader, class_names, device):\n",
    "    \"\"\"\n",
    "    Calculates true and predicted labels for a given model and dataloader.\n",
    "    \"\"\"\n",
    "    model.eval()\n",
    "    true_labels = []\n",
    "    predicted_labels = []\n",
    "\n",
    "    with torch.no_grad():\n",
    "        for images, labels in dataloader:\n",
    "            images, labels = images.to(device), labels.to(device)\n",
    "            outputs = model(images)\n",
    "            _, preds = torch.max(outputs, 1)\n",
    "\n",
    "            # Move labels and preds to CPU for numpy/sklearn\n",
    "            true_labels.extend(labels.cpu().numpy())\n",
    "            predicted_labels.extend(preds.cpu().numpy())\n",
    "            \n",
    "    return true_labels, predicted_labels\n",
    "\n",
    "# --- Your Original Code Setup ---\n",
    "\n",
    "# This assumes 'train_set' and 'test_loader' are already created\n",
    "# classes_names = train_set.classes\n",
    "classes_names = ['bacterial_leaf_blight', 'brown_spot', 'leaf_smut'] # Example classes\n",
    "\n",
    "if torch.cuda.is_available():\n",
    "    hardware = torch.device(\"cuda\")\n",
    "elif torch.backends.mps.is_available():\n",
    "    hardware = torch.device(\"mps\")\n",
    "else:\n",
    "    hardware = torch.device(\"cpu\")\n",
    "\n",
    "# --- We'll skip model loading and single prediction for this example ---\n",
    "# model_inference = LeafDiseaseClassifierEfficientNetV2S(num_classes=len(classes_names))\n",
    "# model_inference.load_state_dict(torch.load(\n",
    "#     '/Users/jameskierdoliguez/Desktop/models/EfficientNetV2S/EfficientNetV2S_rice_leaf_disease_classificationfinalV3.pt',\n",
    "#     map_location=hardware))\n",
    "#\n",
    "# print(\"Running a single prediction (from your original code):\")\n",
    "# image_path = '/Users/jameskierdoliguez/Documents/Rice_Leaf_Diease/train/bacterial_leaf_blight/bacterial_leaf_blight680.jpg'\n",
    "# leaf_disease, confidence_score, over_all_scores = predict_single_image(model=model_inference, image_path=image_path, classes=classes_names, transform=validation_pipeline, device=hardware)\n",
    "# print(f\"The predicted leaf disease is: {leaf_disease}\")\n",
    "# print(f\"Confidence: {confidence_score * 100:.2f}%\")\n",
    "# print(f\"Overall score: {over_all_scores}\\n\")\n",
    "\n",
    "\n",
    "# --- MODIFIED SECTION: Generate and Save Reports ---\n",
    "\n",
    "print(\"Generating evaluation metrics...\")\n",
    "# Assuming model_inference and test_loader are defined and loaded\n",
    "# true_labels, pred_labels = eval_metrics(model_inference, test_loader, classes_names, hardware)\n",
    "\n",
    "# NOTE: Using dummy data below since I can't run your model.\n",
    "# Replace this with the line above when you run your code.\n",
    "true_labels = np.random.randint(0, len(classes_names), 100)\n",
    "pred_labels = np.random.randint(0, len(classes_names), 100)\n",
    "# --- End of dummy data section ---\n",
    "\n",
    "\n",
    "## 1. Generate and Save Classification Report as a CSV File\n",
    "\n",
    "print(\"Saving classification report to CSV...\")\n",
    "# Generate the report as a dictionary\n",
    "report_dict = classification_report(true_labels, pred_labels, target_names=classes_names, output_dict=True)\n",
    "\n",
    "# Convert the dictionary to a pandas DataFrame\n",
    "df_report = pd.DataFrame(report_dict).transpose()\n",
    "\n",
    "# Save the DataFrame to a CSV file\n",
    "csv_save_path = 'classification_report.csv'\n",
    "df_report.to_csv(csv_save_path)\n",
    "\n",
    "print(f\"✅ Classification report successfully saved to: {csv_save_path}\")\n",
    "\n",
    "---\n",
    "\n",
    "## 2. Generate and Save Confusion Matrix as an Image\n",
    "\n",
    "print(\"\\nSaving confusion matrix image...\")\n",
    "# Generate the confusion matrix\n",
    "cm = confusion_matrix(true_labels, pred_labels)\n",
    "\n",
    "# Create a heatmap visualization\n",
    "plt.figure(figsize=(10, 8))\n",
    "sns.heatmap(cm, annot=True, fmt='d', cmap='Blues',\n",
    "            xticklabels=classes_names, yticklabels=classes_names)\n",
    "\n",
    "plt.title('Confusion Matrix', fontsize=16)\n",
    "plt.xlabel('Predicted Label', fontsize=12)\n",
    "plt.ylabel('True Label', fontsize=12)\n",
    "plt.xticks(rotation=45)\n",
    "plt.yticks(rotation=0)\n",
    "plt.tight_layout() # Adjust layout to make sure everything fits\n",
    "\n",
    "# Save the figure to a file\n",
    "image_save_path = 'confusion_matrix.png'\n",
    "plt.savefig(image_save_path, dpi=300) # dpi for higher resolution\n",
    "\n",
    "print(f\"✅ Confusion matrix image successfully saved to: {image_save_path}\")"
   ]
  }
 ],
 "metadata": {
  "kernelspec": {
   "display_name": "Python (Toki)",
   "language": "python",
   "name": "toki"
  },
  "language_info": {
   "codemirror_mode": {
    "name": "ipython",
    "version": 3
   },
   "file_extension": ".py",
   "mimetype": "text/x-python",
   "name": "python",
   "nbconvert_exporter": "python",
   "pygments_lexer": "ipython3",
   "version": "3.12.2"
  }
 },
 "nbformat": 4,
 "nbformat_minor": 5
}
