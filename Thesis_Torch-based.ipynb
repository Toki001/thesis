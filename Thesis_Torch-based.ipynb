{
 "cells": [
  {
   "cell_type": "code",
   "execution_count": 1,
   "id": "cb5a725a97da07f1",
   "metadata": {
    "ExecuteTime": {
     "end_time": "2025-08-22T11:37:30.174138Z",
     "start_time": "2025-08-22T11:37:28.699288Z"
    }
   },
   "outputs": [
    {
     "name": "stdout",
     "output_type": "stream",
     "text": [
      "MPS backend available ✅\n",
      "Using device: mps\n"
     ]
    }
   ],
   "source": [
    "import torch\n",
    "\n",
    "if torch.backends.mps.is_available():\n",
    "    device = torch.device(\"mps\")\n",
    "    print(\"MPS backend available ✅\")\n",
    "    print(f\"Using device: {device}\")\n",
    "else:\n",
    "    device = torch.device(\"cpu\")\n",
    "    print(\"MPS not available ❌, using CPU\")"
   ]
  },
  {
   "cell_type": "code",
   "execution_count": 2,
   "id": "416f554c-a667-46b2-8ba6-8c7a6742d591",
   "metadata": {},
   "outputs": [],
   "source": [
    "import gc, psutil, os\n",
    "\n",
    "def memory_report():\n",
    "    total_elements = 0\n",
    "    total_bytes = 0\n",
    "\n",
    "    # Go through all live tensors\n",
    "    for obj in gc.get_objects():\n",
    "        try:\n",
    "            if torch.is_tensor(obj):\n",
    "                total_elements += obj.numel()\n",
    "                total_bytes += obj.element_size() * obj.numel()\n",
    "            elif hasattr(obj, \"data\") and torch.is_tensor(obj.data):\n",
    "                total_elements += obj.data.numel()\n",
    "                total_bytes += obj.data.element_size() * obj.data.numel()\n",
    "        except Exception:\n",
    "            pass\n",
    "\n",
    "    total_mb = total_bytes / (1024 ** 2)\n",
    "\n",
    "    process = psutil.Process(os.getpid())\n",
    "    rss_mb = process.memory_info().rss / (1024 ** 2)\n",
    "\n",
    "    print(\"\\n--- MEMORY USAGE REPORT ---\")\n",
    "    print(f\"Tensors Allocated: {total_elements:,}\")\n",
    "    print(f\"Tensor Memory:     {total_mb:.2f} MB\")\n",
    "    print(f\"Process RSS:       {rss_mb:.2f} MB\")\n",
    "    print(\"---------------------------\\n\")"
   ]
  },
  {
   "cell_type": "code",
   "execution_count": 3,
   "id": "23d50c3f254a094",
   "metadata": {
    "ExecuteTime": {
     "end_time": "2025-08-22T11:37:30.640403Z",
     "start_time": "2025-08-22T11:37:30.634211Z"
    }
   },
   "outputs": [
    {
     "name": "stdout",
     "output_type": "stream",
     "text": [
      "\n",
      "--- MEMORY USAGE REPORT ---\n",
      "Tensors Allocated: 64,000,000\n",
      "Tensor Memory:     244.14 MB\n",
      "Process RSS:       244.95 MB\n",
      "---------------------------\n",
      "\n"
     ]
    },
    {
     "name": "stderr",
     "output_type": "stream",
     "text": [
      "/opt/anaconda3/lib/python3.12/site-packages/torch/__init__.py:1125: FutureWarning: `torch.distributed.reduce_op` is deprecated, please use `torch.distributed.ReduceOp` instead\n",
      "  return isinstance(obj, torch.Tensor)\n",
      "/var/folders/19/6jsh26815bq0m281bn69tt9w0000gn/T/ipykernel_1814/2450541917.py:13: FutureWarning: `torch.distributed.reduce_op` is deprecated, please use `torch.distributed.ReduceOp` instead\n",
      "  elif hasattr(obj, \"data\") and torch.is_tensor(obj.data):\n"
     ]
    }
   ],
   "source": [
    "# Allocate a big tensor on MPS to test\n",
    "x = torch.rand((8000, 8000), device=device)  \n",
    "memory_report()"
   ]
  },
  {
   "cell_type": "code",
   "execution_count": 4,
   "id": "initial_id",
   "metadata": {
    "ExecuteTime": {
     "end_time": "2025-08-22T11:37:32.339066Z",
     "start_time": "2025-08-22T11:37:31.874542Z"
    }
   },
   "outputs": [],
   "source": [
    "import albumentations as A\n",
    "from albumentations.pytorch import ToTensorV2\n",
    "\n",
    "training_pipeline = A.Compose([\n",
    "\n",
    "    A.Resize(height=224, width=224),\n",
    "    A.RandomCrop(height=180, width=180, p=1.0),\n",
    "    A.Resize(height=224, width=224),\n",
    "    A.HorizontalFlip(p=0.5),\n",
    "    A.VerticalFlip(p=0.5),\n",
    "    A.Rotate(limit=45, p=0.4),\n",
    "\n",
    "    A.RandomBrightnessContrast(brightness_limit=(-0.3, 0.3), contrast_limit=(-0.2, 0.2), p=0.4),\n",
    "    A.ColorJitter(brightness=0.2, contrast=0.2, saturation=0.2, hue=0.2, p=0.4),\n",
    "\n",
    "    A.OneOf([\n",
    "        A.GaussNoise(std_range=(0.1, 0.2), per_channel=True, p=0.4),\n",
    "        A.RandomRain(slant_range=(-15, 15), drop_length=15, drop_width=1, rain_type=\"default\", blur_value=7, p=0.4),\n",
    "        A.CoarseDropout(num_holes_range=(1, 3), hole_height_range=(0.1, 0.25), hole_width_range=(0.1, 0.25), fill=0, p=0.4)\n",
    "    ], p=0.5),\n",
    "\n",
    "    A.Normalize(mean=(0.485, 0.456, 0.406), std=(0.229, 0.224, 0.225)),\n",
    "    ToTensorV2()\n",
    "])\n",
    "\n",
    "validation_pipeline = A.Compose([\n",
    "    A.Resize(height=224, width=224),\n",
    "    A.Normalize(mean=(0.485, 0.456, 0.406), std=(0.229, 0.224, 0.225)),\n",
    "    ToTensorV2()\n",
    "])\n",
    "\n",
    "basic_pipeline = A.Compose([\n",
    "    A.Resize(height=224, width=224),\n",
    "    A.HorizontalFlip(p=0.6),\n",
    "    A.VerticalFlip(p=0.6),\n",
    "    A.Rotate(limit=(-45,45), p=0.7),\n",
    "    A.Normalize(mean=(0.485, 0.456, 0.406), std=(0.229, 0.224, 0.225)),\n",
    "    ToTensorV2()\n",
    "])"
   ]
  },
  {
   "cell_type": "code",
   "execution_count": 28,
   "id": "52e60379-6f86-499f-a755-03fdabec6d95",
   "metadata": {},
   "outputs": [],
   "source": [
    "import albumentations as A\n",
    "from albumentations.pytorch import ToTensorV2\n",
    "\n",
    "# MODIFIED: This pipeline now only resizes and normalizes the image.\n",
    "training_pipeline = A.Compose([\n",
    "    A.Resize(height=224, width=224),\n",
    "    A.Normalize(mean=(0.485, 0.456, 0.406), std=(0.229, 0.224, 0.225)),\n",
    "    ToTensorV2()\n",
    "])\n",
    "\n",
    "# LEAVE AS IS: The validation and basic pipelines are unchanged.\n",
    "validation_pipeline = A.Compose([\n",
    "    A.Resize(height=224, width=224),\n",
    "    A.Normalize(mean=(0.485, 0.456, 0.406), std=(0.229, 0.224, 0.225)),\n",
    "    ToTensorV2()\n",
    "])\n",
    "\n",
    "basic_pipeline = A.Compose([\n",
    "    A.Resize(height=224, width=224),\n",
    "    A.HorizontalFlip(p=0.6),\n",
    "    A.VerticalFlip(p=0.6),\n",
    "    A.Rotate(limit=(-45,45), p=0.7),\n",
    "    A.Normalize(mean=(0.485, 0.456, 0.406), std=(0.229, 0.224, 0.225)),\n",
    "    ToTensorV2()\n",
    "])"
   ]
  },
  {
   "cell_type": "code",
   "execution_count": 5,
   "id": "b5a4c7c7-3b0c-4e4f-8251-bacb3719ea4b",
   "metadata": {},
   "outputs": [],
   "source": [
    "import random\n",
    "import shutil\n",
    "from pathlib import Path\n",
    "from tqdm import tqdm\n",
    "\n",
    "def prepare_image_datasets(source_dir, base_dir, split_ratios=(0.7, 0.1, 0.2)):\n",
    "\n",
    "     if not (0.999 < sum(split_ratios) < 1.001):\n",
    "             raise ValueError('split_ratios must sum to 1')\n",
    "\n",
    "     source_path = Path(source_dir)\n",
    "     base_path = Path(base_dir)\n",
    "\n",
    "     if not source_path.is_dir():\n",
    "         print(f'Source directory {source_path.name} does not exist')\n",
    "         return\n",
    "\n",
    "     train_path = base_path / 'train'\n",
    "     test_path = base_path / 'test'\n",
    "     val_path = base_path / 'val'\n",
    "\n",
    "     class_names = [d.name for d in source_path.iterdir() if d.is_dir()]\n",
    "\n",
    "     if not class_names:\n",
    "         print(f'Source directory {source_path.name} does not contain any class names')\n",
    "         return\n",
    "\n",
    "     for directory in [train_path, test_path, val_path]:\n",
    "         for class_name in class_names:\n",
    "             (directory / class_name).mkdir(parents=True, exist_ok=True)\n",
    "\n",
    "     for class_name in class_names:\n",
    "\n",
    "         class_source_path = source_path / class_name\n",
    "\n",
    "         files = [f for f in class_source_path.iterdir() if f.is_file()]\n",
    "\n",
    "         random.shuffle(files)\n",
    "\n",
    "         total_files = len(files)\n",
    "         train_end = int(total_files * split_ratios[0])\n",
    "         test_end = train_end + int(total_files * split_ratios[1])\n",
    "\n",
    "         split_data = {\n",
    "             'train': (files[:train_end], train_path),\n",
    "             'test': (files[train_end:test_end], test_path),\n",
    "             'val': (files[test_end:], val_path)\n",
    "         }\n",
    "\n",
    "         print(f\"Copying {class_name} to {base_path}\")\n",
    "\n",
    "         for split_name, (file_list, destination_path) in split_data.items():\n",
    "\n",
    "             dest_class_path = destination_path / class_name\n",
    "\n",
    "             for file_path in tqdm(file_list, desc=f'Copying {split_name} files'):\n",
    "\n",
    "                 shutil.copy2(file_path, dest_class_path / file_path.name)\n",
    "\n",
    "         print(f'Copying {class_name} finished!')\n",
    "\n",
    "     print(\"Data splitting successful!\")"
   ]
  },
  {
   "cell_type": "code",
   "execution_count": 6,
   "id": "6daf511998047715",
   "metadata": {
    "ExecuteTime": {
     "end_time": "2025-08-22T11:37:34.399829Z",
     "start_time": "2025-08-22T11:37:33.356129Z"
    }
   },
   "outputs": [],
   "source": [
    "import cv2\n",
    "from torchvision import datasets\n",
    "\n",
    "class CustomDataset(datasets.ImageFolder):\n",
    "\n",
    "    def __getitem__(self, index):\n",
    "\n",
    "        path, target = self.samples[index]\n",
    "\n",
    "        image = cv2.imread(path)\n",
    "        image = cv2.cvtColor(image, cv2.COLOR_BGR2RGB)\n",
    "\n",
    "        if self.transform:\n",
    "            augmented = self.transform(image=image)\n",
    "            image = augmented['image']\n",
    "\n",
    "        return image, target\n",
    "\n",
    "    def __len__(self):\n",
    "        return len(self.samples)"
   ]
  },
  {
   "cell_type": "code",
   "execution_count": 8,
   "id": "40053fea-6363-4dbc-935a-2946ffc1c922",
   "metadata": {},
   "outputs": [
    {
     "name": "stdout",
     "output_type": "stream",
     "text": [
      "Copying sheath_blight to /Users/jameskierdoliguez/Desktop/rice_leaf/aug_dataset\n"
     ]
    },
    {
     "name": "stderr",
     "output_type": "stream",
     "text": [
      "Copying train files: 100%|████████████████| 1104/1104 [00:00<00:00, 3921.25it/s]\n",
      "Copying test files: 100%|███████████████████| 157/157 [00:00<00:00, 3491.68it/s]\n",
      "Copying val files: 100%|████████████████████| 317/317 [00:00<00:00, 2773.98it/s]\n"
     ]
    },
    {
     "name": "stdout",
     "output_type": "stream",
     "text": [
      "Copying sheath_blight finished!\n",
      "Copying Brownspot to /Users/jameskierdoliguez/Desktop/rice_leaf/aug_dataset\n"
     ]
    },
    {
     "name": "stderr",
     "output_type": "stream",
     "text": [
      "Copying train files: 100%|████████████████| 1050/1050 [00:00<00:00, 6361.32it/s]\n",
      "Copying test files: 100%|███████████████████| 150/150 [00:00<00:00, 5542.16it/s]\n",
      "Copying val files: 100%|████████████████████| 301/301 [00:00<00:00, 5351.01it/s]\n"
     ]
    },
    {
     "name": "stdout",
     "output_type": "stream",
     "text": [
      "Copying Brownspot finished!\n",
      "Copying Blast to /Users/jameskierdoliguez/Desktop/rice_leaf/aug_dataset\n"
     ]
    },
    {
     "name": "stderr",
     "output_type": "stream",
     "text": [
      "Copying train files: 100%|████████████████| 1007/1007 [00:00<00:00, 4753.05it/s]\n",
      "Copying test files: 100%|███████████████████| 144/144 [00:00<00:00, 4806.92it/s]\n",
      "Copying val files: 100%|████████████████████| 289/289 [00:00<00:00, 4028.04it/s]\n"
     ]
    },
    {
     "name": "stdout",
     "output_type": "stream",
     "text": [
      "Copying Blast finished!\n",
      "Copying Bacterialblight to /Users/jameskierdoliguez/Desktop/rice_leaf/aug_dataset\n"
     ]
    },
    {
     "name": "stderr",
     "output_type": "stream",
     "text": [
      "Copying train files: 100%|████████████████| 1108/1108 [00:00<00:00, 5472.85it/s]\n",
      "Copying test files: 100%|███████████████████| 158/158 [00:00<00:00, 4183.21it/s]\n",
      "Copying val files: 100%|████████████████████| 318/318 [00:00<00:00, 3719.12it/s]\n"
     ]
    },
    {
     "name": "stdout",
     "output_type": "stream",
     "text": [
      "Copying Bacterialblight finished!\n",
      "Copying Tungro to /Users/jameskierdoliguez/Desktop/rice_leaf/aug_dataset\n"
     ]
    },
    {
     "name": "stderr",
     "output_type": "stream",
     "text": [
      "Copying train files: 100%|██████████████████| 915/915 [00:00<00:00, 5675.34it/s]\n",
      "Copying test files: 100%|███████████████████| 130/130 [00:00<00:00, 4406.96it/s]\n",
      "Copying val files: 100%|████████████████████| 263/263 [00:00<00:00, 4376.76it/s]"
     ]
    },
    {
     "name": "stdout",
     "output_type": "stream",
     "text": [
      "Copying Tungro finished!\n",
      "Data splitting successful!\n"
     ]
    },
    {
     "name": "stderr",
     "output_type": "stream",
     "text": [
      "\n"
     ]
    }
   ],
   "source": [
    "source_data_dir = '/Users/jameskierdoliguez/Desktop/rice_leaf/dataset'\n",
    "base_data_dir = '/Users/jameskierdoliguez/Desktop/rice_leaf/aug_dataset'\n",
    "\n",
    "if not source_data_dir or not base_data_dir:\n",
    "    raise ValueError('Source and base data directory not found')\n",
    "\n",
    "prepare_image_datasets(source_data_dir, base_data_dir, split_ratios=(0.7, 0.1, 0.2))"
   ]
  },
  {
   "cell_type": "code",
   "execution_count": 7,
   "id": "8172f748d43e758a",
   "metadata": {
    "ExecuteTime": {
     "end_time": "2025-08-22T11:37:36.104378Z",
     "start_time": "2025-08-22T11:37:36.095528Z"
    }
   },
   "outputs": [],
   "source": [
    "import torchvision.models as models\n",
    "import torch.nn as nn\n",
    "import torch.nn.functional as F\n",
    "\n",
    "class LeafDiseaseClassifierMobileNetV2(nn.Module):\n",
    "\n",
    "    def __init__(self, num_classes):\n",
    "        super(LeafDiseaseClassifierMobileNetV2, self).__init__()\n",
    "\n",
    "        # get model\n",
    "        self.base_model = models.mobilenet_v2(weights='MobileNet_V2_Weights.IMAGENET1K_V2')\n",
    "\n",
    "        # Froze feature extraction layer to retain weights.\n",
    "        for params in self.base_model.parameters():\n",
    "            params.requires_grad = False\n",
    "\n",
    "        # get number of features\n",
    "        num_filters = self.base_model.classifier[1].in_features\n",
    "\n",
    "        # Hyperparameter tuning: new layer for 6 rice pests.\n",
    "        self.base_model.classifier = nn.Sequential(\n",
    "            nn.Dropout(p=0.4, inplace=True),\n",
    "            nn.Linear(num_filters, num_classes),\n",
    "        )\n",
    "\n",
    "    # Forward propagation\n",
    "    def forward(self, x):\n",
    "\n",
    "       features = self.base_model.features(x)\n",
    "\n",
    "       features = F.adaptive_avg_pool2d(features, output_size=(1, 1)).reshape(features.shape[0], -1)\n",
    "\n",
    "       features = self.base_model.classifier(features)\n",
    "\n",
    "       return features\n",
    "\n",
    "    def unfreeze_layer(self, layer):\n",
    "\n",
    "        if not (1 <= layer <= len(self.base_model.features)):\n",
    "            print(f\"Error: Invalid layer index {layer}.\")\n",
    "            return\n",
    "\n",
    "        # Corrected print statement\n",
    "        print(f\"\\nUnfreezing feature layer at index: -{layer}\")\n",
    "\n",
    "        for param in self.base_model.features[-layer].parameters():\n",
    "            param.requires_grad = True\n"
   ]
  },
  {
   "cell_type": "code",
   "execution_count": 8,
   "id": "2d2d688f4e97b8e2",
   "metadata": {
    "ExecuteTime": {
     "end_time": "2025-08-22T11:37:37.921596Z",
     "start_time": "2025-08-22T11:37:37.916151Z"
    }
   },
   "outputs": [],
   "source": [
    "class LeafDiseaseClassifierEfficientNetV2M(nn.Module):\n",
    "\n",
    "    def __init__(self, num_classes):\n",
    "        super(LeafDiseaseClassifierEfficientNetV2M, self).__init__()\n",
    "\n",
    "        self.base_model = models.efficientnet_v2_m(weights='EfficientNet_V2_M_Weights.IMAGENET1K_V1')\n",
    "\n",
    "        for params in self.base_model.parameters():\n",
    "            params.requires_grad = False\n",
    "\n",
    "        features = self.base_model.classifier[1].in_features\n",
    "\n",
    "        self.base_model.classifier = nn.Sequential(\n",
    "            nn.Dropout(p=0.5, inplace=True),\n",
    "            nn.Linear(features, num_classes),\n",
    "        )\n",
    "\n",
    "    def forward(self, x):\n",
    "\n",
    "        features = self.base_model.features(x)\n",
    "\n",
    "        features = F.adaptive_avg_pool2d(features, output_size=(1, 1)).reshape(features.shape[0], -1)\n",
    "\n",
    "        features = self.base_model.classifier(features)\n",
    "\n",
    "        return features\n",
    "\n",
    "    def unfreeze_layer(self, layer):\n",
    "\n",
    "        if not (1 <= layer <= len(self.base_model.features)):\n",
    "            print(f\"Error: Invalid layer index {layer}.\")\n",
    "            return\n",
    "\n",
    "        print(f\"\\nUnfreezing feature layer at index: -{layer}\")\n",
    "\n",
    "        for params in self.base_model.features[-layer].parameters():\n",
    "            params.requires_grad = True\n"
   ]
  },
  {
   "cell_type": "code",
   "execution_count": 9,
   "id": "fca4e6f7abec2fbd",
   "metadata": {
    "ExecuteTime": {
     "end_time": "2025-08-22T11:37:39.811978Z",
     "start_time": "2025-08-22T11:37:39.803606Z"
    }
   },
   "outputs": [],
   "source": [
    "import torch\n",
    "\n",
    "def train_and_validate(model, optimizer, criterion, train_dataloader, validation_dataloader, num_epoch, device, scheduler, model_dir, patience=3, min_delta=0.001):\n",
    "\n",
    "    train_losses = []\n",
    "    validation_losses = []\n",
    "    accuracies = []\n",
    "    patience_counter = 0\n",
    "    best_validation_loss=float('inf')\n",
    "    best_session_accuracy = float('inf')\n",
    "    stop_early=False\n",
    "    fully_stop = False\n",
    "\n",
    "    for epoch in range(num_epoch):\n",
    "        model.train()\n",
    "        running_train_loss = 0.0\n",
    "        train_pbar = tqdm(train_dataloader, desc=f\"Train epoch: {epoch+1}\")\n",
    "        for data, labels in train_pbar:\n",
    "            data, labels = data.to(device), labels.to(device)\n",
    "            optimizer.zero_grad()\n",
    "            output = model(data)\n",
    "            loss = criterion(output, labels)\n",
    "            loss.backward()\n",
    "            optimizer.step()\n",
    "            running_train_loss += loss.item()\n",
    "        training_loss = running_train_loss / len(train_dataloader)\n",
    "        train_losses.append(training_loss)\n",
    "\n",
    "        model.eval()\n",
    "        running_eval_loss = 0.0\n",
    "        correct_predictions = 0\n",
    "        total_samples = 0\n",
    "\n",
    "        with torch.no_grad():\n",
    "            for inputs, labels in tqdm(validation_dataloader, desc=f\"Validate Epoch {epoch+1}\"):\n",
    "                inputs, labels = inputs.to(device), labels.to(device)\n",
    "\n",
    "                logits = model(inputs)\n",
    "                loss = criterion(logits, labels)\n",
    "                running_eval_loss += loss.item()\n",
    "                _, predicted = torch.max(logits.data, 1)\n",
    "                total_samples += labels.size(0)\n",
    "                correct_predictions += (predicted == labels).sum().item()\n",
    "\n",
    "        validation_loss = running_eval_loss / len(validation_dataloader)\n",
    "        validation_losses.append(validation_loss)\n",
    "        accuracy = 100 * correct_predictions / total_samples\n",
    "        accuracies.append(accuracy)\n",
    "\n",
    "        scheduler.step(validation_loss)\n",
    "\n",
    "        current_lr = optimizer.param_groups[0]['lr']\n",
    "        epoch_summary = f'Epoch {epoch+1}/{num_epoch} |lr: {current_lr}| Train Loss: {training_loss:.4f} | Evaluate Loss: {validation_loss:.4f} | Accuracy: {accuracy:.2f}%'\n",
    "\n",
    "        if device.type == 'cuda':\n",
    "            allocated_gb = torch.cuda.memory_allocated() / (1024 ** 3)\n",
    "            reserved_gb = torch.cuda.memory_reserved() / (1024 ** 3)\n",
    "            epoch_summary += f' | GPU Memory (Alloc/Reserved): {allocated_gb:.2f}/{reserved_gb:.2f} GB'\n",
    "        \n",
    "        elif device.type == 'mps':\n",
    "            try:\n",
    "                allocated_gb = torch.mps.current_allocated_memory() / (1024 ** 3)\n",
    "                reserved_gb = torch.mps.driver_allocated_memory() / (1024 ** 3)\n",
    "                epoch_summary += f' | MPS Memory (Alloc/Driver): {allocated_gb:.2f}/{reserved_gb:.2f} GB'\n",
    "            except AttributeError:\n",
    "                epoch_summary += \" | MPS Memory: not available in this PyTorch version\"\n",
    "\n",
    "        tqdm.write(epoch_summary)\n",
    "\n",
    "        if validation_loss < best_validation_loss - min_delta:\n",
    "\n",
    "            patience_counter = 0\n",
    "            best_validation_loss = validation_loss\n",
    "            torch.save(model.state_dict(), model_dir)\n",
    "        else:\n",
    "            patience_counter += 1\n",
    "            tqdm.write(f'No improvement for {patience_counter}/{patience} epochs')\n",
    "\n",
    "        if  validation_loss >= training_loss:\n",
    "            tqdm.write(f'Training stopped! Validation loss: {validation_loss:.4f} | Training loss: {training_loss:.4f}')\n",
    "            fully_stop = True\n",
    "            break\n",
    "\n",
    "        if patience_counter >= patience:\n",
    "            tqdm.write(f'Early stopping triggered after {patience_counter} epochs')\n",
    "            stop_early = True\n",
    "            break\n",
    "\n",
    "    tqdm.write('Session complete')\n",
    "\n",
    "    return {'train_loss': train_losses, 'validation_loss': validation_losses, 'accuracy': accuracies}, best_session_accuracy, stop_early, fully_stop"
   ]
  },
  {
   "cell_type": "markdown",
   "id": "9b5134a74e091e48",
   "metadata": {},
   "source": [
    "<h2>  Saving and plott</h2>"
   ]
  },
  {
   "cell_type": "code",
   "execution_count": 10,
   "id": "74773810c269080d",
   "metadata": {
    "ExecuteTime": {
     "end_time": "2025-08-22T13:28:36.576184Z",
     "start_time": "2025-08-22T13:28:36.497110Z"
    }
   },
   "outputs": [],
   "source": [
    "import seaborn as sns\n",
    "import matplotlib.pyplot as plt\n",
    "import pandas as pd\n",
    "import os\n",
    "\n",
    "def plot_training_result(*results):\n",
    "\n",
    "    full_training_loss = []\n",
    "    full_validation_loss = []\n",
    "\n",
    "    for result in results:\n",
    "        train_loss = result.get('train_loss', [])\n",
    "        full_training_loss.extend(train_loss)\n",
    "        full_validation_loss.extend(result.get('validation_loss', []))\n",
    "\n",
    "    total_epochs = len(full_training_loss)\n",
    "\n",
    "    if total_epochs == 0:\n",
    "        print(\"No data to plot.\")\n",
    "        return\n",
    "\n",
    "    epochs = range(1, total_epochs + 1)\n",
    "\n",
    "    data = {\n",
    "        'Epoch': epochs,\n",
    "        'Training Loss': full_training_loss,\n",
    "        'Validation Loss': full_validation_loss,\n",
    "    }\n",
    "\n",
    "    df = pd.DataFrame(data)\n",
    "\n",
    "    df_long = df.melt(id_vars=['Epoch'], var_name='Loss Type', value_name='Loss')\n",
    "\n",
    "    plt.figure(figsize=(10, 6))\n",
    "    sns.lineplot(data=df_long, x='Epoch', y='Loss', hue='Loss Type', marker='o')\n",
    "\n",
    "    plt.title('Training and Validation Loss Comparison')\n",
    "    plt.xlabel('Epoch')\n",
    "    plt.ylabel('Loss')\n",
    "    plt.legend()\n",
    "    plt.grid(True)\n",
    "    plt.show()\n",
    "\n",
    "def plot_historical_results(file_name):\n",
    "\n",
    "    data = pd.read_csv(file_name)\n",
    "\n",
    "    df = pd.DataFrame(data)\n",
    "\n",
    "    fig, axes = plt.subplots(2, 1, figsize=(10, 12))\n",
    "\n",
    "    fig.suptitle('Training and Validation Loss Comparison', fontsize=16)\n",
    "\n",
    "    historical_losses = df.melt(id_vars=['epoch'],value_vars=['train_loss', 'validation_loss'], var_name='Loss Type', value_name='Loss')\n",
    "\n",
    "    sns.lineplot(data=historical_losses, hue='Loss Type', markers='o' ,x='epoch' , y='Loss', ax=axes[0])\n",
    "\n",
    "    axes[0].set_title('Training and Validation Loss Comparison')\n",
    "    axes[0].set_xlabel('Epoch')\n",
    "    axes[0].set_ylabel('Loss')\n",
    "    axes[0].grid(True)\n",
    "    axes[0].legend()\n",
    "\n",
    "    sns.lineplot(data=df, x='epoch', y='accuracy', color='g', markers='o', ax=axes[1])\n",
    "    axes[1].set_title('Accuracy')\n",
    "    axes[1].set_xlabel('Epoch')\n",
    "    axes[1].set_ylabel('Accuracy')\n",
    "    axes[1].grid(True)\n",
    "\n",
    "    plt.tight_layout(rect=(0, 0.03, 1, 0.95))\n",
    "\n",
    "    plt.show()\n",
    "\n",
    "def plot_accuracy(*results):\n",
    "\n",
    "    full_accuracy = []\n",
    "\n",
    "    for res in results:\n",
    "        accuracy = res.get('accuracy', [])\n",
    "        full_accuracy.extend(accuracy)\n",
    "\n",
    "    total_epochs = len(full_accuracy)\n",
    "\n",
    "    if total_epochs == 0:\n",
    "        print(\"No accuracy data to plot.\")\n",
    "        return\n",
    "\n",
    "    epochs = range(1, total_epochs + 1)\n",
    "\n",
    "    plt.figure(figsize=(10, 6))\n",
    "\n",
    "    plt.plot(epochs, full_accuracy, label='Accuracy', marker='o', color='g')\n",
    "\n",
    "    plt.title('Accuracy Evaluation')\n",
    "    plt.xlabel('Epoch')\n",
    "    plt.ylabel('Accuracy (%)')\n",
    "    plt.legend()\n",
    "    plt.grid(True)\n",
    "    plt.show()\n",
    "\n",
    "def save_historical_data(history, filename):\n",
    "\n",
    "    training_loss = history.get('train_loss', [])\n",
    "    test_loss = history.get('validation_loss', [])\n",
    "    accuracy = history.get('accuracy', [])\n",
    "\n",
    "    data_dict = pd.DataFrame({\n",
    "        'train_loss': training_loss,\n",
    "        'validation_loss': test_loss,\n",
    "        'accuracy': accuracy,\n",
    "    })\n",
    "\n",
    "    if os.path.exists(filename):\n",
    "        print(\"historical data exists! Appending new data.\")\n",
    "        old_data = pd.read_csv(filename)\n",
    "        combined_data = pd.concat([old_data, data_dict], ignore_index=True)\n",
    "\n",
    "    else:\n",
    "        print(\"Creating new historical data...\")\n",
    "        combined_data = data_dict\n",
    "\n",
    "    combined_data['epoch'] = range(1, len(combined_data) + 1)\n",
    "\n",
    "    combined_data = combined_data[['epoch', 'train_loss', 'validation_loss', 'accuracy']]\n",
    "\n",
    "    combined_data.to_csv(filename, index=False)\n",
    "\n",
    "    print(\"Historical data saved successfully!\")\n",
    "\n"
   ]
  },
  {
   "cell_type": "code",
   "execution_count": 11,
   "id": "4fd20dd312f838ff",
   "metadata": {
    "ExecuteTime": {
     "end_time": "2025-08-22T11:37:44.450757Z",
     "start_time": "2025-08-22T11:37:44.116198Z"
    }
   },
   "outputs": [],
   "source": [
    "from torch.utils.data import DataLoader\n",
    "\n",
    "train_set = CustomDataset(root='/Users/jameskierdoliguez/Desktop/rice_leaf/aug_dataset/train', transform=training_pipeline)\n",
    "train_loader = DataLoader(train_set, batch_size=128, shuffle=True)\n",
    "validation_set = CustomDataset(root='/Users/jameskierdoliguez/Desktop/rice_leaf/aug_dataset/val', transform=validation_pipeline)\n",
    "validation_loader = DataLoader(validation_set, batch_size=64, shuffle=True)\n",
    "test_set = CustomDataset(root='/Users/jameskierdoliguez/Desktop/rice_leaf/aug_dataset/test', transform=validation_pipeline)\n",
    "test_loader = DataLoader(test_set, batch_size=32, shuffle=True)\n",
    "\n",
    "classes = train_set.classes"
   ]
  },
  {
   "cell_type": "code",
   "execution_count": 12,
   "id": "1467cef09840c64b",
   "metadata": {
    "ExecuteTime": {
     "end_time": "2025-08-22T11:37:46.834431Z",
     "start_time": "2025-08-22T11:37:46.827431Z"
    }
   },
   "outputs": [],
   "source": [
    "from torch.optim import lr_scheduler\n",
    "\n",
    "def incremental_training(model, sessions, criterion, train_dataloader, validation_dataloader, device, model_dir, filename):\n",
    "\n",
    "    # --- New code to display image counts ---\n",
    "    num_train_images = len(train_dataloader.dataset) \n",
    "    num_val_images = len(validation_dataloader.dataset) \n",
    "    print(f\"--- Starting Incremental Training ---\") \n",
    "    print(f\"Training images: {num_train_images}\")\n",
    "    print(f\"Validation images: {num_val_images}\") # <-- new\n",
    "    \n",
    "    full_history = []\n",
    "    accuracies = []  # <-- new: collect accuracies\n",
    "    best_overall_accuracy = 0.0\n",
    "\n",
    "    for i, session in enumerate(sessions):\n",
    "        print(f\"\\n--- Starting Training Session {i+1}/{len(sessions)} ---\")\n",
    "\n",
    "        epochs = session['epochs']\n",
    "        lr = session['lr']\n",
    "        layer_to_unfreeze = session.get('unfreeze_layer', 0)\n",
    "\n",
    "        if layer_to_unfreeze > 0:\n",
    "            model.unfreeze_layer(layer_to_unfreeze)\n",
    "\n",
    "        optimizer = optim.AdamW(\n",
    "            filter(lambda p: p.requires_grad, model.parameters()), \n",
    "            lr=lr, weight_decay=1e-2\n",
    "        )\n",
    "        scheduler = lr_scheduler.ReduceLROnPlateau(\n",
    "            optimizer=optimizer, factor=0.5, mode='min', patience=2, min_lr=1e-7\n",
    "        )\n",
    "\n",
    "        session_history, session_best_accuracy, stop_early, full_stop = train_and_validate(\n",
    "            model, optimizer, criterion, train_dataloader, validation_dataloader,\n",
    "            epochs, device, scheduler, model_dir\n",
    "        )\n",
    "\n",
    "        full_history.append(session_history)\n",
    "        accuracies.append(session_best_accuracy)  # <-- track best accuracy per session\n",
    "        save_historical_data(session_history, filename)\n",
    "\n",
    "        if session_best_accuracy > best_overall_accuracy:\n",
    "            best_overall_accuracy = session_best_accuracy\n",
    "\n",
    "        if full_stop:\n",
    "            print(\"Full stop triggered! Possible overfitting in further sessions.\")\n",
    "            break\n",
    "\n",
    "        if stop_early:\n",
    "            print(\"Early stopping triggered. Moving to next session or finishing training.\")\n",
    "\n",
    "    print(f\"\\n--- Incremental training finished. Best overall accuracy: {best_overall_accuracy:.2f}% ---\")\n",
    "    return full_history, accuracies  # <-- return both\n"
   ]
  },
  {
   "cell_type": "code",
   "execution_count": 13,
   "id": "fd1ee3a6a8b445e1",
   "metadata": {
    "ExecuteTime": {
     "end_time": "2025-08-22T13:25:58.302435Z",
     "start_time": "2025-08-22T11:39:08.283028Z"
    }
   },
   "outputs": [
    {
     "name": "stdout",
     "output_type": "stream",
     "text": [
      "--- Starting Incremental Training ---\n",
      "Training images: 5184\n",
      "Validation images: 1488\n",
      "\n",
      "--- Starting Training Session 1/4 ---\n"
     ]
    },
    {
     "name": "stderr",
     "output_type": "stream",
     "text": [
      "Train epoch: 1: 100%|███████████████████████████| 41/41 [00:20<00:00,  1.95it/s]\n",
      "Validate Epoch 1: 100%|█████████████████████████| 24/24 [00:04<00:00,  4.90it/s]\n"
     ]
    },
    {
     "name": "stdout",
     "output_type": "stream",
     "text": [
      "Epoch 1/20 |lr: 0.0005| Train Loss: 1.3274 | Evaluate Loss: 0.9785 | Accuracy: 75.54% | MPS Memory (Alloc/Driver): 0.30/3.95 GB\n"
     ]
    },
    {
     "name": "stderr",
     "output_type": "stream",
     "text": [
      "Train epoch: 2: 100%|███████████████████████████| 41/41 [00:20<00:00,  1.96it/s]\n",
      "Validate Epoch 2: 100%|█████████████████████████| 24/24 [00:04<00:00,  4.92it/s]\n"
     ]
    },
    {
     "name": "stdout",
     "output_type": "stream",
     "text": [
      "Epoch 2/20 |lr: 0.0005| Train Loss: 0.9574 | Evaluate Loss: 0.7202 | Accuracy: 81.18% | MPS Memory (Alloc/Driver): 0.30/4.52 GB\n"
     ]
    },
    {
     "name": "stderr",
     "output_type": "stream",
     "text": [
      "Train epoch: 3: 100%|███████████████████████████| 41/41 [00:21<00:00,  1.94it/s]\n",
      "Validate Epoch 3: 100%|█████████████████████████| 24/24 [00:04<00:00,  5.21it/s]\n"
     ]
    },
    {
     "name": "stdout",
     "output_type": "stream",
     "text": [
      "Epoch 3/20 |lr: 0.0005| Train Loss: 0.7970 | Evaluate Loss: 0.5938 | Accuracy: 84.07% | MPS Memory (Alloc/Driver): 0.30/5.10 GB\n"
     ]
    },
    {
     "name": "stderr",
     "output_type": "stream",
     "text": [
      "Train epoch: 4: 100%|███████████████████████████| 41/41 [00:19<00:00,  2.07it/s]\n",
      "Validate Epoch 4: 100%|█████████████████████████| 24/24 [00:04<00:00,  5.29it/s]\n"
     ]
    },
    {
     "name": "stdout",
     "output_type": "stream",
     "text": [
      "Epoch 4/20 |lr: 0.0005| Train Loss: 0.7141 | Evaluate Loss: 0.5147 | Accuracy: 86.22% | MPS Memory (Alloc/Driver): 0.30/5.10 GB\n"
     ]
    },
    {
     "name": "stderr",
     "output_type": "stream",
     "text": [
      "Train epoch: 5: 100%|███████████████████████████| 41/41 [00:19<00:00,  2.07it/s]\n",
      "Validate Epoch 5: 100%|█████████████████████████| 24/24 [00:04<00:00,  5.33it/s]\n"
     ]
    },
    {
     "name": "stdout",
     "output_type": "stream",
     "text": [
      "Epoch 5/20 |lr: 0.0005| Train Loss: 0.6390 | Evaluate Loss: 0.4822 | Accuracy: 85.69% | MPS Memory (Alloc/Driver): 0.30/5.10 GB\n"
     ]
    },
    {
     "name": "stderr",
     "output_type": "stream",
     "text": [
      "Train epoch: 6: 100%|███████████████████████████| 41/41 [00:19<00:00,  2.06it/s]\n",
      "Validate Epoch 6: 100%|█████████████████████████| 24/24 [00:04<00:00,  5.31it/s]\n"
     ]
    },
    {
     "name": "stdout",
     "output_type": "stream",
     "text": [
      "Epoch 6/20 |lr: 0.0005| Train Loss: 0.6070 | Evaluate Loss: 0.4324 | Accuracy: 87.50% | MPS Memory (Alloc/Driver): 0.30/5.10 GB\n"
     ]
    },
    {
     "name": "stderr",
     "output_type": "stream",
     "text": [
      "Train epoch: 7: 100%|███████████████████████████| 41/41 [00:19<00:00,  2.06it/s]\n",
      "Validate Epoch 7: 100%|█████████████████████████| 24/24 [00:04<00:00,  5.31it/s]\n"
     ]
    },
    {
     "name": "stdout",
     "output_type": "stream",
     "text": [
      "Epoch 7/20 |lr: 0.0005| Train Loss: 0.5823 | Evaluate Loss: 0.3990 | Accuracy: 87.77% | MPS Memory (Alloc/Driver): 0.30/5.10 GB\n"
     ]
    },
    {
     "name": "stderr",
     "output_type": "stream",
     "text": [
      "Train epoch: 8: 100%|███████████████████████████| 41/41 [00:19<00:00,  2.05it/s]\n",
      "Validate Epoch 8: 100%|█████████████████████████| 24/24 [00:04<00:00,  5.28it/s]\n"
     ]
    },
    {
     "name": "stdout",
     "output_type": "stream",
     "text": [
      "Epoch 8/20 |lr: 0.0005| Train Loss: 0.5545 | Evaluate Loss: 0.3843 | Accuracy: 88.24% | MPS Memory (Alloc/Driver): 0.30/5.10 GB\n"
     ]
    },
    {
     "name": "stderr",
     "output_type": "stream",
     "text": [
      "Train epoch: 9: 100%|███████████████████████████| 41/41 [00:19<00:00,  2.05it/s]\n",
      "Validate Epoch 9: 100%|█████████████████████████| 24/24 [00:04<00:00,  5.28it/s]\n"
     ]
    },
    {
     "name": "stdout",
     "output_type": "stream",
     "text": [
      "Epoch 9/20 |lr: 0.0005| Train Loss: 0.5277 | Evaluate Loss: 0.3533 | Accuracy: 89.11% | MPS Memory (Alloc/Driver): 0.30/5.10 GB\n"
     ]
    },
    {
     "name": "stderr",
     "output_type": "stream",
     "text": [
      "Train epoch: 10: 100%|██████████████████████████| 41/41 [00:19<00:00,  2.06it/s]\n",
      "Validate Epoch 10: 100%|████████████████████████| 24/24 [00:04<00:00,  5.30it/s]\n"
     ]
    },
    {
     "name": "stdout",
     "output_type": "stream",
     "text": [
      "Epoch 10/20 |lr: 0.0005| Train Loss: 0.5124 | Evaluate Loss: 0.3399 | Accuracy: 89.65% | MPS Memory (Alloc/Driver): 0.30/5.10 GB\n"
     ]
    },
    {
     "name": "stderr",
     "output_type": "stream",
     "text": [
      "Train epoch: 11: 100%|██████████████████████████| 41/41 [00:19<00:00,  2.06it/s]\n",
      "Validate Epoch 11: 100%|████████████████████████| 24/24 [00:04<00:00,  5.30it/s]\n"
     ]
    },
    {
     "name": "stdout",
     "output_type": "stream",
     "text": [
      "Epoch 11/20 |lr: 0.0005| Train Loss: 0.4981 | Evaluate Loss: 0.3137 | Accuracy: 90.79% | MPS Memory (Alloc/Driver): 0.30/5.10 GB\n"
     ]
    },
    {
     "name": "stderr",
     "output_type": "stream",
     "text": [
      "Train epoch: 12: 100%|██████████████████████████| 41/41 [00:19<00:00,  2.06it/s]\n",
      "Validate Epoch 12: 100%|████████████████████████| 24/24 [00:04<00:00,  5.32it/s]\n"
     ]
    },
    {
     "name": "stdout",
     "output_type": "stream",
     "text": [
      "Epoch 12/20 |lr: 0.0005| Train Loss: 0.4765 | Evaluate Loss: 0.3179 | Accuracy: 89.38% | MPS Memory (Alloc/Driver): 0.30/5.10 GB\n",
      "No improvement for 1/3 epochs\n"
     ]
    },
    {
     "name": "stderr",
     "output_type": "stream",
     "text": [
      "Train epoch: 13: 100%|██████████████████████████| 41/41 [00:19<00:00,  2.05it/s]\n",
      "Validate Epoch 13: 100%|████████████████████████| 24/24 [00:04<00:00,  5.27it/s]\n"
     ]
    },
    {
     "name": "stdout",
     "output_type": "stream",
     "text": [
      "Epoch 13/20 |lr: 0.0005| Train Loss: 0.4774 | Evaluate Loss: 0.3122 | Accuracy: 89.52% | MPS Memory (Alloc/Driver): 0.30/5.10 GB\n"
     ]
    },
    {
     "name": "stderr",
     "output_type": "stream",
     "text": [
      "Train epoch: 14: 100%|██████████████████████████| 41/41 [00:20<00:00,  2.04it/s]\n",
      "Validate Epoch 14: 100%|████████████████████████| 24/24 [00:04<00:00,  5.28it/s]\n"
     ]
    },
    {
     "name": "stdout",
     "output_type": "stream",
     "text": [
      "Epoch 14/20 |lr: 0.0005| Train Loss: 0.4683 | Evaluate Loss: 0.3012 | Accuracy: 90.26% | MPS Memory (Alloc/Driver): 0.30/5.10 GB\n"
     ]
    },
    {
     "name": "stderr",
     "output_type": "stream",
     "text": [
      "Train epoch: 15: 100%|██████████████████████████| 41/41 [00:20<00:00,  2.05it/s]\n",
      "Validate Epoch 15: 100%|████████████████████████| 24/24 [00:04<00:00,  5.31it/s]\n"
     ]
    },
    {
     "name": "stdout",
     "output_type": "stream",
     "text": [
      "Epoch 15/20 |lr: 0.0005| Train Loss: 0.4550 | Evaluate Loss: 0.2866 | Accuracy: 90.73% | MPS Memory (Alloc/Driver): 0.30/5.10 GB\n"
     ]
    },
    {
     "name": "stderr",
     "output_type": "stream",
     "text": [
      "Train epoch: 16: 100%|██████████████████████████| 41/41 [00:19<00:00,  2.05it/s]\n",
      "Validate Epoch 16: 100%|████████████████████████| 24/24 [00:04<00:00,  5.27it/s]\n"
     ]
    },
    {
     "name": "stdout",
     "output_type": "stream",
     "text": [
      "Epoch 16/20 |lr: 0.0005| Train Loss: 0.4373 | Evaluate Loss: 0.2705 | Accuracy: 90.93% | MPS Memory (Alloc/Driver): 0.30/5.10 GB\n"
     ]
    },
    {
     "name": "stderr",
     "output_type": "stream",
     "text": [
      "Train epoch: 17: 100%|██████████████████████████| 41/41 [00:20<00:00,  2.04it/s]\n",
      "Validate Epoch 17: 100%|████████████████████████| 24/24 [00:04<00:00,  5.30it/s]\n"
     ]
    },
    {
     "name": "stdout",
     "output_type": "stream",
     "text": [
      "Epoch 17/20 |lr: 0.0005| Train Loss: 0.4507 | Evaluate Loss: 0.2685 | Accuracy: 90.12% | MPS Memory (Alloc/Driver): 0.30/5.10 GB\n"
     ]
    },
    {
     "name": "stderr",
     "output_type": "stream",
     "text": [
      "Train epoch: 18: 100%|██████████████████████████| 41/41 [00:19<00:00,  2.05it/s]\n",
      "Validate Epoch 18: 100%|████████████████████████| 24/24 [00:04<00:00,  5.27it/s]\n"
     ]
    },
    {
     "name": "stdout",
     "output_type": "stream",
     "text": [
      "Epoch 18/20 |lr: 0.0005| Train Loss: 0.4418 | Evaluate Loss: 0.2632 | Accuracy: 91.20% | MPS Memory (Alloc/Driver): 0.30/5.10 GB\n"
     ]
    },
    {
     "name": "stderr",
     "output_type": "stream",
     "text": [
      "Train epoch: 19: 100%|██████████████████████████| 41/41 [00:19<00:00,  2.06it/s]\n",
      "Validate Epoch 19: 100%|████████████████████████| 24/24 [00:04<00:00,  5.27it/s]\n"
     ]
    },
    {
     "name": "stdout",
     "output_type": "stream",
     "text": [
      "Epoch 19/20 |lr: 0.0005| Train Loss: 0.4227 | Evaluate Loss: 0.2600 | Accuracy: 91.26% | MPS Memory (Alloc/Driver): 0.30/5.10 GB\n"
     ]
    },
    {
     "name": "stderr",
     "output_type": "stream",
     "text": [
      "Train epoch: 20: 100%|██████████████████████████| 41/41 [00:20<00:00,  2.05it/s]\n",
      "Validate Epoch 20: 100%|████████████████████████| 24/24 [00:04<00:00,  5.24it/s]\n"
     ]
    },
    {
     "name": "stdout",
     "output_type": "stream",
     "text": [
      "Epoch 20/20 |lr: 0.0005| Train Loss: 0.4069 | Evaluate Loss: 0.2588 | Accuracy: 91.13% | MPS Memory (Alloc/Driver): 0.30/5.10 GB\n",
      "Session complete\n",
      "Creating new historical data...\n",
      "Historical data saved successfully!\n",
      "\n",
      "--- Starting Training Session 2/4 ---\n",
      "\n",
      "Unfreezing feature layer at index: -1\n"
     ]
    },
    {
     "name": "stderr",
     "output_type": "stream",
     "text": [
      "Train epoch: 1: 100%|███████████████████████████| 41/41 [00:20<00:00,  2.02it/s]\n",
      "Validate Epoch 1: 100%|█████████████████████████| 24/24 [00:04<00:00,  5.24it/s]\n"
     ]
    },
    {
     "name": "stdout",
     "output_type": "stream",
     "text": [
      "Epoch 1/30 |lr: 0.0001| Train Loss: 0.3934 | Evaluate Loss: 0.2347 | Accuracy: 91.87% | MPS Memory (Alloc/Driver): 0.35/5.10 GB\n"
     ]
    },
    {
     "name": "stderr",
     "output_type": "stream",
     "text": [
      "Train epoch: 2: 100%|███████████████████████████| 41/41 [00:20<00:00,  2.03it/s]\n",
      "Validate Epoch 2: 100%|█████████████████████████| 24/24 [00:04<00:00,  5.27it/s]\n"
     ]
    },
    {
     "name": "stdout",
     "output_type": "stream",
     "text": [
      "Epoch 2/30 |lr: 0.0001| Train Loss: 0.3823 | Evaluate Loss: 0.2040 | Accuracy: 93.08% | MPS Memory (Alloc/Driver): 0.33/5.10 GB\n"
     ]
    },
    {
     "name": "stderr",
     "output_type": "stream",
     "text": [
      "Train epoch: 3: 100%|███████████████████████████| 41/41 [00:20<00:00,  2.02it/s]\n",
      "Validate Epoch 3: 100%|█████████████████████████| 24/24 [00:04<00:00,  5.27it/s]\n"
     ]
    },
    {
     "name": "stdout",
     "output_type": "stream",
     "text": [
      "Epoch 3/30 |lr: 0.0001| Train Loss: 0.3518 | Evaluate Loss: 0.1941 | Accuracy: 93.35% | MPS Memory (Alloc/Driver): 0.33/5.10 GB\n"
     ]
    },
    {
     "name": "stderr",
     "output_type": "stream",
     "text": [
      "Train epoch: 4: 100%|███████████████████████████| 41/41 [00:20<00:00,  2.03it/s]\n",
      "Validate Epoch 4: 100%|█████████████████████████| 24/24 [00:04<00:00,  5.28it/s]\n"
     ]
    },
    {
     "name": "stdout",
     "output_type": "stream",
     "text": [
      "Epoch 4/30 |lr: 0.0001| Train Loss: 0.3472 | Evaluate Loss: 0.1790 | Accuracy: 94.09% | MPS Memory (Alloc/Driver): 0.33/5.10 GB\n"
     ]
    },
    {
     "name": "stderr",
     "output_type": "stream",
     "text": [
      "Train epoch: 5: 100%|███████████████████████████| 41/41 [00:20<00:00,  2.02it/s]\n",
      "Validate Epoch 5: 100%|█████████████████████████| 24/24 [00:04<00:00,  5.22it/s]\n"
     ]
    },
    {
     "name": "stdout",
     "output_type": "stream",
     "text": [
      "Epoch 5/30 |lr: 0.0001| Train Loss: 0.3295 | Evaluate Loss: 0.1837 | Accuracy: 93.95% | MPS Memory (Alloc/Driver): 0.33/5.10 GB\n",
      "No improvement for 1/3 epochs\n"
     ]
    },
    {
     "name": "stderr",
     "output_type": "stream",
     "text": [
      "Train epoch: 6: 100%|███████████████████████████| 41/41 [00:21<00:00,  1.91it/s]\n",
      "Validate Epoch 6: 100%|█████████████████████████| 24/24 [08:26<00:00, 21.10s/it]\n"
     ]
    },
    {
     "name": "stdout",
     "output_type": "stream",
     "text": [
      "Epoch 6/30 |lr: 0.0001| Train Loss: 0.3183 | Evaluate Loss: 0.1733 | Accuracy: 94.29% | MPS Memory (Alloc/Driver): 0.33/4.33 GB\n"
     ]
    },
    {
     "name": "stderr",
     "output_type": "stream",
     "text": [
      "Train epoch: 7: 100%|███████████████████████████| 41/41 [00:21<00:00,  1.90it/s]\n",
      "Validate Epoch 7: 100%|█████████████████████████| 24/24 [00:05<00:00,  4.57it/s]\n"
     ]
    },
    {
     "name": "stdout",
     "output_type": "stream",
     "text": [
      "Epoch 7/30 |lr: 0.0001| Train Loss: 0.3204 | Evaluate Loss: 0.1557 | Accuracy: 94.76% | MPS Memory (Alloc/Driver): 0.33/4.33 GB\n"
     ]
    },
    {
     "name": "stderr",
     "output_type": "stream",
     "text": [
      "Train epoch: 8: 100%|███████████████████████████| 41/41 [00:21<00:00,  1.88it/s]\n",
      "Validate Epoch 8: 100%|█████████████████████████| 24/24 [00:04<00:00,  5.01it/s]\n"
     ]
    },
    {
     "name": "stdout",
     "output_type": "stream",
     "text": [
      "Epoch 8/30 |lr: 0.0001| Train Loss: 0.2956 | Evaluate Loss: 0.1575 | Accuracy: 94.76% | MPS Memory (Alloc/Driver): 0.33/5.10 GB\n",
      "No improvement for 1/3 epochs\n"
     ]
    },
    {
     "name": "stderr",
     "output_type": "stream",
     "text": [
      "Train epoch: 9: 100%|███████████████████████████| 41/41 [00:21<00:00,  1.91it/s]\n",
      "Validate Epoch 9: 100%|█████████████████████████| 24/24 [00:04<00:00,  4.98it/s]\n"
     ]
    },
    {
     "name": "stdout",
     "output_type": "stream",
     "text": [
      "Epoch 9/30 |lr: 0.0001| Train Loss: 0.2767 | Evaluate Loss: 0.1416 | Accuracy: 95.30% | MPS Memory (Alloc/Driver): 0.33/5.10 GB\n"
     ]
    },
    {
     "name": "stderr",
     "output_type": "stream",
     "text": [
      "Train epoch: 10: 100%|██████████████████████████| 41/41 [00:21<00:00,  1.88it/s]\n",
      "Validate Epoch 10: 100%|████████████████████████| 24/24 [00:04<00:00,  4.95it/s]\n"
     ]
    },
    {
     "name": "stdout",
     "output_type": "stream",
     "text": [
      "Epoch 10/30 |lr: 0.0001| Train Loss: 0.2668 | Evaluate Loss: 0.1316 | Accuracy: 95.83% | MPS Memory (Alloc/Driver): 0.33/5.10 GB\n"
     ]
    },
    {
     "name": "stderr",
     "output_type": "stream",
     "text": [
      "Train epoch: 11: 100%|██████████████████████████| 41/41 [00:21<00:00,  1.91it/s]\n",
      "Validate Epoch 11: 100%|████████████████████████| 24/24 [00:04<00:00,  4.92it/s]\n"
     ]
    },
    {
     "name": "stdout",
     "output_type": "stream",
     "text": [
      "Epoch 11/30 |lr: 0.0001| Train Loss: 0.2651 | Evaluate Loss: 0.1350 | Accuracy: 95.56% | MPS Memory (Alloc/Driver): 0.33/5.10 GB\n",
      "No improvement for 1/3 epochs\n"
     ]
    },
    {
     "name": "stderr",
     "output_type": "stream",
     "text": [
      "Train epoch: 12: 100%|██████████████████████████| 41/41 [00:22<00:00,  1.85it/s]\n",
      "Validate Epoch 12: 100%|████████████████████████| 24/24 [00:04<00:00,  4.97it/s]\n"
     ]
    },
    {
     "name": "stdout",
     "output_type": "stream",
     "text": [
      "Epoch 12/30 |lr: 0.0001| Train Loss: 0.2589 | Evaluate Loss: 0.1194 | Accuracy: 96.51% | MPS Memory (Alloc/Driver): 0.33/5.10 GB\n"
     ]
    },
    {
     "name": "stderr",
     "output_type": "stream",
     "text": [
      "Train epoch: 13: 100%|██████████████████████████| 41/41 [00:21<00:00,  1.94it/s]\n",
      "Validate Epoch 13: 100%|████████████████████████| 24/24 [00:04<00:00,  4.98it/s]\n"
     ]
    },
    {
     "name": "stdout",
     "output_type": "stream",
     "text": [
      "Epoch 13/30 |lr: 0.0001| Train Loss: 0.2537 | Evaluate Loss: 0.1127 | Accuracy: 96.37% | MPS Memory (Alloc/Driver): 0.33/5.10 GB\n"
     ]
    },
    {
     "name": "stderr",
     "output_type": "stream",
     "text": [
      "Train epoch: 14: 100%|██████████████████████████| 41/41 [00:21<00:00,  1.93it/s]\n",
      "Validate Epoch 14: 100%|████████████████████████| 24/24 [00:04<00:00,  4.93it/s]\n"
     ]
    },
    {
     "name": "stdout",
     "output_type": "stream",
     "text": [
      "Epoch 14/30 |lr: 0.0001| Train Loss: 0.2613 | Evaluate Loss: 0.1172 | Accuracy: 96.51% | MPS Memory (Alloc/Driver): 0.33/5.10 GB\n",
      "No improvement for 1/3 epochs\n"
     ]
    },
    {
     "name": "stderr",
     "output_type": "stream",
     "text": [
      "Train epoch: 15: 100%|██████████████████████████| 41/41 [00:21<00:00,  1.89it/s]\n",
      "Validate Epoch 15: 100%|████████████████████████| 24/24 [00:04<00:00,  4.92it/s]\n"
     ]
    },
    {
     "name": "stdout",
     "output_type": "stream",
     "text": [
      "Epoch 15/30 |lr: 0.0001| Train Loss: 0.2354 | Evaluate Loss: 0.1192 | Accuracy: 96.51% | MPS Memory (Alloc/Driver): 0.33/5.10 GB\n",
      "No improvement for 2/3 epochs\n"
     ]
    },
    {
     "name": "stderr",
     "output_type": "stream",
     "text": [
      "Train epoch: 16: 100%|██████████████████████████| 41/41 [00:21<00:00,  1.89it/s]\n",
      "Validate Epoch 16: 100%|████████████████████████| 24/24 [00:04<00:00,  4.96it/s]\n"
     ]
    },
    {
     "name": "stdout",
     "output_type": "stream",
     "text": [
      "Epoch 16/30 |lr: 0.0001| Train Loss: 0.2542 | Evaluate Loss: 0.1073 | Accuracy: 96.77% | MPS Memory (Alloc/Driver): 0.33/5.10 GB\n"
     ]
    },
    {
     "name": "stderr",
     "output_type": "stream",
     "text": [
      "Train epoch: 17: 100%|██████████████████████████| 41/41 [00:21<00:00,  1.89it/s]\n",
      "Validate Epoch 17: 100%|████████████████████████| 24/24 [00:04<00:00,  4.93it/s]\n"
     ]
    },
    {
     "name": "stdout",
     "output_type": "stream",
     "text": [
      "Epoch 17/30 |lr: 0.0001| Train Loss: 0.2215 | Evaluate Loss: 0.1042 | Accuracy: 96.91% | MPS Memory (Alloc/Driver): 0.33/5.10 GB\n"
     ]
    },
    {
     "name": "stderr",
     "output_type": "stream",
     "text": [
      "Train epoch: 18: 100%|██████████████████████████| 41/41 [00:21<00:00,  1.89it/s]\n",
      "Validate Epoch 18: 100%|████████████████████████| 24/24 [00:04<00:00,  4.91it/s]\n"
     ]
    },
    {
     "name": "stdout",
     "output_type": "stream",
     "text": [
      "Epoch 18/30 |lr: 0.0001| Train Loss: 0.2253 | Evaluate Loss: 0.1085 | Accuracy: 96.98% | MPS Memory (Alloc/Driver): 0.33/5.10 GB\n",
      "No improvement for 1/3 epochs\n"
     ]
    },
    {
     "name": "stderr",
     "output_type": "stream",
     "text": [
      "Train epoch: 19: 100%|██████████████████████████| 41/41 [00:21<00:00,  1.88it/s]\n",
      "Validate Epoch 19: 100%|████████████████████████| 24/24 [00:04<00:00,  4.87it/s]\n"
     ]
    },
    {
     "name": "stdout",
     "output_type": "stream",
     "text": [
      "Epoch 19/30 |lr: 0.0001| Train Loss: 0.2167 | Evaluate Loss: 0.1090 | Accuracy: 96.98% | MPS Memory (Alloc/Driver): 0.33/5.10 GB\n",
      "No improvement for 2/3 epochs\n"
     ]
    },
    {
     "name": "stderr",
     "output_type": "stream",
     "text": [
      "Train epoch: 20: 100%|██████████████████████████| 41/41 [00:21<00:00,  1.87it/s]\n",
      "Validate Epoch 20: 100%|████████████████████████| 24/24 [00:04<00:00,  4.91it/s]\n"
     ]
    },
    {
     "name": "stdout",
     "output_type": "stream",
     "text": [
      "Epoch 20/30 |lr: 5e-05| Train Loss: 0.2183 | Evaluate Loss: 0.1059 | Accuracy: 97.04% | MPS Memory (Alloc/Driver): 0.33/5.10 GB\n",
      "No improvement for 3/3 epochs\n",
      "Early stopping triggered after 3 epochs\n",
      "Session complete\n",
      "historical data exists! Appending new data.\n",
      "Historical data saved successfully!\n",
      "Early stopping triggered. Moving to next session or finishing training.\n",
      "\n",
      "--- Starting Training Session 3/4 ---\n",
      "\n",
      "Unfreezing feature layer at index: -2\n"
     ]
    },
    {
     "name": "stderr",
     "output_type": "stream",
     "text": [
      "Train epoch: 1: 100%|███████████████████████████| 41/41 [00:22<00:00,  1.83it/s]\n",
      "Validate Epoch 1: 100%|█████████████████████████| 24/24 [00:04<00:00,  4.89it/s]\n"
     ]
    },
    {
     "name": "stdout",
     "output_type": "stream",
     "text": [
      "Epoch 1/40 |lr: 5e-05| Train Loss: 0.2278 | Evaluate Loss: 0.0855 | Accuracy: 97.45% | MPS Memory (Alloc/Driver): 0.38/5.11 GB\n"
     ]
    },
    {
     "name": "stderr",
     "output_type": "stream",
     "text": [
      "Train epoch: 2: 100%|███████████████████████████| 41/41 [00:22<00:00,  1.84it/s]\n",
      "Validate Epoch 2: 100%|█████████████████████████| 24/24 [00:04<00:00,  4.91it/s]\n"
     ]
    },
    {
     "name": "stdout",
     "output_type": "stream",
     "text": [
      "Epoch 2/40 |lr: 5e-05| Train Loss: 0.2076 | Evaluate Loss: 0.0815 | Accuracy: 97.65% | MPS Memory (Alloc/Driver): 0.40/5.11 GB\n"
     ]
    },
    {
     "name": "stderr",
     "output_type": "stream",
     "text": [
      "Train epoch: 3: 100%|███████████████████████████| 41/41 [00:22<00:00,  1.85it/s]\n",
      "Validate Epoch 3: 100%|█████████████████████████| 24/24 [00:04<00:00,  4.92it/s]\n"
     ]
    },
    {
     "name": "stdout",
     "output_type": "stream",
     "text": [
      "Epoch 3/40 |lr: 5e-05| Train Loss: 0.2053 | Evaluate Loss: 0.0812 | Accuracy: 97.51% | MPS Memory (Alloc/Driver): 0.40/5.11 GB\n",
      "No improvement for 1/3 epochs\n"
     ]
    },
    {
     "name": "stderr",
     "output_type": "stream",
     "text": [
      "Train epoch: 4: 100%|███████████████████████████| 41/41 [00:22<00:00,  1.83it/s]\n",
      "Validate Epoch 4: 100%|█████████████████████████| 24/24 [00:04<00:00,  4.93it/s]\n"
     ]
    },
    {
     "name": "stdout",
     "output_type": "stream",
     "text": [
      "Epoch 4/40 |lr: 5e-05| Train Loss: 0.2022 | Evaluate Loss: 0.0859 | Accuracy: 97.98% | MPS Memory (Alloc/Driver): 0.40/5.11 GB\n",
      "No improvement for 2/3 epochs\n"
     ]
    },
    {
     "name": "stderr",
     "output_type": "stream",
     "text": [
      "Train epoch: 5: 100%|███████████████████████████| 41/41 [00:22<00:00,  1.85it/s]\n",
      "Validate Epoch 5: 100%|█████████████████████████| 24/24 [00:04<00:00,  4.95it/s]\n"
     ]
    },
    {
     "name": "stdout",
     "output_type": "stream",
     "text": [
      "Epoch 5/40 |lr: 5e-05| Train Loss: 0.1772 | Evaluate Loss: 0.0741 | Accuracy: 97.78% | MPS Memory (Alloc/Driver): 0.40/5.11 GB\n"
     ]
    },
    {
     "name": "stderr",
     "output_type": "stream",
     "text": [
      "Train epoch: 6: 100%|███████████████████████████| 41/41 [00:22<00:00,  1.85it/s]\n",
      "Validate Epoch 6: 100%|█████████████████████████| 24/24 [00:04<00:00,  4.93it/s]\n"
     ]
    },
    {
     "name": "stdout",
     "output_type": "stream",
     "text": [
      "Epoch 6/40 |lr: 5e-05| Train Loss: 0.1847 | Evaluate Loss: 0.0677 | Accuracy: 98.05% | MPS Memory (Alloc/Driver): 0.40/5.11 GB\n"
     ]
    },
    {
     "name": "stderr",
     "output_type": "stream",
     "text": [
      "Train epoch: 7: 100%|███████████████████████████| 41/41 [00:22<00:00,  1.85it/s]\n",
      "Validate Epoch 7: 100%|█████████████████████████| 24/24 [00:04<00:00,  4.95it/s]\n"
     ]
    },
    {
     "name": "stdout",
     "output_type": "stream",
     "text": [
      "Epoch 7/40 |lr: 5e-05| Train Loss: 0.1760 | Evaluate Loss: 0.0723 | Accuracy: 97.85% | MPS Memory (Alloc/Driver): 0.40/5.11 GB\n",
      "No improvement for 1/3 epochs\n"
     ]
    },
    {
     "name": "stderr",
     "output_type": "stream",
     "text": [
      "Train epoch: 8: 100%|███████████████████████████| 41/41 [00:22<00:00,  1.85it/s]\n",
      "Validate Epoch 8: 100%|█████████████████████████| 24/24 [00:04<00:00,  4.92it/s]\n"
     ]
    },
    {
     "name": "stdout",
     "output_type": "stream",
     "text": [
      "Epoch 8/40 |lr: 5e-05| Train Loss: 0.1723 | Evaluate Loss: 0.0637 | Accuracy: 98.05% | MPS Memory (Alloc/Driver): 0.40/5.11 GB\n"
     ]
    },
    {
     "name": "stderr",
     "output_type": "stream",
     "text": [
      "Train epoch: 9: 100%|███████████████████████████| 41/41 [00:22<00:00,  1.84it/s]\n",
      "Validate Epoch 9: 100%|█████████████████████████| 24/24 [00:04<00:00,  4.89it/s]\n"
     ]
    },
    {
     "name": "stdout",
     "output_type": "stream",
     "text": [
      "Epoch 9/40 |lr: 5e-05| Train Loss: 0.1675 | Evaluate Loss: 0.0604 | Accuracy: 98.12% | MPS Memory (Alloc/Driver): 0.40/5.11 GB\n"
     ]
    },
    {
     "name": "stderr",
     "output_type": "stream",
     "text": [
      "Train epoch: 10: 100%|██████████████████████████| 41/41 [00:22<00:00,  1.85it/s]\n",
      "Validate Epoch 10: 100%|████████████████████████| 24/24 [00:04<00:00,  4.91it/s]\n"
     ]
    },
    {
     "name": "stdout",
     "output_type": "stream",
     "text": [
      "Epoch 10/40 |lr: 5e-05| Train Loss: 0.1670 | Evaluate Loss: 0.0578 | Accuracy: 98.25% | MPS Memory (Alloc/Driver): 0.40/5.11 GB\n"
     ]
    },
    {
     "name": "stderr",
     "output_type": "stream",
     "text": [
      "Train epoch: 11: 100%|██████████████████████████| 41/41 [00:21<00:00,  1.87it/s]\n",
      "Validate Epoch 11: 100%|████████████████████████| 24/24 [00:04<00:00,  4.85it/s]\n"
     ]
    },
    {
     "name": "stdout",
     "output_type": "stream",
     "text": [
      "Epoch 11/40 |lr: 5e-05| Train Loss: 0.1549 | Evaluate Loss: 0.0533 | Accuracy: 98.19% | MPS Memory (Alloc/Driver): 0.40/5.11 GB\n"
     ]
    },
    {
     "name": "stderr",
     "output_type": "stream",
     "text": [
      "Train epoch: 12: 100%|██████████████████████████| 41/41 [00:22<00:00,  1.84it/s]\n",
      "Validate Epoch 12: 100%|████████████████████████| 24/24 [00:04<00:00,  4.92it/s]\n"
     ]
    },
    {
     "name": "stdout",
     "output_type": "stream",
     "text": [
      "Epoch 12/40 |lr: 5e-05| Train Loss: 0.1492 | Evaluate Loss: 0.0482 | Accuracy: 98.52% | MPS Memory (Alloc/Driver): 0.40/5.11 GB\n"
     ]
    },
    {
     "name": "stderr",
     "output_type": "stream",
     "text": [
      "Train epoch: 13: 100%|██████████████████████████| 41/41 [00:22<00:00,  1.84it/s]\n",
      "Validate Epoch 13: 100%|████████████████████████| 24/24 [00:04<00:00,  4.92it/s]\n"
     ]
    },
    {
     "name": "stdout",
     "output_type": "stream",
     "text": [
      "Epoch 13/40 |lr: 5e-05| Train Loss: 0.1528 | Evaluate Loss: 0.0479 | Accuracy: 98.45% | MPS Memory (Alloc/Driver): 0.40/5.11 GB\n",
      "No improvement for 1/3 epochs\n"
     ]
    },
    {
     "name": "stderr",
     "output_type": "stream",
     "text": [
      "Train epoch: 14: 100%|██████████████████████████| 41/41 [00:22<00:00,  1.85it/s]\n",
      "Validate Epoch 14: 100%|████████████████████████| 24/24 [00:04<00:00,  4.92it/s]\n"
     ]
    },
    {
     "name": "stdout",
     "output_type": "stream",
     "text": [
      "Epoch 14/40 |lr: 5e-05| Train Loss: 0.1489 | Evaluate Loss: 0.0470 | Accuracy: 98.45% | MPS Memory (Alloc/Driver): 0.40/5.11 GB\n"
     ]
    },
    {
     "name": "stderr",
     "output_type": "stream",
     "text": [
      "Train epoch: 15: 100%|██████████████████████████| 41/41 [00:22<00:00,  1.85it/s]\n",
      "Validate Epoch 15: 100%|████████████████████████| 24/24 [00:04<00:00,  4.94it/s]\n"
     ]
    },
    {
     "name": "stdout",
     "output_type": "stream",
     "text": [
      "Epoch 15/40 |lr: 5e-05| Train Loss: 0.1404 | Evaluate Loss: 0.0547 | Accuracy: 98.52% | MPS Memory (Alloc/Driver): 0.40/5.11 GB\n",
      "No improvement for 1/3 epochs\n"
     ]
    },
    {
     "name": "stderr",
     "output_type": "stream",
     "text": [
      "Train epoch: 16: 100%|██████████████████████████| 41/41 [00:22<00:00,  1.85it/s]\n",
      "Validate Epoch 16: 100%|████████████████████████| 24/24 [00:04<00:00,  4.86it/s]\n"
     ]
    },
    {
     "name": "stdout",
     "output_type": "stream",
     "text": [
      "Epoch 16/40 |lr: 5e-05| Train Loss: 0.1455 | Evaluate Loss: 0.0447 | Accuracy: 98.66% | MPS Memory (Alloc/Driver): 0.40/5.11 GB\n"
     ]
    },
    {
     "name": "stderr",
     "output_type": "stream",
     "text": [
      "Train epoch: 17: 100%|██████████████████████████| 41/41 [00:22<00:00,  1.84it/s]\n",
      "Validate Epoch 17: 100%|████████████████████████| 24/24 [00:04<00:00,  4.92it/s]\n"
     ]
    },
    {
     "name": "stdout",
     "output_type": "stream",
     "text": [
      "Epoch 17/40 |lr: 5e-05| Train Loss: 0.1490 | Evaluate Loss: 0.0464 | Accuracy: 98.79% | MPS Memory (Alloc/Driver): 0.40/5.11 GB\n",
      "No improvement for 1/3 epochs\n"
     ]
    },
    {
     "name": "stderr",
     "output_type": "stream",
     "text": [
      "Train epoch: 18: 100%|██████████████████████████| 41/41 [00:22<00:00,  1.85it/s]\n",
      "Validate Epoch 18: 100%|████████████████████████| 24/24 [00:04<00:00,  4.88it/s]\n"
     ]
    },
    {
     "name": "stdout",
     "output_type": "stream",
     "text": [
      "Epoch 18/40 |lr: 5e-05| Train Loss: 0.1379 | Evaluate Loss: 0.0386 | Accuracy: 98.66% | MPS Memory (Alloc/Driver): 0.40/5.11 GB\n"
     ]
    },
    {
     "name": "stderr",
     "output_type": "stream",
     "text": [
      "Train epoch: 19: 100%|██████████████████████████| 41/41 [00:22<00:00,  1.84it/s]\n",
      "Validate Epoch 19: 100%|████████████████████████| 24/24 [00:04<00:00,  4.88it/s]\n"
     ]
    },
    {
     "name": "stdout",
     "output_type": "stream",
     "text": [
      "Epoch 19/40 |lr: 5e-05| Train Loss: 0.1329 | Evaluate Loss: 0.0401 | Accuracy: 98.66% | MPS Memory (Alloc/Driver): 0.40/5.11 GB\n",
      "No improvement for 1/3 epochs\n"
     ]
    },
    {
     "name": "stderr",
     "output_type": "stream",
     "text": [
      "Train epoch: 20: 100%|██████████████████████████| 41/41 [00:22<00:00,  1.85it/s]\n",
      "Validate Epoch 20: 100%|████████████████████████| 24/24 [00:04<00:00,  4.90it/s]\n"
     ]
    },
    {
     "name": "stdout",
     "output_type": "stream",
     "text": [
      "Epoch 20/40 |lr: 5e-05| Train Loss: 0.1342 | Evaluate Loss: 0.0416 | Accuracy: 98.79% | MPS Memory (Alloc/Driver): 0.40/5.11 GB\n",
      "No improvement for 2/3 epochs\n"
     ]
    },
    {
     "name": "stderr",
     "output_type": "stream",
     "text": [
      "Train epoch: 21: 100%|██████████████████████████| 41/41 [00:22<00:00,  1.86it/s]\n",
      "Validate Epoch 21: 100%|████████████████████████| 24/24 [00:04<00:00,  4.91it/s]\n"
     ]
    },
    {
     "name": "stdout",
     "output_type": "stream",
     "text": [
      "Epoch 21/40 |lr: 5e-05| Train Loss: 0.1258 | Evaluate Loss: 0.0383 | Accuracy: 98.79% | MPS Memory (Alloc/Driver): 0.40/5.11 GB\n",
      "No improvement for 3/3 epochs\n",
      "Early stopping triggered after 3 epochs\n",
      "Session complete\n",
      "historical data exists! Appending new data.\n",
      "Historical data saved successfully!\n",
      "Early stopping triggered. Moving to next session or finishing training.\n",
      "\n",
      "--- Starting Training Session 4/4 ---\n",
      "\n",
      "Unfreezing feature layer at index: -3\n"
     ]
    },
    {
     "name": "stderr",
     "output_type": "stream",
     "text": [
      "Train epoch: 1: 100%|███████████████████████████| 41/41 [00:22<00:00,  1.81it/s]\n",
      "Validate Epoch 1: 100%|█████████████████████████| 24/24 [00:04<00:00,  4.91it/s]\n"
     ]
    },
    {
     "name": "stdout",
     "output_type": "stream",
     "text": [
      "Epoch 1/50 |lr: 1e-05| Train Loss: 0.1324 | Evaluate Loss: 0.0395 | Accuracy: 98.86% | MPS Memory (Alloc/Driver): 0.36/5.11 GB\n"
     ]
    },
    {
     "name": "stderr",
     "output_type": "stream",
     "text": [
      "Train epoch: 2: 100%|███████████████████████████| 41/41 [00:22<00:00,  1.81it/s]\n",
      "Validate Epoch 2: 100%|█████████████████████████| 24/24 [00:04<00:00,  4.91it/s]\n"
     ]
    },
    {
     "name": "stdout",
     "output_type": "stream",
     "text": [
      "Epoch 2/50 |lr: 1e-05| Train Loss: 0.1345 | Evaluate Loss: 0.0356 | Accuracy: 98.92% | MPS Memory (Alloc/Driver): 0.39/5.11 GB\n"
     ]
    },
    {
     "name": "stderr",
     "output_type": "stream",
     "text": [
      "Train epoch: 3: 100%|███████████████████████████| 41/41 [00:22<00:00,  1.82it/s]\n",
      "Validate Epoch 3: 100%|█████████████████████████| 24/24 [00:04<00:00,  4.94it/s]\n"
     ]
    },
    {
     "name": "stdout",
     "output_type": "stream",
     "text": [
      "Epoch 3/50 |lr: 1e-05| Train Loss: 0.1341 | Evaluate Loss: 0.0396 | Accuracy: 98.72% | MPS Memory (Alloc/Driver): 0.39/5.11 GB\n",
      "No improvement for 1/3 epochs\n"
     ]
    },
    {
     "name": "stderr",
     "output_type": "stream",
     "text": [
      "Train epoch: 4: 100%|███████████████████████████| 41/41 [00:22<00:00,  1.81it/s]\n",
      "Validate Epoch 4: 100%|█████████████████████████| 24/24 [00:04<00:00,  4.89it/s]\n"
     ]
    },
    {
     "name": "stdout",
     "output_type": "stream",
     "text": [
      "Epoch 4/50 |lr: 1e-05| Train Loss: 0.1309 | Evaluate Loss: 0.0422 | Accuracy: 98.79% | MPS Memory (Alloc/Driver): 0.39/5.11 GB\n",
      "No improvement for 2/3 epochs\n"
     ]
    },
    {
     "name": "stderr",
     "output_type": "stream",
     "text": [
      "Train epoch: 5: 100%|███████████████████████████| 41/41 [00:22<00:00,  1.82it/s]\n",
      "Validate Epoch 5: 100%|█████████████████████████| 24/24 [00:04<00:00,  4.93it/s]"
     ]
    },
    {
     "name": "stdout",
     "output_type": "stream",
     "text": [
      "Epoch 5/50 |lr: 1e-05| Train Loss: 0.1247 | Evaluate Loss: 0.0355 | Accuracy: 98.79% | MPS Memory (Alloc/Driver): 0.39/5.11 GB\n",
      "No improvement for 3/3 epochs\n",
      "Early stopping triggered after 3 epochs\n",
      "Session complete\n",
      "historical data exists! Appending new data.\n",
      "Historical data saved successfully!\n",
      "Early stopping triggered. Moving to next session or finishing training.\n",
      "\n",
      "--- Incremental training finished. Best overall accuracy: inf% ---\n"
     ]
    },
    {
     "name": "stderr",
     "output_type": "stream",
     "text": [
      "\n"
     ]
    },
    {
     "data": {
      "image/png": "[encoded data removed]",
      "text/plain": [
       "<Figure size 1000x600 with 1 Axes>"
      ]
     },
     "metadata": {},
     "output_type": "display_data"
    },
    {
     "data": {
      "image/png": "[encoded data removed]",
      "text/plain": [
       "<Figure size 1000x600 with 1 Axes>"
      ]
     },
     "metadata": {},
     "output_type": "display_data"
    }
   ],
   "source": [
    "import torch.optim as optim\n",
    "\n",
    "if torch.cuda.is_available():\n",
    "    hardware = torch.device(\"cuda\")\n",
    "elif torch.backends.mps.is_available():\n",
    "    hardware = torch.device(\"mps\")\n",
    "else:\n",
    "    hardware = torch.device(\"cpu\")\n",
    "classes = 5\n",
    "learning_rate = 1e-3\n",
    "weight_decay = 1e-2\n",
    "criterion = nn.CrossEntropyLoss()\n",
    "\n",
    "model = LeafDiseaseClassifierMobileNetV2(num_classes=classes).to(hardware)\n",
    "\n",
    "model_dir = '/Users/jameskierdoliguez/Desktop/models/MobileNetV2/MobileNetV2-m_rice_leaf_disease_classificationV1.pt'\n",
    "file_name = '/Users/jameskierdoliguez/Desktop/train_results/MobileNetV2/MobileNetV2-m_rice_leaf_disease_classificationV1.csv'\n",
    "\n",
    "training_sessions = [\n",
    "\n",
    "    {'epochs': 20, 'lr': 5e-4, 'unfreeze_layer': 0},\n",
    "\n",
    "    {'epochs': 30, 'lr': 1e-4, 'unfreeze_layer': 1},\n",
    "\n",
    "    {'epochs': 40, 'lr': 5e-5, 'unfreeze_layer': 2},\n",
    "\n",
    "    {'epochs': 50, 'lr': 1e-5, 'unfreeze_layer': 3},\n",
    "\n",
    "]\n",
    "\n",
    "result, accuracies = incremental_training(model=model, sessions=training_sessions, criterion=criterion, train_dataloader=train_loader, validation_dataloader=validation_loader, device=hardware, model_dir=model_dir, filename=file_name)\n",
    "\n",
    "plot_training_result(*result)\n",
    "plot_accuracy(*result)"
   ]
  },
  {
   "cell_type": "code",
   "execution_count": null,
   "id": "882359a5",
   "metadata": {},
   "outputs": [],
   "source": [
    "import torch.optim as optim\n",
    "\n",
    "if torch.cuda.is_available():\n",
    "    hardware = torch.device(\"cuda\")\n",
    "elif torch.backends.mps.is_available():\n",
    "    hardware = torch.device(\"mps\")\n",
    "else:\n",
    "    hardware = torch.device(\"cpu\")\n",
    "classes = 5\n",
    "learning_rate = 1e-3\n",
    "weight_decay = 1e-2\n",
    "criterion = nn.CrossEntropyLoss()\n",
    "\n",
    "model = LeafDiseaseClassifierEfficientNetV2M(num_classes=classes).to(hardware)\n",
    "\n",
    "model_dir = '/Users/jameskierdoliguez/Desktop/models/EfficientNetV2M/EfficientNetV2M-m_rice_leaf_disease_classificationV1.pt'\n",
    "file_name = '/Users/jameskierdoliguez/Desktop/train_results/EfficientNetV2M/EfficientNetV2M-m_rice_pest_classificationV1.csv'\n",
    "\n",
    "training_sessions = [\n",
    "\n",
    "    {'epochs': 10, 'lr': 5e-4, 'unfreeze_layer': 0},\n",
    "\n",
    "    {'epochs': 20, 'lr': 1e-4, 'unfreeze_layer': 1},\n",
    "\n",
    "    {'epochs': 30, 'lr': 5e-5, 'unfreeze_layer': 2},\n",
    "\n",
    "    {'epochs': 40, 'lr': 1e-5, 'unfreeze_layer': 3},\n",
    "\n",
    "]\n",
    "\n",
    "result, accuracies = incremental_training(model=model, sessions=training_sessions, criterion=criterion, train_dataloader=train_loader, validation_dataloader=validation_loader, device=hardware, model_dir=model_dir)\n",
    "\n",
    "plot_training_result(*result)\n",
    "plot_accuracy(*result)"
   ]
  },
  {
   "cell_type": "code",
   "execution_count": 14,
   "id": "cbe84fc81ca83737",
   "metadata": {
    "ExecuteTime": {
     "end_time": "2025-08-22T13:29:13.989625Z",
     "start_time": "2025-08-22T13:29:13.059797Z"
    }
   },
   "outputs": [
    {
     "data": {
      "image/png": "[encoded data removed]",
      "text/plain": [
       "<Figure size 1000x1200 with 2 Axes>"
      ]
     },
     "metadata": {},
     "output_type": "display_data"
    }
   ],
   "source": [
    "plot_historical_results('/Users/jameskierdoliguez/Desktop/train_results/MobileNetV2/MobileNetV2-m_rice_pest_classificationV1.csv')"
   ]
  },
  {
   "cell_type": "code",
   "execution_count": 15,
   "id": "36f273afec54bdf9",
   "metadata": {},
   "outputs": [
    {
     "name": "stdout",
     "output_type": "stream",
     "text": [
      "--- Starting Incremental Training ---\n",
      "Training images: 5184\n",
      "Validation images: 1488\n",
      "\n",
      "--- Starting Training Session 1/7 ---\n"
     ]
    },
    {
     "name": "stderr",
     "output_type": "stream",
     "text": [
      "Train epoch: 1: 100%|███████████████████████████| 41/41 [00:21<00:00,  1.90it/s]\n",
      "Validate Epoch 1: 100%|█████████████████████████| 24/24 [00:04<00:00,  5.03it/s]\n"
     ]
    },
    {
     "name": "stdout",
     "output_type": "stream",
     "text": [
      "Epoch 1/15 |lr: 0.0005| Train Loss: 1.3236 | Evaluate Loss: 0.9635 | Accuracy: 78.83% | MPS Memory (Alloc/Driver): 0.29/5.12 GB\n"
     ]
    },
    {
     "name": "stderr",
     "output_type": "stream",
     "text": [
      "Train epoch: 2: 100%|███████████████████████████| 41/41 [00:20<00:00,  1.97it/s]\n",
      "Validate Epoch 2: 100%|█████████████████████████| 24/24 [00:04<00:00,  5.25it/s]\n"
     ]
    },
    {
     "name": "stdout",
     "output_type": "stream",
     "text": [
      "Epoch 2/15 |lr: 0.0005| Train Loss: 0.9463 | Evaluate Loss: 0.7097 | Accuracy: 83.13% | MPS Memory (Alloc/Driver): 0.29/4.74 GB\n"
     ]
    },
    {
     "name": "stderr",
     "output_type": "stream",
     "text": [
      "Train epoch: 3: 100%|███████████████████████████| 41/41 [00:20<00:00,  1.96it/s]\n",
      "Validate Epoch 3: 100%|█████████████████████████| 24/24 [00:04<00:00,  4.94it/s]\n"
     ]
    },
    {
     "name": "stdout",
     "output_type": "stream",
     "text": [
      "Epoch 3/15 |lr: 0.0005| Train Loss: 0.8065 | Evaluate Loss: 0.5803 | Accuracy: 85.22% | MPS Memory (Alloc/Driver): 0.29/5.12 GB\n"
     ]
    },
    {
     "name": "stderr",
     "output_type": "stream",
     "text": [
      "Train epoch: 4: 100%|███████████████████████████| 41/41 [00:21<00:00,  1.92it/s]\n",
      "Validate Epoch 4: 100%|█████████████████████████| 24/24 [00:04<00:00,  4.98it/s]\n"
     ]
    },
    {
     "name": "stdout",
     "output_type": "stream",
     "text": [
      "Epoch 4/15 |lr: 0.0005| Train Loss: 0.7058 | Evaluate Loss: 0.5145 | Accuracy: 86.29% | MPS Memory (Alloc/Driver): 0.29/5.12 GB\n"
     ]
    },
    {
     "name": "stderr",
     "output_type": "stream",
     "text": [
      "Train epoch: 5: 100%|███████████████████████████| 41/41 [00:21<00:00,  1.95it/s]\n",
      "Validate Epoch 5: 100%|█████████████████████████| 24/24 [00:04<00:00,  4.93it/s]\n"
     ]
    },
    {
     "name": "stdout",
     "output_type": "stream",
     "text": [
      "Epoch 5/15 |lr: 0.0005| Train Loss: 0.6390 | Evaluate Loss: 0.4625 | Accuracy: 86.76% | MPS Memory (Alloc/Driver): 0.29/5.12 GB\n"
     ]
    },
    {
     "name": "stderr",
     "output_type": "stream",
     "text": [
      "Train epoch: 6: 100%|███████████████████████████| 41/41 [00:21<00:00,  1.95it/s]\n",
      "Validate Epoch 6: 100%|█████████████████████████| 24/24 [00:04<00:00,  4.98it/s]\n"
     ]
    },
    {
     "name": "stdout",
     "output_type": "stream",
     "text": [
      "Epoch 6/15 |lr: 0.0005| Train Loss: 0.6041 | Evaluate Loss: 0.4299 | Accuracy: 88.17% | MPS Memory (Alloc/Driver): 0.29/5.12 GB\n"
     ]
    },
    {
     "name": "stderr",
     "output_type": "stream",
     "text": [
      "Train epoch: 7: 100%|███████████████████████████| 41/41 [00:20<00:00,  1.96it/s]\n",
      "Validate Epoch 7: 100%|█████████████████████████| 24/24 [00:04<00:00,  4.94it/s]\n"
     ]
    },
    {
     "name": "stdout",
     "output_type": "stream",
     "text": [
      "Epoch 7/15 |lr: 0.0005| Train Loss: 0.5696 | Evaluate Loss: 0.3933 | Accuracy: 88.24% | MPS Memory (Alloc/Driver): 0.29/5.12 GB\n"
     ]
    },
    {
     "name": "stderr",
     "output_type": "stream",
     "text": [
      "Train epoch: 8: 100%|███████████████████████████| 41/41 [00:21<00:00,  1.92it/s]\n",
      "Validate Epoch 8: 100%|█████████████████████████| 24/24 [00:04<00:00,  4.97it/s]\n"
     ]
    },
    {
     "name": "stdout",
     "output_type": "stream",
     "text": [
      "Epoch 8/15 |lr: 0.0005| Train Loss: 0.5499 | Evaluate Loss: 0.3801 | Accuracy: 88.91% | MPS Memory (Alloc/Driver): 0.29/5.12 GB\n"
     ]
    },
    {
     "name": "stderr",
     "output_type": "stream",
     "text": [
      "Train epoch: 9: 100%|███████████████████████████| 41/41 [00:21<00:00,  1.95it/s]\n",
      "Validate Epoch 9: 100%|█████████████████████████| 24/24 [00:04<00:00,  4.94it/s]\n"
     ]
    },
    {
     "name": "stdout",
     "output_type": "stream",
     "text": [
      "Epoch 9/15 |lr: 0.0005| Train Loss: 0.5241 | Evaluate Loss: 0.3569 | Accuracy: 88.91% | MPS Memory (Alloc/Driver): 0.29/5.12 GB\n"
     ]
    },
    {
     "name": "stderr",
     "output_type": "stream",
     "text": [
      "Train epoch: 10: 100%|██████████████████████████| 41/41 [00:21<00:00,  1.94it/s]\n",
      "Validate Epoch 10: 100%|████████████████████████| 24/24 [00:04<00:00,  4.90it/s]\n"
     ]
    },
    {
     "name": "stdout",
     "output_type": "stream",
     "text": [
      "Epoch 10/15 |lr: 0.0005| Train Loss: 0.5124 | Evaluate Loss: 0.3386 | Accuracy: 88.98% | MPS Memory (Alloc/Driver): 0.29/5.12 GB\n"
     ]
    },
    {
     "name": "stderr",
     "output_type": "stream",
     "text": [
      "Train epoch: 11: 100%|██████████████████████████| 41/41 [00:21<00:00,  1.93it/s]\n",
      "Validate Epoch 11: 100%|████████████████████████| 24/24 [00:04<00:00,  4.94it/s]\n"
     ]
    },
    {
     "name": "stdout",
     "output_type": "stream",
     "text": [
      "Epoch 11/15 |lr: 0.0005| Train Loss: 0.4872 | Evaluate Loss: 0.3259 | Accuracy: 89.05% | MPS Memory (Alloc/Driver): 0.29/5.12 GB\n"
     ]
    },
    {
     "name": "stderr",
     "output_type": "stream",
     "text": [
      "Train epoch: 12: 100%|██████████████████████████| 41/41 [00:21<00:00,  1.92it/s]\n",
      "Validate Epoch 12: 100%|████████████████████████| 24/24 [00:04<00:00,  4.94it/s]\n"
     ]
    },
    {
     "name": "stdout",
     "output_type": "stream",
     "text": [
      "Epoch 12/15 |lr: 0.0005| Train Loss: 0.4807 | Evaluate Loss: 0.3148 | Accuracy: 89.18% | MPS Memory (Alloc/Driver): 0.29/5.12 GB\n"
     ]
    },
    {
     "name": "stderr",
     "output_type": "stream",
     "text": [
      "Train epoch: 13: 100%|██████████████████████████| 41/41 [00:21<00:00,  1.91it/s]\n",
      "Validate Epoch 13: 100%|████████████████████████| 24/24 [00:04<00:00,  4.90it/s]\n"
     ]
    },
    {
     "name": "stdout",
     "output_type": "stream",
     "text": [
      "Epoch 13/15 |lr: 0.0005| Train Loss: 0.4672 | Evaluate Loss: 0.3077 | Accuracy: 89.85% | MPS Memory (Alloc/Driver): 0.29/5.12 GB\n"
     ]
    },
    {
     "name": "stderr",
     "output_type": "stream",
     "text": [
      "Train epoch: 14: 100%|██████████████████████████| 41/41 [00:21<00:00,  1.88it/s]\n",
      "Validate Epoch 14: 100%|████████████████████████| 24/24 [00:04<00:00,  4.95it/s]\n"
     ]
    },
    {
     "name": "stdout",
     "output_type": "stream",
     "text": [
      "Epoch 14/15 |lr: 0.0005| Train Loss: 0.4623 | Evaluate Loss: 0.2989 | Accuracy: 89.92% | MPS Memory (Alloc/Driver): 0.29/5.12 GB\n"
     ]
    },
    {
     "name": "stderr",
     "output_type": "stream",
     "text": [
      "Train epoch: 15: 100%|██████████████████████████| 41/41 [00:21<00:00,  1.90it/s]\n",
      "Validate Epoch 15: 100%|████████████████████████| 24/24 [00:04<00:00,  4.97it/s]\n"
     ]
    },
    {
     "name": "stdout",
     "output_type": "stream",
     "text": [
      "Epoch 15/15 |lr: 0.0005| Train Loss: 0.4495 | Evaluate Loss: 0.2773 | Accuracy: 90.52% | MPS Memory (Alloc/Driver): 0.29/5.12 GB\n",
      "Session complete\n",
      "Creating new historical data...\n",
      "Historical data saved successfully!\n",
      "\n",
      "--- Starting Training Session 2/7 ---\n",
      "\n",
      "Unfreezing feature layer at index: -1\n"
     ]
    },
    {
     "name": "stderr",
     "output_type": "stream",
     "text": [
      "Train epoch: 1: 100%|███████████████████████████| 41/41 [00:21<00:00,  1.93it/s]\n",
      "Validate Epoch 1: 100%|█████████████████████████| 24/24 [00:04<00:00,  4.96it/s]\n"
     ]
    },
    {
     "name": "stdout",
     "output_type": "stream",
     "text": [
      "Epoch 1/25 |lr: 0.0001| Train Loss: 0.4190 | Evaluate Loss: 0.2550 | Accuracy: 90.73% | MPS Memory (Alloc/Driver): 0.30/5.12 GB\n"
     ]
    },
    {
     "name": "stderr",
     "output_type": "stream",
     "text": [
      "Train epoch: 2: 100%|███████████████████████████| 41/41 [00:21<00:00,  1.90it/s]\n",
      "Validate Epoch 2: 100%|█████████████████████████| 24/24 [00:04<00:00,  4.93it/s]\n"
     ]
    },
    {
     "name": "stdout",
     "output_type": "stream",
     "text": [
      "Epoch 2/25 |lr: 0.0001| Train Loss: 0.4044 | Evaluate Loss: 0.2418 | Accuracy: 91.33% | MPS Memory (Alloc/Driver): 0.30/5.12 GB\n"
     ]
    },
    {
     "name": "stderr",
     "output_type": "stream",
     "text": [
      "Train epoch: 3: 100%|███████████████████████████| 41/41 [00:21<00:00,  1.89it/s]\n",
      "Validate Epoch 3: 100%|█████████████████████████| 24/24 [00:04<00:00,  4.95it/s]\n"
     ]
    },
    {
     "name": "stdout",
     "output_type": "stream",
     "text": [
      "Epoch 3/25 |lr: 0.0001| Train Loss: 0.3789 | Evaluate Loss: 0.2162 | Accuracy: 92.41% | MPS Memory (Alloc/Driver): 0.30/5.12 GB\n"
     ]
    },
    {
     "name": "stderr",
     "output_type": "stream",
     "text": [
      "Train epoch: 4: 100%|███████████████████████████| 41/41 [00:21<00:00,  1.89it/s]\n",
      "Validate Epoch 4: 100%|█████████████████████████| 24/24 [00:04<00:00,  4.94it/s]\n"
     ]
    },
    {
     "name": "stdout",
     "output_type": "stream",
     "text": [
      "Epoch 4/25 |lr: 0.0001| Train Loss: 0.3600 | Evaluate Loss: 0.2007 | Accuracy: 93.48% | MPS Memory (Alloc/Driver): 0.30/5.12 GB\n"
     ]
    },
    {
     "name": "stderr",
     "output_type": "stream",
     "text": [
      "Train epoch: 5: 100%|███████████████████████████| 41/41 [00:21<00:00,  1.88it/s]\n",
      "Validate Epoch 5: 100%|█████████████████████████| 24/24 [00:04<00:00,  4.91it/s]\n"
     ]
    },
    {
     "name": "stdout",
     "output_type": "stream",
     "text": [
      "Epoch 5/25 |lr: 0.0001| Train Loss: 0.3358 | Evaluate Loss: 0.1841 | Accuracy: 93.82% | MPS Memory (Alloc/Driver): 0.30/5.12 GB\n"
     ]
    },
    {
     "name": "stderr",
     "output_type": "stream",
     "text": [
      "Train epoch: 6: 100%|███████████████████████████| 41/41 [00:21<00:00,  1.88it/s]\n",
      "Validate Epoch 6: 100%|█████████████████████████| 24/24 [00:04<00:00,  4.91it/s]\n"
     ]
    },
    {
     "name": "stdout",
     "output_type": "stream",
     "text": [
      "Epoch 6/25 |lr: 0.0001| Train Loss: 0.3420 | Evaluate Loss: 0.1802 | Accuracy: 93.88% | MPS Memory (Alloc/Driver): 0.30/5.12 GB\n"
     ]
    },
    {
     "name": "stderr",
     "output_type": "stream",
     "text": [
      "Train epoch: 7: 100%|███████████████████████████| 41/41 [00:22<00:00,  1.86it/s]\n",
      "Validate Epoch 7: 100%|█████████████████████████| 24/24 [00:05<00:00,  4.72it/s]\n"
     ]
    },
    {
     "name": "stdout",
     "output_type": "stream",
     "text": [
      "Epoch 7/25 |lr: 0.0001| Train Loss: 0.3097 | Evaluate Loss: 0.1724 | Accuracy: 94.35% | MPS Memory (Alloc/Driver): 0.30/4.36 GB\n"
     ]
    },
    {
     "name": "stderr",
     "output_type": "stream",
     "text": [
      "Train epoch: 8: 100%|███████████████████████████| 41/41 [00:21<00:00,  1.88it/s]\n",
      "Validate Epoch 8: 100%|█████████████████████████| 24/24 [00:04<00:00,  5.18it/s]\n"
     ]
    },
    {
     "name": "stdout",
     "output_type": "stream",
     "text": [
      "Epoch 8/25 |lr: 0.0001| Train Loss: 0.3053 | Evaluate Loss: 0.1642 | Accuracy: 94.76% | MPS Memory (Alloc/Driver): 0.30/5.12 GB\n"
     ]
    },
    {
     "name": "stderr",
     "output_type": "stream",
     "text": [
      "Train epoch: 9: 100%|███████████████████████████| 41/41 [00:20<00:00,  1.99it/s]\n",
      "Validate Epoch 9: 100%|█████████████████████████| 24/24 [00:04<00:00,  5.33it/s]\n"
     ]
    },
    {
     "name": "stdout",
     "output_type": "stream",
     "text": [
      "Epoch 9/25 |lr: 0.0001| Train Loss: 0.2877 | Evaluate Loss: 0.1473 | Accuracy: 95.30% | MPS Memory (Alloc/Driver): 0.30/5.12 GB\n"
     ]
    },
    {
     "name": "stderr",
     "output_type": "stream",
     "text": [
      "Train epoch: 10: 100%|██████████████████████████| 41/41 [00:21<00:00,  1.93it/s]\n",
      "Validate Epoch 10: 100%|████████████████████████| 24/24 [00:04<00:00,  4.94it/s]\n"
     ]
    },
    {
     "name": "stdout",
     "output_type": "stream",
     "text": [
      "Epoch 10/25 |lr: 0.0001| Train Loss: 0.2840 | Evaluate Loss: 0.1500 | Accuracy: 95.30% | MPS Memory (Alloc/Driver): 0.30/5.12 GB\n",
      "No improvement for 1/3 epochs\n"
     ]
    },
    {
     "name": "stderr",
     "output_type": "stream",
     "text": [
      "Train epoch: 11: 100%|██████████████████████████| 41/41 [00:21<00:00,  1.90it/s]\n",
      "Validate Epoch 11: 100%|████████████████████████| 24/24 [00:04<00:00,  4.93it/s]\n"
     ]
    },
    {
     "name": "stdout",
     "output_type": "stream",
     "text": [
      "Epoch 11/25 |lr: 0.0001| Train Loss: 0.2745 | Evaluate Loss: 0.1319 | Accuracy: 95.90% | MPS Memory (Alloc/Driver): 0.30/5.12 GB\n"
     ]
    },
    {
     "name": "stderr",
     "output_type": "stream",
     "text": [
      "Train epoch: 12: 100%|██████████████████████████| 41/41 [00:21<00:00,  1.93it/s]\n",
      "Validate Epoch 12: 100%|████████████████████████| 24/24 [00:04<00:00,  5.33it/s]\n"
     ]
    },
    {
     "name": "stdout",
     "output_type": "stream",
     "text": [
      "Epoch 12/25 |lr: 0.0001| Train Loss: 0.2555 | Evaluate Loss: 0.1351 | Accuracy: 95.23% | MPS Memory (Alloc/Driver): 0.30/5.12 GB\n",
      "No improvement for 1/3 epochs\n"
     ]
    },
    {
     "name": "stderr",
     "output_type": "stream",
     "text": [
      "Train epoch: 13: 100%|██████████████████████████| 41/41 [00:20<00:00,  1.98it/s]\n",
      "Validate Epoch 13: 100%|████████████████████████| 24/24 [00:04<00:00,  5.05it/s]\n"
     ]
    },
    {
     "name": "stdout",
     "output_type": "stream",
     "text": [
      "Epoch 13/25 |lr: 0.0001| Train Loss: 0.2494 | Evaluate Loss: 0.1286 | Accuracy: 96.03% | MPS Memory (Alloc/Driver): 0.30/5.12 GB\n"
     ]
    },
    {
     "name": "stderr",
     "output_type": "stream",
     "text": [
      "Train epoch: 14: 100%|██████████████████████████| 41/41 [00:20<00:00,  1.98it/s]\n",
      "Validate Epoch 14: 100%|████████████████████████| 24/24 [00:04<00:00,  5.19it/s]\n"
     ]
    },
    {
     "name": "stdout",
     "output_type": "stream",
     "text": [
      "Epoch 14/25 |lr: 0.0001| Train Loss: 0.2512 | Evaluate Loss: 0.1250 | Accuracy: 96.24% | MPS Memory (Alloc/Driver): 0.30/5.12 GB\n"
     ]
    },
    {
     "name": "stderr",
     "output_type": "stream",
     "text": [
      "Train epoch: 15: 100%|██████████████████████████| 41/41 [00:20<00:00,  1.98it/s]\n",
      "Validate Epoch 15: 100%|████████████████████████| 24/24 [00:04<00:00,  5.31it/s]\n"
     ]
    },
    {
     "name": "stdout",
     "output_type": "stream",
     "text": [
      "Epoch 15/25 |lr: 0.0001| Train Loss: 0.2507 | Evaluate Loss: 0.1154 | Accuracy: 96.51% | MPS Memory (Alloc/Driver): 0.30/5.12 GB\n"
     ]
    },
    {
     "name": "stderr",
     "output_type": "stream",
     "text": [
      "Train epoch: 16: 100%|██████████████████████████| 41/41 [00:21<00:00,  1.93it/s]\n",
      "Validate Epoch 16: 100%|████████████████████████| 24/24 [00:04<00:00,  4.92it/s]\n"
     ]
    },
    {
     "name": "stdout",
     "output_type": "stream",
     "text": [
      "Epoch 16/25 |lr: 0.0001| Train Loss: 0.2364 | Evaluate Loss: 0.1163 | Accuracy: 96.44% | MPS Memory (Alloc/Driver): 0.30/5.12 GB\n",
      "No improvement for 1/3 epochs\n"
     ]
    },
    {
     "name": "stderr",
     "output_type": "stream",
     "text": [
      "Train epoch: 17: 100%|██████████████████████████| 41/41 [00:20<00:00,  1.97it/s]\n",
      "Validate Epoch 17: 100%|████████████████████████| 24/24 [00:04<00:00,  5.10it/s]\n"
     ]
    },
    {
     "name": "stdout",
     "output_type": "stream",
     "text": [
      "Epoch 17/25 |lr: 0.0001| Train Loss: 0.2380 | Evaluate Loss: 0.1043 | Accuracy: 96.77% | MPS Memory (Alloc/Driver): 0.30/5.12 GB\n"
     ]
    },
    {
     "name": "stderr",
     "output_type": "stream",
     "text": [
      "Train epoch: 18: 100%|██████████████████████████| 41/41 [00:20<00:00,  1.96it/s]\n",
      "Validate Epoch 18: 100%|████████████████████████| 24/24 [00:04<00:00,  5.18it/s]\n"
     ]
    },
    {
     "name": "stdout",
     "output_type": "stream",
     "text": [
      "Epoch 18/25 |lr: 0.0001| Train Loss: 0.2234 | Evaluate Loss: 0.1062 | Accuracy: 96.71% | MPS Memory (Alloc/Driver): 0.30/5.12 GB\n",
      "No improvement for 1/3 epochs\n"
     ]
    },
    {
     "name": "stderr",
     "output_type": "stream",
     "text": [
      "Train epoch: 19: 100%|██████████████████████████| 41/41 [00:21<00:00,  1.95it/s]\n",
      "Validate Epoch 19: 100%|████████████████████████| 24/24 [00:04<00:00,  5.00it/s]\n"
     ]
    },
    {
     "name": "stdout",
     "output_type": "stream",
     "text": [
      "Epoch 19/25 |lr: 0.0001| Train Loss: 0.2365 | Evaluate Loss: 0.1120 | Accuracy: 96.77% | MPS Memory (Alloc/Driver): 0.30/5.12 GB\n",
      "No improvement for 2/3 epochs\n"
     ]
    },
    {
     "name": "stderr",
     "output_type": "stream",
     "text": [
      "Train epoch: 20: 100%|██████████████████████████| 41/41 [00:21<00:00,  1.91it/s]\n",
      "Validate Epoch 20: 100%|████████████████████████| 24/24 [00:04<00:00,  4.92it/s]\n"
     ]
    },
    {
     "name": "stdout",
     "output_type": "stream",
     "text": [
      "Epoch 20/25 |lr: 0.0001| Train Loss: 0.2162 | Evaluate Loss: 0.0995 | Accuracy: 96.98% | MPS Memory (Alloc/Driver): 0.30/5.12 GB\n"
     ]
    },
    {
     "name": "stderr",
     "output_type": "stream",
     "text": [
      "Train epoch: 21: 100%|██████████████████████████| 41/41 [00:21<00:00,  1.89it/s]\n",
      "Validate Epoch 21: 100%|████████████████████████| 24/24 [00:04<00:00,  4.86it/s]\n"
     ]
    },
    {
     "name": "stdout",
     "output_type": "stream",
     "text": [
      "Epoch 21/25 |lr: 0.0001| Train Loss: 0.2241 | Evaluate Loss: 0.0954 | Accuracy: 97.31% | MPS Memory (Alloc/Driver): 0.30/5.12 GB\n"
     ]
    },
    {
     "name": "stderr",
     "output_type": "stream",
     "text": [
      "Train epoch: 22: 100%|██████████████████████████| 41/41 [00:21<00:00,  1.90it/s]\n",
      "Validate Epoch 22: 100%|████████████████████████| 24/24 [00:04<00:00,  4.93it/s]\n"
     ]
    },
    {
     "name": "stdout",
     "output_type": "stream",
     "text": [
      "Epoch 22/25 |lr: 0.0001| Train Loss: 0.2090 | Evaluate Loss: 0.0925 | Accuracy: 97.24% | MPS Memory (Alloc/Driver): 0.30/5.12 GB\n"
     ]
    },
    {
     "name": "stderr",
     "output_type": "stream",
     "text": [
      "Train epoch: 23: 100%|██████████████████████████| 41/41 [00:21<00:00,  1.91it/s]\n",
      "Validate Epoch 23: 100%|████████████████████████| 24/24 [00:04<00:00,  4.93it/s]\n"
     ]
    },
    {
     "name": "stdout",
     "output_type": "stream",
     "text": [
      "Epoch 23/25 |lr: 0.0001| Train Loss: 0.2088 | Evaluate Loss: 0.0954 | Accuracy: 97.11% | MPS Memory (Alloc/Driver): 0.30/5.12 GB\n",
      "No improvement for 1/3 epochs\n"
     ]
    },
    {
     "name": "stderr",
     "output_type": "stream",
     "text": [
      "Train epoch: 24: 100%|██████████████████████████| 41/41 [00:21<00:00,  1.92it/s]\n",
      "Validate Epoch 24: 100%|████████████████████████| 24/24 [00:04<00:00,  4.96it/s]\n"
     ]
    },
    {
     "name": "stdout",
     "output_type": "stream",
     "text": [
      "Epoch 24/25 |lr: 0.0001| Train Loss: 0.2154 | Evaluate Loss: 0.0910 | Accuracy: 97.31% | MPS Memory (Alloc/Driver): 0.30/5.12 GB\n"
     ]
    },
    {
     "name": "stderr",
     "output_type": "stream",
     "text": [
      "Train epoch: 25: 100%|██████████████████████████| 41/41 [00:21<00:00,  1.91it/s]\n",
      "Validate Epoch 25: 100%|████████████████████████| 24/24 [00:04<00:00,  4.86it/s]\n"
     ]
    },
    {
     "name": "stdout",
     "output_type": "stream",
     "text": [
      "Epoch 25/25 |lr: 0.0001| Train Loss: 0.2025 | Evaluate Loss: 0.0883 | Accuracy: 97.31% | MPS Memory (Alloc/Driver): 0.30/5.12 GB\n",
      "Session complete\n",
      "historical data exists! Appending new data.\n",
      "Historical data saved successfully!\n",
      "\n",
      "--- Starting Training Session 3/7 ---\n",
      "\n",
      "Unfreezing feature layer at index: -2\n"
     ]
    },
    {
     "name": "stderr",
     "output_type": "stream",
     "text": [
      "Train epoch: 1: 100%|███████████████████████████| 41/41 [00:22<00:00,  1.86it/s]\n",
      "Validate Epoch 1: 100%|█████████████████████████| 24/24 [00:04<00:00,  4.92it/s]\n"
     ]
    },
    {
     "name": "stdout",
     "output_type": "stream",
     "text": [
      "Epoch 1/35 |lr: 5e-05| Train Loss: 0.2015 | Evaluate Loss: 0.0787 | Accuracy: 97.58% | MPS Memory (Alloc/Driver): 0.34/5.12 GB\n"
     ]
    },
    {
     "name": "stderr",
     "output_type": "stream",
     "text": [
      "Train epoch: 2: 100%|███████████████████████████| 41/41 [00:22<00:00,  1.85it/s]\n",
      "Validate Epoch 2: 100%|█████████████████████████| 24/24 [00:04<00:00,  4.94it/s]\n"
     ]
    },
    {
     "name": "stdout",
     "output_type": "stream",
     "text": [
      "Epoch 2/35 |lr: 5e-05| Train Loss: 0.1985 | Evaluate Loss: 0.0869 | Accuracy: 97.51% | MPS Memory (Alloc/Driver): 0.34/5.12 GB\n",
      "No improvement for 1/3 epochs\n"
     ]
    },
    {
     "name": "stderr",
     "output_type": "stream",
     "text": [
      "Train epoch: 3: 100%|███████████████████████████| 41/41 [00:22<00:00,  1.84it/s]\n",
      "Validate Epoch 3: 100%|█████████████████████████| 24/24 [00:04<00:00,  4.87it/s]\n"
     ]
    },
    {
     "name": "stdout",
     "output_type": "stream",
     "text": [
      "Epoch 3/35 |lr: 5e-05| Train Loss: 0.1782 | Evaluate Loss: 0.0897 | Accuracy: 97.72% | MPS Memory (Alloc/Driver): 0.34/5.12 GB\n",
      "No improvement for 2/3 epochs\n"
     ]
    },
    {
     "name": "stderr",
     "output_type": "stream",
     "text": [
      "Train epoch: 4: 100%|███████████████████████████| 41/41 [00:22<00:00,  1.84it/s]\n",
      "Validate Epoch 4: 100%|█████████████████████████| 24/24 [00:04<00:00,  4.88it/s]\n"
     ]
    },
    {
     "name": "stdout",
     "output_type": "stream",
     "text": [
      "Epoch 4/35 |lr: 5e-05| Train Loss: 0.1820 | Evaluate Loss: 0.0712 | Accuracy: 97.98% | MPS Memory (Alloc/Driver): 0.34/5.12 GB\n"
     ]
    },
    {
     "name": "stderr",
     "output_type": "stream",
     "text": [
      "Train epoch: 5: 100%|███████████████████████████| 41/41 [00:22<00:00,  1.83it/s]\n",
      "Validate Epoch 5: 100%|█████████████████████████| 24/24 [00:04<00:00,  4.95it/s]\n"
     ]
    },
    {
     "name": "stdout",
     "output_type": "stream",
     "text": [
      "Epoch 5/35 |lr: 5e-05| Train Loss: 0.1713 | Evaluate Loss: 0.0623 | Accuracy: 98.32% | MPS Memory (Alloc/Driver): 0.34/5.12 GB\n"
     ]
    },
    {
     "name": "stderr",
     "output_type": "stream",
     "text": [
      "Train epoch: 6: 100%|███████████████████████████| 41/41 [00:22<00:00,  1.83it/s]\n",
      "Validate Epoch 6: 100%|█████████████████████████| 24/24 [00:04<00:00,  4.96it/s]\n"
     ]
    },
    {
     "name": "stdout",
     "output_type": "stream",
     "text": [
      "Epoch 6/35 |lr: 5e-05| Train Loss: 0.1828 | Evaluate Loss: 0.0630 | Accuracy: 98.12% | MPS Memory (Alloc/Driver): 0.34/5.12 GB\n",
      "No improvement for 1/3 epochs\n"
     ]
    },
    {
     "name": "stderr",
     "output_type": "stream",
     "text": [
      "Train epoch: 7: 100%|███████████████████████████| 41/41 [00:21<00:00,  1.89it/s]\n",
      "Validate Epoch 7: 100%|█████████████████████████| 24/24 [00:04<00:00,  5.20it/s]\n"
     ]
    },
    {
     "name": "stdout",
     "output_type": "stream",
     "text": [
      "Epoch 7/35 |lr: 5e-05| Train Loss: 0.1709 | Evaluate Loss: 0.0588 | Accuracy: 98.32% | MPS Memory (Alloc/Driver): 0.34/5.12 GB\n"
     ]
    },
    {
     "name": "stderr",
     "output_type": "stream",
     "text": [
      "Train epoch: 8: 100%|███████████████████████████| 41/41 [00:20<00:00,  1.97it/s]\n",
      "Validate Epoch 8: 100%|█████████████████████████| 24/24 [00:04<00:00,  5.37it/s]\n"
     ]
    },
    {
     "name": "stdout",
     "output_type": "stream",
     "text": [
      "Epoch 8/35 |lr: 5e-05| Train Loss: 0.1627 | Evaluate Loss: 0.0528 | Accuracy: 98.52% | MPS Memory (Alloc/Driver): 0.34/5.12 GB\n"
     ]
    },
    {
     "name": "stderr",
     "output_type": "stream",
     "text": [
      "Train epoch: 9: 100%|███████████████████████████| 41/41 [00:21<00:00,  1.95it/s]\n",
      "Validate Epoch 9: 100%|█████████████████████████| 24/24 [00:04<00:00,  5.35it/s]\n"
     ]
    },
    {
     "name": "stdout",
     "output_type": "stream",
     "text": [
      "Epoch 9/35 |lr: 5e-05| Train Loss: 0.1470 | Evaluate Loss: 0.0507 | Accuracy: 98.39% | MPS Memory (Alloc/Driver): 0.34/5.12 GB\n"
     ]
    },
    {
     "name": "stderr",
     "output_type": "stream",
     "text": [
      "Train epoch: 10: 100%|██████████████████████████| 41/41 [00:20<00:00,  1.96it/s]\n",
      "Validate Epoch 10: 100%|████████████████████████| 24/24 [00:04<00:00,  5.36it/s]\n"
     ]
    },
    {
     "name": "stdout",
     "output_type": "stream",
     "text": [
      "Epoch 10/35 |lr: 5e-05| Train Loss: 0.1567 | Evaluate Loss: 0.0461 | Accuracy: 98.32% | MPS Memory (Alloc/Driver): 0.34/5.12 GB\n"
     ]
    },
    {
     "name": "stderr",
     "output_type": "stream",
     "text": [
      "Train epoch: 11: 100%|██████████████████████████| 41/41 [00:20<00:00,  1.96it/s]\n",
      "Validate Epoch 11: 100%|████████████████████████| 24/24 [00:04<00:00,  5.37it/s]\n"
     ]
    },
    {
     "name": "stdout",
     "output_type": "stream",
     "text": [
      "Epoch 11/35 |lr: 5e-05| Train Loss: 0.1486 | Evaluate Loss: 0.0647 | Accuracy: 97.85% | MPS Memory (Alloc/Driver): 0.34/5.12 GB\n",
      "No improvement for 1/3 epochs\n"
     ]
    },
    {
     "name": "stderr",
     "output_type": "stream",
     "text": [
      "Train epoch: 12: 100%|██████████████████████████| 41/41 [00:20<00:00,  1.97it/s]\n",
      "Validate Epoch 12: 100%|████████████████████████| 24/24 [00:04<00:00,  5.32it/s]\n"
     ]
    },
    {
     "name": "stdout",
     "output_type": "stream",
     "text": [
      "Epoch 12/35 |lr: 5e-05| Train Loss: 0.1396 | Evaluate Loss: 0.0523 | Accuracy: 98.05% | MPS Memory (Alloc/Driver): 0.34/5.12 GB\n",
      "No improvement for 2/3 epochs\n"
     ]
    },
    {
     "name": "stderr",
     "output_type": "stream",
     "text": [
      "Train epoch: 13: 100%|██████████████████████████| 41/41 [00:21<00:00,  1.94it/s]\n",
      "Validate Epoch 13: 100%|████████████████████████| 24/24 [00:04<00:00,  4.84it/s]\n"
     ]
    },
    {
     "name": "stdout",
     "output_type": "stream",
     "text": [
      "Epoch 13/35 |lr: 2.5e-05| Train Loss: 0.1377 | Evaluate Loss: 0.0518 | Accuracy: 98.32% | MPS Memory (Alloc/Driver): 0.34/5.12 GB\n",
      "No improvement for 3/3 epochs\n",
      "Early stopping triggered after 3 epochs\n",
      "Session complete\n",
      "historical data exists! Appending new data.\n",
      "Historical data saved successfully!\n",
      "Early stopping triggered. Moving to next session or finishing training.\n",
      "\n",
      "--- Starting Training Session 4/7 ---\n",
      "\n",
      "Unfreezing feature layer at index: -3\n"
     ]
    },
    {
     "name": "stderr",
     "output_type": "stream",
     "text": [
      "Train epoch: 1: 100%|███████████████████████████| 41/41 [00:23<00:00,  1.77it/s]\n",
      "Validate Epoch 1: 100%|█████████████████████████| 24/24 [00:04<00:00,  4.98it/s]\n"
     ]
    },
    {
     "name": "stdout",
     "output_type": "stream",
     "text": [
      "Epoch 1/45 |lr: 1e-05| Train Loss: 0.1391 | Evaluate Loss: 0.0460 | Accuracy: 98.66% | MPS Memory (Alloc/Driver): 0.37/5.12 GB\n"
     ]
    },
    {
     "name": "stderr",
     "output_type": "stream",
     "text": [
      "Train epoch: 2: 100%|███████████████████████████| 41/41 [00:21<00:00,  1.88it/s]\n",
      "Validate Epoch 2: 100%|█████████████████████████| 24/24 [00:04<00:00,  5.17it/s]\n"
     ]
    },
    {
     "name": "stdout",
     "output_type": "stream",
     "text": [
      "Epoch 2/45 |lr: 1e-05| Train Loss: 0.1371 | Evaluate Loss: 0.0436 | Accuracy: 98.59% | MPS Memory (Alloc/Driver): 0.37/5.12 GB\n"
     ]
    },
    {
     "name": "stderr",
     "output_type": "stream",
     "text": [
      "Train epoch: 3: 100%|███████████████████████████| 41/41 [00:21<00:00,  1.92it/s]\n",
      "Validate Epoch 3: 100%|█████████████████████████| 24/24 [00:04<00:00,  5.26it/s]\n"
     ]
    },
    {
     "name": "stdout",
     "output_type": "stream",
     "text": [
      "Epoch 3/45 |lr: 1e-05| Train Loss: 0.1382 | Evaluate Loss: 0.0442 | Accuracy: 98.66% | MPS Memory (Alloc/Driver): 0.37/5.12 GB\n",
      "No improvement for 1/3 epochs\n"
     ]
    },
    {
     "name": "stderr",
     "output_type": "stream",
     "text": [
      "Train epoch: 4: 100%|███████████████████████████| 41/41 [00:21<00:00,  1.92it/s]\n",
      "Validate Epoch 4: 100%|█████████████████████████| 24/24 [00:04<00:00,  5.29it/s]\n"
     ]
    },
    {
     "name": "stdout",
     "output_type": "stream",
     "text": [
      "Epoch 4/45 |lr: 1e-05| Train Loss: 0.1430 | Evaluate Loss: 0.0483 | Accuracy: 98.45% | MPS Memory (Alloc/Driver): 0.37/5.12 GB\n",
      "No improvement for 2/3 epochs\n"
     ]
    },
    {
     "name": "stderr",
     "output_type": "stream",
     "text": [
      "Train epoch: 5: 100%|███████████████████████████| 41/41 [00:21<00:00,  1.90it/s]\n",
      "Validate Epoch 5: 100%|█████████████████████████| 24/24 [00:04<00:00,  5.16it/s]\n"
     ]
    },
    {
     "name": "stdout",
     "output_type": "stream",
     "text": [
      "Epoch 5/45 |lr: 5e-06| Train Loss: 0.1488 | Evaluate Loss: 0.0482 | Accuracy: 98.66% | MPS Memory (Alloc/Driver): 0.37/5.12 GB\n",
      "No improvement for 3/3 epochs\n",
      "Early stopping triggered after 3 epochs\n",
      "Session complete\n",
      "historical data exists! Appending new data.\n",
      "Historical data saved successfully!\n",
      "Early stopping triggered. Moving to next session or finishing training.\n",
      "\n",
      "--- Starting Training Session 5/7 ---\n",
      "\n",
      "Unfreezing feature layer at index: -4\n"
     ]
    },
    {
     "name": "stderr",
     "output_type": "stream",
     "text": [
      "Train epoch: 1: 100%|███████████████████████████| 41/41 [00:22<00:00,  1.86it/s]\n",
      "Validate Epoch 1: 100%|█████████████████████████| 24/24 [00:04<00:00,  5.27it/s]\n"
     ]
    },
    {
     "name": "stdout",
     "output_type": "stream",
     "text": [
      "Epoch 1/55 |lr: 5e-06| Train Loss: 0.1247 | Evaluate Loss: 0.0508 | Accuracy: 98.59% | MPS Memory (Alloc/Driver): 0.35/5.12 GB\n"
     ]
    },
    {
     "name": "stderr",
     "output_type": "stream",
     "text": [
      "Train epoch: 2: 100%|███████████████████████████| 41/41 [00:22<00:00,  1.82it/s]\n",
      "Validate Epoch 2: 100%|█████████████████████████| 24/24 [00:04<00:00,  5.30it/s]\n"
     ]
    },
    {
     "name": "stdout",
     "output_type": "stream",
     "text": [
      "Epoch 2/55 |lr: 5e-06| Train Loss: 0.1486 | Evaluate Loss: 0.0560 | Accuracy: 98.66% | MPS Memory (Alloc/Driver): 0.35/5.12 GB\n",
      "No improvement for 1/3 epochs\n"
     ]
    },
    {
     "name": "stderr",
     "output_type": "stream",
     "text": [
      "Train epoch: 3: 100%|███████████████████████████| 41/41 [00:22<00:00,  1.84it/s]\n",
      "Validate Epoch 3: 100%|█████████████████████████| 24/24 [00:04<00:00,  5.23it/s]\n"
     ]
    },
    {
     "name": "stdout",
     "output_type": "stream",
     "text": [
      "Epoch 3/55 |lr: 5e-06| Train Loss: 0.1260 | Evaluate Loss: 0.0520 | Accuracy: 98.52% | MPS Memory (Alloc/Driver): 0.35/5.12 GB\n",
      "No improvement for 2/3 epochs\n"
     ]
    },
    {
     "name": "stderr",
     "output_type": "stream",
     "text": [
      "Train epoch: 4: 100%|███████████████████████████| 41/41 [00:22<00:00,  1.85it/s]\n",
      "Validate Epoch 4: 100%|█████████████████████████| 24/24 [00:04<00:00,  4.95it/s]\n"
     ]
    },
    {
     "name": "stdout",
     "output_type": "stream",
     "text": [
      "Epoch 4/55 |lr: 5e-06| Train Loss: 0.1286 | Evaluate Loss: 0.0456 | Accuracy: 98.66% | MPS Memory (Alloc/Driver): 0.35/5.12 GB\n"
     ]
    },
    {
     "name": "stderr",
     "output_type": "stream",
     "text": [
      "Train epoch: 5: 100%|███████████████████████████| 41/41 [00:22<00:00,  1.85it/s]\n",
      "Validate Epoch 5: 100%|█████████████████████████| 24/24 [00:04<00:00,  5.13it/s]\n"
     ]
    },
    {
     "name": "stdout",
     "output_type": "stream",
     "text": [
      "Epoch 5/55 |lr: 5e-06| Train Loss: 0.1343 | Evaluate Loss: 0.0455 | Accuracy: 98.66% | MPS Memory (Alloc/Driver): 0.35/5.12 GB\n",
      "No improvement for 1/3 epochs\n"
     ]
    },
    {
     "name": "stderr",
     "output_type": "stream",
     "text": [
      "Train epoch: 6: 100%|███████████████████████████| 41/41 [00:22<00:00,  1.86it/s]\n",
      "Validate Epoch 6: 100%|█████████████████████████| 24/24 [00:04<00:00,  5.02it/s]\n"
     ]
    },
    {
     "name": "stdout",
     "output_type": "stream",
     "text": [
      "Epoch 6/55 |lr: 5e-06| Train Loss: 0.1243 | Evaluate Loss: 0.0411 | Accuracy: 98.86% | MPS Memory (Alloc/Driver): 0.35/5.12 GB\n"
     ]
    },
    {
     "name": "stderr",
     "output_type": "stream",
     "text": [
      "Train epoch: 7: 100%|███████████████████████████| 41/41 [00:22<00:00,  1.82it/s]\n",
      "Validate Epoch 7: 100%|█████████████████████████| 24/24 [00:04<00:00,  4.89it/s]\n"
     ]
    },
    {
     "name": "stdout",
     "output_type": "stream",
     "text": [
      "Epoch 7/55 |lr: 5e-06| Train Loss: 0.1353 | Evaluate Loss: 0.0433 | Accuracy: 98.72% | MPS Memory (Alloc/Driver): 0.35/5.12 GB\n",
      "No improvement for 1/3 epochs\n"
     ]
    },
    {
     "name": "stderr",
     "output_type": "stream",
     "text": [
      "Train epoch: 8: 100%|███████████████████████████| 41/41 [00:22<00:00,  1.79it/s]\n",
      "Validate Epoch 8: 100%|█████████████████████████| 24/24 [00:04<00:00,  4.92it/s]\n"
     ]
    },
    {
     "name": "stdout",
     "output_type": "stream",
     "text": [
      "Epoch 8/55 |lr: 5e-06| Train Loss: 0.1306 | Evaluate Loss: 0.0428 | Accuracy: 98.59% | MPS Memory (Alloc/Driver): 0.35/5.12 GB\n",
      "No improvement for 2/3 epochs\n"
     ]
    },
    {
     "name": "stderr",
     "output_type": "stream",
     "text": [
      "Train epoch: 9: 100%|███████████████████████████| 41/41 [00:23<00:00,  1.75it/s]\n",
      "Validate Epoch 9: 100%|█████████████████████████| 24/24 [00:04<00:00,  4.86it/s]\n"
     ]
    },
    {
     "name": "stdout",
     "output_type": "stream",
     "text": [
      "Epoch 9/55 |lr: 2.5e-06| Train Loss: 0.1392 | Evaluate Loss: 0.0440 | Accuracy: 98.52% | MPS Memory (Alloc/Driver): 0.35/5.12 GB\n",
      "No improvement for 3/3 epochs\n",
      "Early stopping triggered after 3 epochs\n",
      "Session complete\n",
      "historical data exists! Appending new data.\n",
      "Historical data saved successfully!\n",
      "Early stopping triggered. Moving to next session or finishing training.\n",
      "\n",
      "--- Starting Training Session 6/7 ---\n",
      "\n",
      "Unfreezing feature layer at index: -5\n"
     ]
    },
    {
     "name": "stderr",
     "output_type": "stream",
     "text": [
      "Train epoch: 1: 100%|███████████████████████████| 41/41 [00:23<00:00,  1.71it/s]\n",
      "Validate Epoch 1: 100%|█████████████████████████| 24/24 [00:04<00:00,  4.89it/s]\n"
     ]
    },
    {
     "name": "stdout",
     "output_type": "stream",
     "text": [
      "Epoch 1/65 |lr: 1e-06| Train Loss: 0.1259 | Evaluate Loss: 0.0392 | Accuracy: 98.86% | MPS Memory (Alloc/Driver): 0.33/5.12 GB\n"
     ]
    },
    {
     "name": "stderr",
     "output_type": "stream",
     "text": [
      "Train epoch: 2: 100%|███████████████████████████| 41/41 [00:23<00:00,  1.74it/s]\n",
      "Validate Epoch 2: 100%|█████████████████████████| 24/24 [00:04<00:00,  4.88it/s]\n"
     ]
    },
    {
     "name": "stdout",
     "output_type": "stream",
     "text": [
      "Epoch 2/65 |lr: 1e-06| Train Loss: 0.1299 | Evaluate Loss: 0.0466 | Accuracy: 98.32% | MPS Memory (Alloc/Driver): 0.33/5.12 GB\n",
      "No improvement for 1/3 epochs\n"
     ]
    },
    {
     "name": "stderr",
     "output_type": "stream",
     "text": [
      "Train epoch: 3: 100%|███████████████████████████| 41/41 [00:23<00:00,  1.75it/s]\n",
      "Validate Epoch 3: 100%|█████████████████████████| 24/24 [00:04<00:00,  4.88it/s]\n"
     ]
    },
    {
     "name": "stdout",
     "output_type": "stream",
     "text": [
      "Epoch 3/65 |lr: 1e-06| Train Loss: 0.1245 | Evaluate Loss: 0.0415 | Accuracy: 98.72% | MPS Memory (Alloc/Driver): 0.33/5.12 GB\n",
      "No improvement for 2/3 epochs\n"
     ]
    },
    {
     "name": "stderr",
     "output_type": "stream",
     "text": [
      "Train epoch: 4: 100%|███████████████████████████| 41/41 [00:23<00:00,  1.74it/s]\n",
      "Validate Epoch 4: 100%|█████████████████████████| 24/24 [00:04<00:00,  4.86it/s]\n"
     ]
    },
    {
     "name": "stdout",
     "output_type": "stream",
     "text": [
      "Epoch 4/65 |lr: 5e-07| Train Loss: 0.1325 | Evaluate Loss: 0.0429 | Accuracy: 98.66% | MPS Memory (Alloc/Driver): 0.33/5.12 GB\n",
      "No improvement for 3/3 epochs\n",
      "Early stopping triggered after 3 epochs\n",
      "Session complete\n",
      "historical data exists! Appending new data.\n",
      "Historical data saved successfully!\n",
      "Early stopping triggered. Moving to next session or finishing training.\n",
      "\n",
      "--- Starting Training Session 7/7 ---\n",
      "\n",
      "Unfreezing feature layer at index: -6\n"
     ]
    },
    {
     "name": "stderr",
     "output_type": "stream",
     "text": [
      "Train epoch: 1: 100%|███████████████████████████| 41/41 [00:24<00:00,  1.67it/s]\n",
      "Validate Epoch 1: 100%|█████████████████████████| 24/24 [00:04<00:00,  4.88it/s]\n"
     ]
    },
    {
     "name": "stdout",
     "output_type": "stream",
     "text": [
      "Epoch 1/75 |lr: 5e-07| Train Loss: 0.1300 | Evaluate Loss: 0.0447 | Accuracy: 98.39% | MPS Memory (Alloc/Driver): 0.33/5.12 GB\n"
     ]
    },
    {
     "name": "stderr",
     "output_type": "stream",
     "text": [
      "Train epoch: 2: 100%|███████████████████████████| 41/41 [00:24<00:00,  1.67it/s]\n",
      "Validate Epoch 2: 100%|█████████████████████████| 24/24 [00:04<00:00,  4.90it/s]\n"
     ]
    },
    {
     "name": "stdout",
     "output_type": "stream",
     "text": [
      "Epoch 2/75 |lr: 5e-07| Train Loss: 0.1323 | Evaluate Loss: 0.0456 | Accuracy: 98.59% | MPS Memory (Alloc/Driver): 0.33/6.70 GB\n",
      "No improvement for 1/3 epochs\n"
     ]
    },
    {
     "name": "stderr",
     "output_type": "stream",
     "text": [
      "Train epoch: 3: 100%|███████████████████████████| 41/41 [00:24<00:00,  1.67it/s]\n",
      "Validate Epoch 3: 100%|█████████████████████████| 24/24 [00:04<00:00,  4.93it/s]\n"
     ]
    },
    {
     "name": "stdout",
     "output_type": "stream",
     "text": [
      "Epoch 3/75 |lr: 5e-07| Train Loss: 0.1340 | Evaluate Loss: 0.0395 | Accuracy: 98.66% | MPS Memory (Alloc/Driver): 0.33/7.27 GB\n"
     ]
    },
    {
     "name": "stderr",
     "output_type": "stream",
     "text": [
      "Train epoch: 4: 100%|███████████████████████████| 41/41 [00:24<00:00,  1.67it/s]\n",
      "Validate Epoch 4: 100%|█████████████████████████| 24/24 [00:04<00:00,  4.98it/s]\n"
     ]
    },
    {
     "name": "stdout",
     "output_type": "stream",
     "text": [
      "Epoch 4/75 |lr: 5e-07| Train Loss: 0.1264 | Evaluate Loss: 0.0421 | Accuracy: 98.66% | MPS Memory (Alloc/Driver): 0.33/7.27 GB\n",
      "No improvement for 1/3 epochs\n"
     ]
    },
    {
     "name": "stderr",
     "output_type": "stream",
     "text": [
      "Train epoch: 5: 100%|███████████████████████████| 41/41 [00:24<00:00,  1.67it/s]\n",
      "Validate Epoch 5: 100%|█████████████████████████| 24/24 [00:04<00:00,  4.93it/s]\n"
     ]
    },
    {
     "name": "stdout",
     "output_type": "stream",
     "text": [
      "Epoch 5/75 |lr: 5e-07| Train Loss: 0.1272 | Evaluate Loss: 0.0429 | Accuracy: 98.66% | MPS Memory (Alloc/Driver): 0.33/7.27 GB\n",
      "No improvement for 2/3 epochs\n"
     ]
    },
    {
     "name": "stderr",
     "output_type": "stream",
     "text": [
      "Train epoch: 6: 100%|███████████████████████████| 41/41 [00:24<00:00,  1.67it/s]\n",
      "Validate Epoch 6: 100%|█████████████████████████| 24/24 [00:04<00:00,  4.96it/s]"
     ]
    },
    {
     "name": "stdout",
     "output_type": "stream",
     "text": [
      "Epoch 6/75 |lr: 2.5e-07| Train Loss: 0.1259 | Evaluate Loss: 0.0407 | Accuracy: 98.39% | MPS Memory (Alloc/Driver): 0.33/7.27 GB\n",
      "No improvement for 3/3 epochs\n",
      "Early stopping triggered after 3 epochs\n",
      "Session complete\n",
      "historical data exists! Appending new data.\n",
      "Historical data saved successfully!\n",
      "Early stopping triggered. Moving to next session or finishing training.\n",
      "\n",
      "--- Incremental training finished. Best overall accuracy: inf% ---\n"
     ]
    },
    {
     "name": "stderr",
     "output_type": "stream",
     "text": [
      "\n"
     ]
    },
    {
     "data": {
      "image/png": "[encoded data removed]",
      "text/plain": [
       "<Figure size 1000x600 with 1 Axes>"
      ]
     },
     "metadata": {},
     "output_type": "display_data"
    },
    {
     "data": {
      "image/png": "[encoded data removed]",
      "text/plain": [
       "<Figure size 1000x600 with 1 Axes>"
      ]
     },
     "metadata": {},
     "output_type": "display_data"
    }
   ],
   "source": [
    "import torch.optim as optim\n",
    "\n",
    "if torch.cuda.is_available():\n",
    "    hardware = torch.device(\"cuda\")\n",
    "elif torch.backends.mps.is_available():\n",
    "    hardware = torch.device(\"mps\")\n",
    "else:\n",
    "    hardware = torch.device(\"cpu\")\n",
    "classes = 5\n",
    "criterion = nn.CrossEntropyLoss()\n",
    "\n",
    "model = LeafDiseaseClassifierMobileNetV2(num_classes=classes).to(hardware)\n",
    "model_dir = '/Users/jameskierdoliguez/Desktop/models/MobileNetV2/MobileNetV2-m_rice_leaf_disease_classificationV2.pt'\n",
    "file_name = '/Users/jameskierdoliguez/Desktop/train_results/MobileNetV2/MobileNetV2-m_rice_leaf_disease_classificationV2.csv'\n",
    "\n",
    "\n",
    "training_sessions = [\n",
    "\n",
    "    {'epochs': 15, 'lr': 5e-4, 'unfreeze_layer': 0},\n",
    "\n",
    "    {'epochs': 25, 'lr': 1e-4, 'unfreeze_layer': 1},\n",
    "\n",
    "    {'epochs': 35, 'lr': 5e-5, 'unfreeze_layer': 2},\n",
    "\n",
    "    {'epochs': 45, 'lr': 1e-5, 'unfreeze_layer': 3},\n",
    "\n",
    "    {'epochs': 55, 'lr': 5e-6, 'unfreeze_layer': 4},\n",
    "\n",
    "    {'epochs': 65, 'lr': 1e-6, 'unfreeze_layer': 5},\n",
    "\n",
    "    {'epochs': 75, 'lr': 5e-7, 'unfreeze_layer': 6}\n",
    "\n",
    "]\n",
    "\n",
    "result, accuracies = incremental_training(model=model, sessions=training_sessions, criterion=criterion, train_dataloader=train_loader, validation_dataloader=validation_loader, device=hardware, model_dir=model_dir, filename=file_name)\n",
    "\n",
    "plot_training_result(*result)\n",
    "plot_accuracy(*result)"
   ]
  },
  {
   "cell_type": "code",
   "execution_count": null,
   "id": "93cd36b6",
   "metadata": {},
   "outputs": [],
   "source": [
    "import torch.optim as optim\n",
    "\n",
    "if torch.cuda.is_available():\n",
    "    hardware = torch.device(\"cuda\")\n",
    "elif torch.backends.mps.is_available():\n",
    "    hardware = torch.device(\"mps\")\n",
    "else:\n",
    "    hardware = torch.device(\"cpu\")\n",
    "classes = 5\n",
    "criterion = nn.CrossEntropyLoss()\n",
    "\n",
    "model = LeafDiseaseClassifierEfficientNetV2M(num_classes=classes).to(hardware)\n",
    "model_dir = '/Users/jameskierdoliguez/Desktop/models/MobileNetV2/MobileNetV2-m_rice_leaf_disease_classificationV2.pt'\n",
    "file_name = '/Users/jameskierdoliguez/Desktop/train_results/MobileNetV2/MobileNetV2-m_rice_leaf_disease_classificationV2.csv'\n",
    "\n",
    "\n",
    "training_sessions = [\n",
    "\n",
    "    {'epochs': 15, 'lr': 5e-4, 'unfreeze_layer': 0},\n",
    "\n",
    "    {'epochs': 25, 'lr': 1e-4, 'unfreeze_layer': 1},\n",
    "\n",
    "    {'epochs': 35, 'lr': 5e-5, 'unfreeze_layer': 2},\n",
    "\n",
    "    {'epochs': 45, 'lr': 1e-5, 'unfreeze_layer': 3},\n",
    "\n",
    "    {'epochs': 55, 'lr': 5e-6, 'unfreeze_layer': 4},\n",
    "\n",
    "    {'epochs': 65, 'lr': 1e-6, 'unfreeze_layer': 5},\n",
    "\n",
    "    {'epochs': 75, 'lr': 5e-7, 'unfreeze_layer': 6}\n",
    "\n",
    "]\n",
    "\n",
    "result, accuracies = incremental_training(model=model, sessions=training_sessions, criterion=criterion, train_dataloader=train_loader, validation_dataloader=validation_loader, device=hardware, model_dir=model_dir, filename=file_name)\n",
    "\n",
    "plot_training_result(*result)\n",
    "plot_accuracy(*result)"
   ]
  },
  {
   "cell_type": "code",
   "execution_count": 20,
   "id": "340b828c2f1ea908",
   "metadata": {
    "ExecuteTime": {
     "end_time": "2025-08-22T11:37:57.911231Z",
     "start_time": "2025-08-22T11:37:57.905323Z"
    }
   },
   "outputs": [],
   "source": [
    "from PIL import Image\n",
    "import numpy as np\n",
    "import torch.nn.functional as F\n",
    "\n",
    "def predict_single_image(model, image_path, classes, transform, device):\n",
    "\n",
    "    model.to(device)\n",
    "\n",
    "    model.eval()\n",
    "\n",
    "    image = Image.open(image_path).convert('RGB')\n",
    "\n",
    "    image_np = np.array(image)\n",
    "\n",
    "    augmented = transform(image=image_np)\n",
    "\n",
    "    image_tensor = augmented['image'].unsqueeze(0).to(device)\n",
    "\n",
    "    with torch.no_grad():\n",
    "        result = model(image_tensor)\n",
    "\n",
    "        probabilities = F.softmax(result, dim=1)\n",
    "\n",
    "        confidence, predicted_index = torch.max(probabilities, 1)\n",
    "        predicted_class = classes[predicted_index.item()]\n",
    "        confidence_score = confidence.item()\n",
    "\n",
    "    return predicted_class, confidence_score, probabilities.squeeze().cpu().numpy()\n"
   ]
  },
  {
   "cell_type": "code",
   "execution_count": 21,
   "id": "3fb753e351ad7371",
   "metadata": {
    "ExecuteTime": {
     "end_time": "2025-08-22T11:37:59.397764Z",
     "start_time": "2025-08-22T11:37:59.171254Z"
    }
   },
   "outputs": [],
   "source": [
    "from sklearn.metrics import classification_report, confusion_matrix, accuracy_score\n",
    "import numpy as np\n",
    "\n",
    "def eval_metrics(model, testLoader, classes_names, device):\n",
    "\n",
    "    model.to(device)\n",
    "    model.eval()\n",
    "\n",
    "    total_predictions = []\n",
    "    true_labels = []\n",
    "\n",
    "    with torch.no_grad():\n",
    "\n",
    "        for input, labels in tqdm(testLoader):\n",
    "            input, labels = input.to(device), labels.to(device)\n",
    "\n",
    "            output = model(input)\n",
    "            _, predicted = torch.max(output, 1)\n",
    "\n",
    "            total_predictions.extend(predicted.cpu().numpy())\n",
    "            true_labels.extend(labels.cpu().numpy())\n",
    "\n",
    "\n",
    "    y_true = np.array(true_labels)\n",
    "    y_pred = np.array(total_predictions)\n",
    "\n",
    "    print('Classification Report')\n",
    "    report = classification_report(y_true, y_pred, target_names=classes_names)\n",
    "\n",
    "    print(report)\n",
    "\n",
    "    print(f\"Accuracy: {accuracy_score(y_true, y_pred)*100:.2f}%\\n\")\n",
    "\n",
    "    print('Confusion Matrix')\n",
    "\n",
    "    matrix = confusion_matrix(y_true, y_pred)\n",
    "\n",
    "    cm_df = pd.DataFrame(matrix, index=classes_names, columns=classes_names)\n",
    "\n",
    "    plt.figure(figsize=(10, 8))\n",
    "    sns.heatmap(cm_df, annot=True, fmt='g', cmap='Blues')\n",
    "    plt.title('Confusion Matrix (standard)')\n",
    "    plt.ylabel('Actual leaf diseases')\n",
    "    plt.xlabel('Predicted leaf diseases')\n",
    "    plt.show()\n",
    "\n",
    "    return y_true, y_pred\n",
    "\n",
    "def save_evalution_result(total_predictions, true_labels):\n",
    "\n",
    "    data = pd.DataFrame({\n",
    "        'True Labels': true_labels,\n",
    "        'Predicted Labels': total_predictions\n",
    "    })\n",
    "\n",
    "    data.to_csv('evalution_result.csv', index=False)\n"
   ]
  },
  {
   "cell_type": "code",
   "execution_count": 22,
   "id": "affbac0d0a0851c8",
   "metadata": {},
   "outputs": [
    {
     "name": "stdout",
     "output_type": "stream",
     "text": [
      "The predicted leaf disease is: sheath_blight\n",
      "Confidence: 87.54%\n",
      "Overall score: [1.2319218e-01 1.1399811e-03 2.4223652e-04 7.7080167e-06 8.7541789e-01]\n"
     ]
    },
    {
     "name": "stderr",
     "output_type": "stream",
     "text": [
      "100%|███████████████████████████████████████████| 24/24 [00:02<00:00,  9.78it/s]\n"
     ]
    },
    {
     "name": "stdout",
     "output_type": "stream",
     "text": [
      "Classification Report\n",
      "                 precision    recall  f1-score   support\n",
      "\n",
      "Bacterialblight       1.00      0.98      0.99       158\n",
      "          Blast       0.98      0.98      0.98       144\n",
      "      Brownspot       0.98      0.98      0.98       149\n",
      "         Tungro       1.00      1.00      1.00       130\n",
      "  sheath_blight       0.98      1.00      0.99       157\n",
      "\n",
      "       accuracy                           0.99       738\n",
      "      macro avg       0.99      0.99      0.99       738\n",
      "   weighted avg       0.99      0.99      0.99       738\n",
      "\n",
      "Accuracy: 98.78%\n",
      "\n",
      "Confusion Matrix\n"
     ]
    },
    {
     "data": {
      "image/png": "[encoded data removed]",
      "text/plain": [
       "<Figure size 1000x800 with 2 Axes>"
      ]
     },
     "metadata": {},
     "output_type": "display_data"
    }
   ],
   "source": [
    "import torchvision.models as models\n",
    "\n",
    "classes_names = train_set.classes\n",
    "if torch.cuda.is_available():\n",
    "    hardware = torch.device(\"cuda\")\n",
    "elif torch.backends.mps.is_available():\n",
    "    hardware = torch.device(\"mps\")\n",
    "else:\n",
    "    hardware = torch.device(\"cpu\")\n",
    "model_inference = LeafDiseaseClassifierMobileNetV2(num_classes=len(classes_names))\n",
    "model_inference.load_state_dict(torch.load(\n",
    "    '/Users/jameskierdoliguez/Desktop/models/MobileNetV2/MobileNetV2-m_rice_leaf_disease_classificationV2.pt', map_location=hardware))\n",
    "\n",
    "image_path = '/Users/jameskierdoliguez/Downloads/archive-3/Rice_Leaf_Diease/Rice_Leaf_Diease/train/bacterial_leaf_blight/bacterial_leaf_blight660.jpg'\n",
    "unrelated = '/Users/jameskierdoliguez/Downloads/FELV-cat.jpg'\n",
    "\n",
    "leaf_disease, confidence_score, over_all_scores = predict_single_image(model=model_inference, image_path=image_path, classes=classes_names, transform=validation_pipeline, device=hardware)\n",
    "\n",
    "print(f\"The predicted leaf disease is: {leaf_disease}\")\n",
    "print(f\"Confidence: {confidence_score * 100:.2f}%\")\n",
    "print(f\"Overall score: {over_all_scores}\")\n",
    "#\n",
    "true, pred = eval_metrics(model_inference, test_loader, classes_names, hardware)"
   ]
  },
  {
   "cell_type": "code",
   "execution_count": 17,
   "id": "71eb9ff1094cad55",
   "metadata": {
    "ExecuteTime": {
     "end_time": "2025-08-22T11:38:45.916325Z",
     "start_time": "2025-08-22T11:38:38.737868Z"
    }
   },
   "outputs": [
    {
     "name": "stdout",
     "output_type": "stream",
     "text": [
      "The predicted pest is: green-leafhopper\n",
      "Confidence: 96.54%\n",
      "Overall score: [2.8930137e-02 9.6535772e-01 2.4244012e-04 1.4524395e-03 3.8111259e-03\n",
      " 2.0627611e-04]\n"
     ]
    },
    {
     "name": "stderr",
     "output_type": "stream",
     "text": [
      "100%|██████████| 34/34 [00:05<00:00,  5.93it/s]\n"
     ]
    },
    {
     "name": "stdout",
     "output_type": "stream",
     "text": [
      "Classification Report\n",
      "                   precision    recall  f1-score   support\n",
      "\n",
      "brown-planthopper       0.95      0.92      0.94       246\n",
      " green-leafhopper       0.93      0.93      0.93       215\n",
      "   rice-black-bug       0.94      1.00      0.97        16\n",
      " rice-leaf-folder       0.96      0.99      0.97       275\n",
      "       stem-borer       0.98      0.97      0.98       197\n",
      "     whorl-maggot       0.96      0.97      0.96       125\n",
      "\n",
      "         accuracy                           0.96      1074\n",
      "        macro avg       0.95      0.96      0.96      1074\n",
      "     weighted avg       0.96      0.96      0.96      1074\n",
      "\n",
      "Accuracy: 95.53%\n",
      "\n",
      "Confusion Matrix\n"
     ]
    },
    {
     "data": {
      "image/png": "[encoded data removed]",
      "text/plain": [
       "<Figure size 1000x800 with 2 Axes>"
      ]
     },
     "metadata": {},
     "output_type": "display_data"
    }
   ],
   "source": [
    "import torchvision.models as models\n",
    "\n",
    "classes_names = train_set.classes\n",
    "if torch.cuda.is_available():\n",
    "    hardware = torch.device(\"cuda\")\n",
    "elif torch.backends.mps.is_available():\n",
    "    hardware = torch.device(\"mps\")\n",
    "else:\n",
    "    hardware = torch.device(\"cpu\")\n",
    "model_inference = LeafDiseaseClassifierEfficientNetV2M(num_classes=len(classes_names))\n",
    "model_inference.load_state_dict(torch.load(\n",
    "    '/Users/jameskierdoliguez/Desktop/models/EfficientNetV2M/EfficientNetV2M-m_rice_leaf_disease_classificationV1_nodecay.pt', map_location=hardware))\n",
    "image_path = 'datasets/val/brown-planthopper/7 (758).jpg'\n",
    "unrelated = 'unrelated_data/imagesz.jpg'\n",
    "\n",
    "leaf_disease, confidence_score, over_all_scores = predict_single_image(model=model_inference, image_path=unrelated, classes=classes_names, transform=validation_pipeline, device=hardware)\n",
    "\n",
    "print(f\"The predicted leaf disease is: {leaf_disease}\")\n",
    "print(f\"Confidence: {confidence_score * 100:.2f}%\")\n",
    "print(f\"Overall score: {over_all_scores}\")\n",
    "\n",
    "true, pred = eval_metrics(model_inference, test_loader, classes_names, hardware)"
   ]
  }
 ],
 "metadata": {
  "kernelspec": {
   "display_name": "Python (Toki)",
   "language": "python",
   "name": "toki"
  },
  "language_info": {
   "codemirror_mode": {
    "name": "ipython",
    "version": 3
   },
   "file_extension": ".py",
   "mimetype": "text/x-python",
   "name": "python",
   "nbconvert_exporter": "python",
   "pygments_lexer": "ipython3",
   "version": "3.12.2"
  }
 },
 "nbformat": 4,
 "nbformat_minor": 5
}
